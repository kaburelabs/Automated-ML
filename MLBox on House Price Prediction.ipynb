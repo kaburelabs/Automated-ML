{
 "cells": [
  {
   "cell_type": "markdown",
   "metadata": {},
   "source": [
    "# Testing mlbox on HousePrice Prediction"
   ]
  },
  {
   "cell_type": "markdown",
   "metadata": {},
   "source": [
    " Leonardo Ferreira 2018-07-09"
   ]
  },
  {
   "cell_type": "markdown",
   "metadata": {},
   "source": [
    "## MLBox \n",
    "AutoML is a automated library and it supports distributed data processing, cleaning, formatting, and state-of-the-art algorithms such as LightGBM and XGBoost. It also supports model stacking, which allows you to combine an information ensemble of models to generate a new model aiming to have better performance than the individual models. <br> website: http://mlbox.readthedocs.io/en/latest/"
   ]
  },
  {
   "cell_type": "code",
   "execution_count": 1,
   "metadata": {},
   "outputs": [],
   "source": [
    "## Importing the librarys"
   ]
  },
  {
   "cell_type": "code",
   "execution_count": 2,
   "metadata": {},
   "outputs": [
    {
     "name": "stderr",
     "output_type": "stream",
     "text": [
      "Using Theano backend.\n",
      "/home/leonardo/anaconda3/lib/python3.6/site-packages/h5py/__init__.py:36: FutureWarning: Conversion of the second argument of issubdtype from `float` to `np.floating` is deprecated. In future, it will be treated as `np.float64 == np.dtype(float).type`.\n",
      "  from ._conv import register_converters as _register_converters\n",
      "/home/leonardo/anaconda3/lib/python3.6/site-packages/sklearn/cross_validation.py:41: DeprecationWarning: This module was deprecated in version 0.18 in favor of the model_selection module into which all the refactored classes and functions are moved. Also note that the interface of the new CV iterators are different from that of this module. This module will be removed in 0.20.\n",
      "  \"This module will be removed in 0.20.\", DeprecationWarning)\n"
     ]
    }
   ],
   "source": [
    "from mlbox.preprocessing import *\n",
    "from mlbox.optimisation import *\n",
    "from mlbox.prediction import *"
   ]
  },
  {
   "cell_type": "code",
   "execution_count": 3,
   "metadata": {},
   "outputs": [],
   "source": [
    "# Seting the variables to before reading"
   ]
  },
  {
   "cell_type": "code",
   "execution_count": 4,
   "metadata": {},
   "outputs": [],
   "source": [
    "paths = [\"train.csv\", \"test.csv\"] #to modify\n",
    "target_name = \"SalePrice\" #to modify"
   ]
  },
  {
   "cell_type": "code",
   "execution_count": 5,
   "metadata": {},
   "outputs": [
    {
     "name": "stdout",
     "output_type": "stream",
     "text": [
      "\n",
      "reading csv : train.csv ...\n",
      "cleaning data ...\n",
      "CPU time: 0.5867280960083008 seconds\n",
      "\n",
      "reading csv : test.csv ...\n",
      "cleaning data ...\n",
      "CPU time: 0.44849133491516113 seconds\n",
      "\n",
      "> Number of common features : 80\n",
      "\n",
      "gathering and crunching for train and test datasets ...\n",
      "reindexing for train and test datasets ...\n",
      "dropping training duplicates ...\n",
      "dropping constant variables on training set ...\n",
      "\n",
      "> Number of categorical features: 43\n",
      "> Number of numerical features: 37\n",
      "> Number of training samples : 1460\n",
      "> Number of test samples : 1459\n",
      "\n",
      "> Top sparse features (% missing values on train set):\n",
      "PoolQC         99.5\n",
      "MiscFeature    96.3\n",
      "Alley          93.8\n",
      "Fence          80.8\n",
      "FireplaceQu    47.3\n",
      "dtype: float64\n",
      "\n",
      "> Task : regression\n",
      "count      1460.000000\n",
      "mean     180921.195890\n",
      "std       79442.502883\n",
      "min       34900.000000\n",
      "25%      129975.000000\n",
      "50%      163000.000000\n",
      "75%      214000.000000\n",
      "max      755000.000000\n",
      "Name: SalePrice, dtype: float64\n",
      "\n",
      "computing drifts ...\n",
      "CPU time: 1.5090322494506836 seconds\n",
      "\n",
      "> Top 10 drifts\n",
      "\n",
      "('Id', 0.9986291974369093)\n",
      "('TotalBsmtSF', 0.06840551646772663)\n",
      "('Exterior2nd', 0.060459935168517775)\n",
      "('GarageArea', 0.05292075788944772)\n",
      "('Condition1', 0.04453289207975297)\n",
      "('OpenPorchSF', 0.04350007760935393)\n",
      "('Exterior1st', 0.035543573083171465)\n",
      "('OverallQual', 0.03414280790384994)\n",
      "('MSSubClass', 0.033922430802187264)\n",
      "('BsmtUnfSF', 0.031183783326009795)\n",
      "\n",
      "> Deleted variables : ['Id']\n",
      "> Drift coefficients dumped into directory : save\n"
     ]
    }
   ],
   "source": [
    "# Reading the datasets and setting as argument the paths and target\n",
    "data = Reader(sep=\",\").train_test_split(paths, target_name)  #reading\n",
    "\n",
    "#Drift_thresholder will help you to drop IDs and drifting variables between train and test datasets:\n",
    "data = Drift_thresholder().fit_transform(data)  #deleting non-stable variables"
   ]
  },
  {
   "cell_type": "code",
   "execution_count": 6,
   "metadata": {},
   "outputs": [
    {
     "name": "stderr",
     "output_type": "stream",
     "text": [
      "/home/leonardo/anaconda3/lib/python3.6/site-packages/mlbox/optimisation/optimiser.py:77: UserWarning: Optimiser will save all your fitted models into directory 'save/joblib'. Please clear it regularly.\n",
      "  +str(self.to_path)+\"/joblib'. Please clear it regularly.\")\n"
     ]
    }
   ],
   "source": [
    "## Optimiser will optimize the hyperparameters based on the scoring \n",
    "opt = Optimiser(scoring = \"r2\", n_folds = 5)"
   ]
  },
  {
   "cell_type": "code",
   "execution_count": 7,
   "metadata": {},
   "outputs": [
    {
     "name": "stdout",
     "output_type": "stream",
     "text": [
      "No parameters set. Default configuration is tested\n",
      "\n",
      "##################################################### testing hyper-parameters... #####################################################\n",
      "\n",
      ">>> NA ENCODER :{'numerical_strategy': 'mean', 'categorical_strategy': '<NULL>'}\n",
      "\n",
      ">>> CA ENCODER :{'strategy': 'label_encoding'}\n",
      "\n",
      ">>> ESTIMATOR :{'strategy': 'LightGBM', 'boosting_type': 'gbdt', 'colsample_bytree': 0.8, 'learning_rate': 0.05, 'max_bin': 255, 'max_depth': -1, 'min_child_samples': 10, 'min_child_weight': 5, 'min_split_gain': 0, 'n_estimators': 500, 'nthread': -1, 'num_leaves': 31, 'objective': 'regression', 'reg_alpha': 0, 'reg_lambda': 0, 'seed': 0, 'silent': True, 'subsample': 0.9, 'subsample_for_bin': 50000, 'subsample_freq': 1}\n",
      "\n",
      "\n",
      "MEAN SCORE : r2 = 0.5484946719476428\n",
      "VARIANCE : 0.042245273840640335 (fold 1 = 0.5208558581790057, fold 2 = 0.589333919987618, fold 3 = 0.5603071364331653, fold 4 = 0.48103728657621403, fold 5 = 0.5909391585622109)\n",
      "CPU time: 5.336984872817993 seconds\n",
      "\n"
     ]
    },
    {
     "data": {
      "text/plain": [
       "0.5484946719476428"
      ]
     },
     "execution_count": 7,
     "metadata": {},
     "output_type": "execute_result"
    }
   ],
   "source": [
    "\n",
    "opt.evaluate(None, data)\n"
   ]
  },
  {
   "cell_type": "markdown",
   "metadata": {},
   "source": [
    "######################<br>\n",
    "LEGEND: <br>\n",
    "ne = Numerical Encoders <br>\n",
    "ce = Categorical Encoders<br>\n",
    "fs = Fature Slection<br>\n",
    "est = Estimator<br>\n",
    "\n",
    "####################<br>\n",
    "<br>\n",
    "we also have search and space as parameters of our space as the syntax:\n",
    "    <br>\n",
    "search can be ~choice~ to sparse values given as a list or ~uniform~ if give as [0.1, 10], start to end values.\n"
   ]
  },
  {
   "cell_type": "code",
   "execution_count": 8,
   "metadata": {
    "scrolled": false
   },
   "outputs": [],
   "source": [
    "space ={\n",
    "    'ne__numerical_strategy'    :{\"search\":\"choice\",\n",
    "                                  \"space\":[0,'mean','median','most_frequent']},\n",
    "    'ne__categorical_strategy'  :{\"search\":\"choice\",\n",
    "                                  \"space\":[np.NaN,\"None\"]},\n",
    "    'ce__strategy'              :{\"search\":\"choice\",\n",
    "                                  \"space\":['label_encoding','entity_embedding','dummification']},\n",
    "    'fs__strategy'              :{\"search\":\"choice\",\n",
    "                                  \"space\":['l1','variance','rf_feature_importance']},\n",
    "    'fs__threshold'             :{\"search\":\"uniform\",\n",
    "                                  \"space\":[0.01, 0.02, 0.03, 0.05, 0.08, 0.1]},\n",
    "    'est__strategy'             :{\"search\":\"choice\",\n",
    "                                  \"space\":[\"XGBoost\"]},\n",
    "    'est__max_depth'            :{\"search\":\"choice\",\n",
    "                                  \"space\":[2,3,4,5]},\n",
    "    'est__learning_rate'        :{\"search\":\"uniform\",\n",
    "                                  \"space\":[0.001, 0.01,0.1, 1, 10 ]}, \n",
    "    'est__subsample'            :{\"search\":\"uniform\",\n",
    "                                  \"space\":[i/10.0 for i in range(6,10)]},\n",
    "    'est__colsample_bytree'     :{\"search\":\"uniform\",\n",
    "                                  \"space\":[i/10.0 for i in range(6,10)]},\n",
    "    'est__gamma'                :{\"search\":\"uniform\",\n",
    "                                  \"space\":[i/10.0 for i in range(0,5)]},\n",
    "    'est__reg_alpha'            :{\"search\":\"uniform\",\n",
    "                                  \"space\":[01e-5, 1e-2, 0.1, 1, 100]},\n",
    "    'est__reg_lambda'           :{\"search\":\"uniform\",\n",
    "                                  \"space\":[0.001,0.1,0,1,10]},\n",
    "    'est__n_estimators'         :{\"search\":\"choice\",\n",
    "                                  \"space\":[300, 500, 1000,1250,1500]}\n",
    "}"
   ]
  },
  {
   "cell_type": "code",
   "execution_count": 9,
   "metadata": {
    "scrolled": false
   },
   "outputs": [
    {
     "name": "stdout",
     "output_type": "stream",
     "text": [
      "\n",
      "##################################################### testing hyper-parameters... #####################################################\n",
      "\n",
      ">>> NA ENCODER :{'numerical_strategy': 0, 'categorical_strategy': nan}\n",
      "\n",
      ">>> CA ENCODER :{'strategy': 'label_encoding'}\n",
      "\n",
      ">>> FEATURE SELECTOR :{'strategy': 'l1', 'threshold': 0.030365057184518277}\n",
      "\n",
      ">>> ESTIMATOR :{'strategy': 'XGBoost', 'colsample_bytree': 0.8449002356448905, 'learning_rate': 5.599322329230557, 'max_depth': 5, 'n_estimators': 1500, 'reg_alpha': 75.49793668219834, 'reg_lambda': 3.86066705419693, 'subsample': 0.8391882912488107, 'base_score': 0.5, 'colsample_bylevel': 1.0, 'gamma': 0, 'max_delta_step': 0, 'min_child_weight': 1, 'missing': None, 'nthread': -1, 'objective': 'reg:linear', 'scale_pos_weight': 1, 'seed': 0, 'silent': True}\n",
      "\n"
     ]
    },
    {
     "name": "stderr",
     "output_type": "stream",
     "text": [
      "/home/leonardo/anaconda3/lib/python3.6/site-packages/mlbox/model/supervised/regression/regressor.py:98: UserWarning: Invalid parameter for regressor LightGBM. Parameter IGNORED. Check the list of available parameters with `regressor.get_params().keys()`\n",
      "  \". Parameter IGNORED. Check the list of \"\n",
      "/home/leonardo/anaconda3/lib/python3.6/site-packages/mlbox/optimisation/optimiser.py:428: UserWarning: An error occurred while computing the cross validation mean score. Check the parameter values and your scoring function.\n",
      "  warnings.warn(\"An error occurred while computing the cross \"\n",
      "/home/leonardo/anaconda3/lib/python3.6/site-packages/mlbox/model/supervised/regression/regressor.py:98: UserWarning: Invalid parameter for regressor LightGBM. Parameter IGNORED. Check the list of available parameters with `regressor.get_params().keys()`\n",
      "  \". Parameter IGNORED. Check the list of \"\n"
     ]
    },
    {
     "name": "stdout",
     "output_type": "stream",
     "text": [
      "\n",
      "MEAN SCORE : r2 = -inf\n",
      "VARIANCE : nan (fold 1 = -inf, fold 2 = -inf, fold 3 = -inf, fold 4 = -inf, fold 5 = -inf)\n",
      "CPU time: 0.3878345489501953 seconds\n",
      "\n",
      "\n",
      "##################################################### testing hyper-parameters... #####################################################\n",
      "\n",
      ">>> NA ENCODER :{'numerical_strategy': 'median', 'categorical_strategy': 'None'}\n",
      "\n",
      ">>> CA ENCODER :{'strategy': 'dummification'}\n",
      "\n",
      ">>> FEATURE SELECTOR :{'strategy': 'l1', 'threshold': 0.0970113171133482}\n",
      "\n",
      ">>> ESTIMATOR :{'strategy': 'XGBoost', 'colsample_bytree': 0.809196426190741, 'learning_rate': 7.072509605781133, 'max_depth': 5, 'n_estimators': 1000, 'reg_alpha': 82.20074372026168, 'reg_lambda': 7.967873283742195, 'subsample': 0.6058954843200101, 'base_score': 0.5, 'colsample_bylevel': 1.0, 'gamma': 0, 'max_delta_step': 0, 'min_child_weight': 1, 'missing': None, 'nthread': -1, 'objective': 'reg:linear', 'scale_pos_weight': 1, 'seed': 0, 'silent': True}\n",
      "\n"
     ]
    },
    {
     "name": "stderr",
     "output_type": "stream",
     "text": [
      "/home/leonardo/anaconda3/lib/python3.6/site-packages/sklearn/linear_model/coordinate_descent.py:491: ConvergenceWarning: Objective did not converge. You might want to increase the number of iterations. Fitting data with very small alpha may cause precision problems.\n",
      "  ConvergenceWarning)\n",
      "/home/leonardo/anaconda3/lib/python3.6/site-packages/mlbox/optimisation/optimiser.py:428: UserWarning: An error occurred while computing the cross validation mean score. Check the parameter values and your scoring function.\n",
      "  warnings.warn(\"An error occurred while computing the cross \"\n",
      "/home/leonardo/anaconda3/lib/python3.6/site-packages/mlbox/model/supervised/regression/regressor.py:98: UserWarning: Invalid parameter for regressor LightGBM. Parameter IGNORED. Check the list of available parameters with `regressor.get_params().keys()`\n",
      "  \". Parameter IGNORED. Check the list of \"\n"
     ]
    },
    {
     "name": "stdout",
     "output_type": "stream",
     "text": [
      "\n",
      "MEAN SCORE : r2 = -inf\n",
      "VARIANCE : nan (fold 1 = -inf, fold 2 = -inf, fold 3 = -inf, fold 4 = -inf, fold 5 = -inf)\n",
      "CPU time: 4.24631142616272 seconds\n",
      "\n",
      "\n",
      "##################################################### testing hyper-parameters... #####################################################\n",
      "\n",
      ">>> NA ENCODER :{'numerical_strategy': 'median', 'categorical_strategy': 'None'}\n",
      "\n",
      ">>> CA ENCODER :{'strategy': 'label_encoding'}\n",
      "\n",
      ">>> FEATURE SELECTOR :{'strategy': 'l1', 'threshold': 0.054585118061878}\n",
      "\n",
      ">>> ESTIMATOR :{'strategy': 'XGBoost', 'colsample_bytree': 0.6456827694774263, 'learning_rate': 0.43842338961778443, 'max_depth': 3, 'n_estimators': 500, 'reg_alpha': 95.73223233549533, 'reg_lambda': 1.0592452424598109, 'subsample': 0.7856255853871873, 'base_score': 0.5, 'colsample_bylevel': 1.0, 'gamma': 0, 'max_delta_step': 0, 'min_child_weight': 1, 'missing': None, 'nthread': -1, 'objective': 'reg:linear', 'scale_pos_weight': 1, 'seed': 0, 'silent': True}\n",
      "\n"
     ]
    },
    {
     "name": "stderr",
     "output_type": "stream",
     "text": [
      "/home/leonardo/anaconda3/lib/python3.6/site-packages/sklearn/linear_model/coordinate_descent.py:491: ConvergenceWarning: Objective did not converge. You might want to increase the number of iterations. Fitting data with very small alpha may cause precision problems.\n",
      "  ConvergenceWarning)\n",
      "/home/leonardo/anaconda3/lib/python3.6/site-packages/sklearn/linear_model/coordinate_descent.py:491: ConvergenceWarning: Objective did not converge. You might want to increase the number of iterations. Fitting data with very small alpha may cause precision problems.\n",
      "  ConvergenceWarning)\n",
      "/home/leonardo/anaconda3/lib/python3.6/site-packages/sklearn/linear_model/coordinate_descent.py:491: ConvergenceWarning: Objective did not converge. You might want to increase the number of iterations. Fitting data with very small alpha may cause precision problems.\n",
      "  ConvergenceWarning)\n",
      "/home/leonardo/anaconda3/lib/python3.6/site-packages/sklearn/linear_model/coordinate_descent.py:491: ConvergenceWarning: Objective did not converge. You might want to increase the number of iterations. Fitting data with very small alpha may cause precision problems.\n",
      "  ConvergenceWarning)\n",
      "/home/leonardo/anaconda3/lib/python3.6/site-packages/sklearn/linear_model/coordinate_descent.py:491: ConvergenceWarning: Objective did not converge. You might want to increase the number of iterations. Fitting data with very small alpha may cause precision problems.\n",
      "  ConvergenceWarning)\n"
     ]
    },
    {
     "name": "stdout",
     "output_type": "stream",
     "text": [
      "\n",
      "MEAN SCORE : r2 = 0.8491940706031927\n",
      "VARIANCE : 0.04246388509181231 (fold 1 = 0.8831096053504697, fold 2 = 0.8245714847791065, fold 3 = 0.8620940828923374, fold 4 = 0.7795881959869658, fold 5 = 0.8966069840070848)\n",
      "CPU time: 5.824725866317749 seconds\n",
      "\n",
      "\n",
      "##################################################### testing hyper-parameters... #####################################################\n",
      "\n",
      ">>> NA ENCODER :{'numerical_strategy': 'median', 'categorical_strategy': nan}\n",
      "\n",
      ">>> CA ENCODER :{'strategy': 'dummification'}\n",
      "\n",
      ">>> FEATURE SELECTOR :{'strategy': 'variance', 'threshold': 0.06153315086633357}\n",
      "\n",
      ">>> ESTIMATOR :{'strategy': 'XGBoost', 'colsample_bytree': 0.8476695907456744, 'learning_rate': 3.2400089269595616, 'max_depth': 4, 'n_estimators': 1500, 'reg_alpha': 6.961992147088744, 'reg_lambda': 4.596904278860422, 'subsample': 0.614438474550011, 'base_score': 0.5, 'colsample_bylevel': 1.0, 'gamma': 0, 'max_delta_step': 0, 'min_child_weight': 1, 'missing': None, 'nthread': -1, 'objective': 'reg:linear', 'scale_pos_weight': 1, 'seed': 0, 'silent': True}\n",
      "\n",
      "\n",
      "MEAN SCORE : r2 = -inf\n",
      "VARIANCE : nan (fold 1 = -inf, fold 2 = -inf, fold 3 = -inf, fold 4 = -inf, fold 5 = -inf)\n",
      "CPU time: 0.016045808792114258 seconds\n",
      "\n",
      "\n",
      "##################################################### testing hyper-parameters... #####################################################\n",
      "\n",
      ">>> NA ENCODER :{'numerical_strategy': 'most_frequent', 'categorical_strategy': 'None'}\n",
      "\n",
      ">>> CA ENCODER :{'strategy': 'label_encoding'}\n",
      "\n",
      ">>> FEATURE SELECTOR :{'strategy': 'rf_feature_importance', 'threshold': 0.04540901731082578}\n",
      "\n",
      ">>> ESTIMATOR :{'strategy': 'XGBoost', 'colsample_bytree': 0.738434528144155, 'learning_rate': 4.801208445669267, 'max_depth': 5, 'n_estimators': 300, 'reg_alpha': 30.285073751793284, 'reg_lambda': 5.964369074983319, 'subsample': 0.8697780194394411, 'base_score': 0.5, 'colsample_bylevel': 1.0, 'gamma': 0, 'max_delta_step': 0, 'min_child_weight': 1, 'missing': None, 'nthread': -1, 'objective': 'reg:linear', 'scale_pos_weight': 1, 'seed': 0, 'silent': True}\n",
      "\n"
     ]
    },
    {
     "name": "stderr",
     "output_type": "stream",
     "text": [
      "/home/leonardo/anaconda3/lib/python3.6/site-packages/mlbox/model/supervised/regression/regressor.py:98: UserWarning: Invalid parameter for regressor LightGBM. Parameter IGNORED. Check the list of available parameters with `regressor.get_params().keys()`\n",
      "  \". Parameter IGNORED. Check the list of \"\n",
      "/home/leonardo/anaconda3/lib/python3.6/site-packages/mlbox/optimisation/optimiser.py:428: UserWarning: An error occurred while computing the cross validation mean score. Check the parameter values and your scoring function.\n",
      "  warnings.warn(\"An error occurred while computing the cross \"\n",
      "/home/leonardo/anaconda3/lib/python3.6/site-packages/mlbox/model/supervised/regression/regressor.py:98: UserWarning: Invalid parameter for regressor LightGBM. Parameter IGNORED. Check the list of available parameters with `regressor.get_params().keys()`\n",
      "  \". Parameter IGNORED. Check the list of \"\n",
      "/home/leonardo/anaconda3/lib/python3.6/site-packages/mlbox/optimisation/optimiser.py:428: UserWarning: An error occurred while computing the cross validation mean score. Check the parameter values and your scoring function.\n",
      "  warnings.warn(\"An error occurred while computing the cross \"\n",
      "/home/leonardo/anaconda3/lib/python3.6/site-packages/mlbox/model/supervised/regression/regressor.py:98: UserWarning: Invalid parameter for regressor LightGBM. Parameter IGNORED. Check the list of available parameters with `regressor.get_params().keys()`\n",
      "  \". Parameter IGNORED. Check the list of \"\n"
     ]
    },
    {
     "name": "stdout",
     "output_type": "stream",
     "text": [
      "\n",
      "MEAN SCORE : r2 = -inf\n",
      "VARIANCE : nan (fold 1 = -inf, fold 2 = -inf, fold 3 = -inf, fold 4 = -inf, fold 5 = -inf)\n",
      "CPU time: 1.5588979721069336 seconds\n",
      "\n",
      "\n",
      "##################################################### testing hyper-parameters... #####################################################\n",
      "\n",
      ">>> NA ENCODER :{'numerical_strategy': 'most_frequent', 'categorical_strategy': 'None'}\n",
      "\n",
      ">>> CA ENCODER :{'strategy': 'dummification'}\n",
      "\n",
      ">>> FEATURE SELECTOR :{'strategy': 'l1', 'threshold': 0.030060168140128143}\n",
      "\n",
      ">>> ESTIMATOR :{'strategy': 'XGBoost', 'colsample_bytree': 0.8361023866657986, 'learning_rate': 7.205505518703521, 'max_depth': 5, 'n_estimators': 1000, 'reg_alpha': 12.270999031278153, 'reg_lambda': 8.375578130749869, 'subsample': 0.8600643119273736, 'base_score': 0.5, 'colsample_bylevel': 1.0, 'gamma': 0, 'max_delta_step': 0, 'min_child_weight': 1, 'missing': None, 'nthread': -1, 'objective': 'reg:linear', 'scale_pos_weight': 1, 'seed': 0, 'silent': True}\n",
      "\n"
     ]
    },
    {
     "name": "stderr",
     "output_type": "stream",
     "text": [
      "/home/leonardo/anaconda3/lib/python3.6/site-packages/sklearn/linear_model/coordinate_descent.py:491: ConvergenceWarning: Objective did not converge. You might want to increase the number of iterations. Fitting data with very small alpha may cause precision problems.\n",
      "  ConvergenceWarning)\n",
      "/home/leonardo/anaconda3/lib/python3.6/site-packages/mlbox/optimisation/optimiser.py:428: UserWarning: An error occurred while computing the cross validation mean score. Check the parameter values and your scoring function.\n",
      "  warnings.warn(\"An error occurred while computing the cross \"\n",
      "/home/leonardo/anaconda3/lib/python3.6/site-packages/mlbox/model/supervised/regression/regressor.py:98: UserWarning: Invalid parameter for regressor LightGBM. Parameter IGNORED. Check the list of available parameters with `regressor.get_params().keys()`\n",
      "  \". Parameter IGNORED. Check the list of \"\n"
     ]
    },
    {
     "name": "stdout",
     "output_type": "stream",
     "text": [
      "\n",
      "MEAN SCORE : r2 = -inf\n",
      "VARIANCE : nan (fold 1 = -inf, fold 2 = -inf, fold 3 = -inf, fold 4 = -inf, fold 5 = -inf)\n",
      "CPU time: 3.2776246070861816 seconds\n",
      "\n",
      "\n",
      "##################################################### testing hyper-parameters... #####################################################\n",
      "\n",
      ">>> NA ENCODER :{'numerical_strategy': 'mean', 'categorical_strategy': 'None'}\n",
      "\n",
      ">>> CA ENCODER :{'strategy': 'label_encoding'}\n",
      "\n",
      ">>> FEATURE SELECTOR :{'strategy': 'l1', 'threshold': 0.0875297299367708}\n",
      "\n",
      ">>> ESTIMATOR :{'strategy': 'XGBoost', 'colsample_bytree': 0.8585158977521636, 'learning_rate': 2.2467947000227966, 'max_depth': 5, 'n_estimators': 1000, 'reg_alpha': 5.6693920898408985, 'reg_lambda': 8.07831065520957, 'subsample': 0.6400656658972473, 'base_score': 0.5, 'colsample_bylevel': 1.0, 'gamma': 0, 'max_delta_step': 0, 'min_child_weight': 1, 'missing': None, 'nthread': -1, 'objective': 'reg:linear', 'scale_pos_weight': 1, 'seed': 0, 'silent': True}\n",
      "\n"
     ]
    },
    {
     "name": "stderr",
     "output_type": "stream",
     "text": [
      "/home/leonardo/anaconda3/lib/python3.6/site-packages/sklearn/linear_model/coordinate_descent.py:491: ConvergenceWarning: Objective did not converge. You might want to increase the number of iterations. Fitting data with very small alpha may cause precision problems.\n",
      "  ConvergenceWarning)\n",
      "/home/leonardo/anaconda3/lib/python3.6/site-packages/mlbox/optimisation/optimiser.py:428: UserWarning: An error occurred while computing the cross validation mean score. Check the parameter values and your scoring function.\n",
      "  warnings.warn(\"An error occurred while computing the cross \"\n",
      "/home/leonardo/anaconda3/lib/python3.6/site-packages/mlbox/model/supervised/regression/regressor.py:98: UserWarning: Invalid parameter for regressor LightGBM. Parameter IGNORED. Check the list of available parameters with `regressor.get_params().keys()`\n",
      "  \". Parameter IGNORED. Check the list of \"\n"
     ]
    },
    {
     "name": "stdout",
     "output_type": "stream",
     "text": [
      "\n",
      "MEAN SCORE : r2 = -inf\n",
      "VARIANCE : nan (fold 1 = -inf, fold 2 = -inf, fold 3 = -inf, fold 4 = -inf, fold 5 = -inf)\n",
      "CPU time: 1.794604778289795 seconds\n",
      "\n",
      "\n",
      "##################################################### testing hyper-parameters... #####################################################\n",
      "\n",
      ">>> NA ENCODER :{'numerical_strategy': 'most_frequent', 'categorical_strategy': 'None'}\n",
      "\n",
      ">>> CA ENCODER :{'strategy': 'label_encoding'}\n",
      "\n",
      ">>> FEATURE SELECTOR :{'strategy': 'l1', 'threshold': 0.03637645800394341}\n",
      "\n",
      ">>> ESTIMATOR :{'strategy': 'XGBoost', 'colsample_bytree': 0.6222915431439894, 'learning_rate': 9.523944298582736, 'max_depth': 3, 'n_estimators': 1250, 'reg_alpha': 99.09664009499156, 'reg_lambda': 0.12552800279045928, 'subsample': 0.7607020317033001, 'base_score': 0.5, 'colsample_bylevel': 1.0, 'gamma': 0, 'max_delta_step': 0, 'min_child_weight': 1, 'missing': None, 'nthread': -1, 'objective': 'reg:linear', 'scale_pos_weight': 1, 'seed': 0, 'silent': True}\n",
      "\n"
     ]
    },
    {
     "name": "stderr",
     "output_type": "stream",
     "text": [
      "/home/leonardo/anaconda3/lib/python3.6/site-packages/sklearn/linear_model/coordinate_descent.py:491: ConvergenceWarning: Objective did not converge. You might want to increase the number of iterations. Fitting data with very small alpha may cause precision problems.\n",
      "  ConvergenceWarning)\n",
      "/home/leonardo/anaconda3/lib/python3.6/site-packages/mlbox/optimisation/optimiser.py:428: UserWarning: An error occurred while computing the cross validation mean score. Check the parameter values and your scoring function.\n",
      "  warnings.warn(\"An error occurred while computing the cross \"\n",
      "/home/leonardo/anaconda3/lib/python3.6/site-packages/mlbox/model/supervised/regression/regressor.py:98: UserWarning: Invalid parameter for regressor LightGBM. Parameter IGNORED. Check the list of available parameters with `regressor.get_params().keys()`\n",
      "  \". Parameter IGNORED. Check the list of \"\n"
     ]
    },
    {
     "name": "stdout",
     "output_type": "stream",
     "text": [
      "\n",
      "MEAN SCORE : r2 = -inf\n",
      "VARIANCE : nan (fold 1 = -inf, fold 2 = -inf, fold 3 = -inf, fold 4 = -inf, fold 5 = -inf)\n",
      "CPU time: 1.873018503189087 seconds\n",
      "\n",
      "\n",
      "##################################################### testing hyper-parameters... #####################################################\n",
      "\n",
      ">>> NA ENCODER :{'numerical_strategy': 'mean', 'categorical_strategy': nan}\n",
      "\n",
      ">>> CA ENCODER :{'strategy': 'entity_embedding'}\n",
      "\n",
      ">>> FEATURE SELECTOR :{'strategy': 'rf_feature_importance', 'threshold': 0.09020732912737281}\n",
      "\n",
      ">>> ESTIMATOR :{'strategy': 'XGBoost', 'colsample_bytree': 0.6887376038643043, 'learning_rate': 9.585637736615256, 'max_depth': 3, 'n_estimators': 300, 'reg_alpha': 97.38862133494017, 'reg_lambda': 6.775136414139875, 'subsample': 0.74935366262984, 'base_score': 0.5, 'colsample_bylevel': 1.0, 'gamma': 0, 'max_delta_step': 0, 'min_child_weight': 1, 'missing': None, 'nthread': -1, 'objective': 'reg:linear', 'scale_pos_weight': 1, 'seed': 0, 'silent': True}\n",
      "\n"
     ]
    },
    {
     "name": "stderr",
     "output_type": "stream",
     "text": [
      "/home/leonardo/anaconda3/lib/python3.6/site-packages/mlbox/optimisation/optimiser.py:428: UserWarning: An error occurred while computing the cross validation mean score. Check the parameter values and your scoring function.\n",
      "  warnings.warn(\"An error occurred while computing the cross \"\n",
      "/home/leonardo/anaconda3/lib/python3.6/site-packages/mlbox/model/supervised/regression/regressor.py:98: UserWarning: Invalid parameter for regressor LightGBM. Parameter IGNORED. Check the list of available parameters with `regressor.get_params().keys()`\n",
      "  \". Parameter IGNORED. Check the list of \"\n"
     ]
    },
    {
     "name": "stdout",
     "output_type": "stream",
     "text": [
      "\n",
      "MEAN SCORE : r2 = -inf\n",
      "VARIANCE : nan (fold 1 = -inf, fold 2 = -inf, fold 3 = -inf, fold 4 = -inf, fold 5 = -inf)\n",
      "CPU time: 0.4763984680175781 seconds\n",
      "\n",
      "\n",
      "##################################################### testing hyper-parameters... #####################################################\n",
      "\n",
      ">>> NA ENCODER :{'numerical_strategy': 'median', 'categorical_strategy': 'None'}\n",
      "\n",
      ">>> CA ENCODER :{'strategy': 'dummification'}\n",
      "\n",
      ">>> FEATURE SELECTOR :{'strategy': 'l1', 'threshold': 0.06258004299527535}\n",
      "\n",
      ">>> ESTIMATOR :{'strategy': 'XGBoost', 'colsample_bytree': 0.7685971676969825, 'learning_rate': 4.2959831048605075, 'max_depth': 2, 'n_estimators': 500, 'reg_alpha': 12.898609079968201, 'reg_lambda': 0.49081881686147244, 'subsample': 0.6831142388967313, 'base_score': 0.5, 'colsample_bylevel': 1.0, 'gamma': 0, 'max_delta_step': 0, 'min_child_weight': 1, 'missing': None, 'nthread': -1, 'objective': 'reg:linear', 'scale_pos_weight': 1, 'seed': 0, 'silent': True}\n",
      "\n"
     ]
    },
    {
     "name": "stderr",
     "output_type": "stream",
     "text": [
      "/home/leonardo/anaconda3/lib/python3.6/site-packages/sklearn/linear_model/coordinate_descent.py:491: ConvergenceWarning: Objective did not converge. You might want to increase the number of iterations. Fitting data with very small alpha may cause precision problems.\n",
      "  ConvergenceWarning)\n",
      "/home/leonardo/anaconda3/lib/python3.6/site-packages/mlbox/optimisation/optimiser.py:428: UserWarning: An error occurred while computing the cross validation mean score. Check the parameter values and your scoring function.\n",
      "  warnings.warn(\"An error occurred while computing the cross \"\n",
      "/home/leonardo/anaconda3/lib/python3.6/site-packages/mlbox/model/supervised/regression/regressor.py:98: UserWarning: Invalid parameter for regressor LightGBM. Parameter IGNORED. Check the list of available parameters with `regressor.get_params().keys()`\n",
      "  \". Parameter IGNORED. Check the list of \"\n",
      "/home/leonardo/anaconda3/lib/python3.6/site-packages/mlbox/optimisation/optimiser.py:428: UserWarning: An error occurred while computing the cross validation mean score. Check the parameter values and your scoring function.\n",
      "  warnings.warn(\"An error occurred while computing the cross \"\n",
      "/home/leonardo/anaconda3/lib/python3.6/site-packages/mlbox/model/supervised/regression/regressor.py:98: UserWarning: Invalid parameter for regressor LightGBM. Parameter IGNORED. Check the list of available parameters with `regressor.get_params().keys()`\n",
      "  \". Parameter IGNORED. Check the list of \"\n"
     ]
    },
    {
     "name": "stdout",
     "output_type": "stream",
     "text": [
      "\n",
      "MEAN SCORE : r2 = -inf\n",
      "VARIANCE : nan (fold 1 = -inf, fold 2 = -inf, fold 3 = -inf, fold 4 = -inf, fold 5 = -inf)\n",
      "CPU time: 4.403619050979614 seconds\n",
      "\n",
      "\n",
      "##################################################### testing hyper-parameters... #####################################################\n",
      "\n",
      ">>> NA ENCODER :{'numerical_strategy': 'mean', 'categorical_strategy': nan}\n",
      "\n",
      ">>> CA ENCODER :{'strategy': 'label_encoding'}\n",
      "\n",
      ">>> FEATURE SELECTOR :{'strategy': 'variance', 'threshold': 0.09531513610685495}\n",
      "\n",
      ">>> ESTIMATOR :{'strategy': 'XGBoost', 'colsample_bytree': 0.781453786050418, 'learning_rate': 8.022356542428552, 'max_depth': 5, 'n_estimators': 300, 'reg_alpha': 79.60612921459877, 'reg_lambda': 4.223709755706947, 'subsample': 0.6127234487573394, 'base_score': 0.5, 'colsample_bylevel': 1.0, 'gamma': 0, 'max_delta_step': 0, 'min_child_weight': 1, 'missing': None, 'nthread': -1, 'objective': 'reg:linear', 'scale_pos_weight': 1, 'seed': 0, 'silent': True}\n",
      "\n",
      "\n",
      "MEAN SCORE : r2 = -inf\n",
      "VARIANCE : nan (fold 1 = -inf, fold 2 = -inf, fold 3 = -inf, fold 4 = -inf, fold 5 = -inf)\n",
      "CPU time: 0.04357290267944336 seconds\n",
      "\n",
      "\n",
      "##################################################### testing hyper-parameters... #####################################################\n",
      "\n",
      ">>> NA ENCODER :{'numerical_strategy': 'most_frequent', 'categorical_strategy': 'None'}\n",
      "\n",
      ">>> CA ENCODER :{'strategy': 'label_encoding'}\n",
      "\n",
      ">>> FEATURE SELECTOR :{'strategy': 'rf_feature_importance', 'threshold': 0.04607291991453322}\n",
      "\n",
      ">>> ESTIMATOR :{'strategy': 'XGBoost', 'colsample_bytree': 0.7022588356960762, 'learning_rate': 8.508473716388181, 'max_depth': 3, 'n_estimators': 1000, 'reg_alpha': 12.985268930774264, 'reg_lambda': 1.787015267371106, 'subsample': 0.7664527896143635, 'base_score': 0.5, 'colsample_bylevel': 1.0, 'gamma': 0, 'max_delta_step': 0, 'min_child_weight': 1, 'missing': None, 'nthread': -1, 'objective': 'reg:linear', 'scale_pos_weight': 1, 'seed': 0, 'silent': True}\n",
      "\n"
     ]
    },
    {
     "name": "stderr",
     "output_type": "stream",
     "text": [
      "/home/leonardo/anaconda3/lib/python3.6/site-packages/mlbox/optimisation/optimiser.py:428: UserWarning: An error occurred while computing the cross validation mean score. Check the parameter values and your scoring function.\n",
      "  warnings.warn(\"An error occurred while computing the cross \"\n",
      "/home/leonardo/anaconda3/lib/python3.6/site-packages/mlbox/model/supervised/regression/regressor.py:98: UserWarning: Invalid parameter for regressor LightGBM. Parameter IGNORED. Check the list of available parameters with `regressor.get_params().keys()`\n",
      "  \". Parameter IGNORED. Check the list of \"\n"
     ]
    },
    {
     "name": "stdout",
     "output_type": "stream",
     "text": [
      "\n",
      "MEAN SCORE : r2 = -inf\n",
      "VARIANCE : nan (fold 1 = -inf, fold 2 = -inf, fold 3 = -inf, fold 4 = -inf, fold 5 = -inf)\n",
      "CPU time: 2.9454283714294434 seconds\n",
      "\n",
      "\n",
      "##################################################### testing hyper-parameters... #####################################################\n",
      "\n",
      ">>> NA ENCODER :{'numerical_strategy': 0, 'categorical_strategy': nan}\n",
      "\n",
      ">>> CA ENCODER :{'strategy': 'entity_embedding'}\n",
      "\n",
      ">>> FEATURE SELECTOR :{'strategy': 'rf_feature_importance', 'threshold': 0.023302773260166984}\n",
      "\n",
      ">>> ESTIMATOR :{'strategy': 'XGBoost', 'colsample_bytree': 0.7406358513785862, 'learning_rate': 2.434172742268444, 'max_depth': 4, 'n_estimators': 500, 'reg_alpha': 46.486144510653965, 'reg_lambda': 6.5157961470332655, 'subsample': 0.8765166029862477, 'base_score': 0.5, 'colsample_bylevel': 1.0, 'gamma': 0, 'max_delta_step': 0, 'min_child_weight': 1, 'missing': None, 'nthread': -1, 'objective': 'reg:linear', 'scale_pos_weight': 1, 'seed': 0, 'silent': True}\n",
      "\n"
     ]
    },
    {
     "name": "stderr",
     "output_type": "stream",
     "text": [
      "/home/leonardo/anaconda3/lib/python3.6/site-packages/mlbox/optimisation/optimiser.py:428: UserWarning: An error occurred while computing the cross validation mean score. Check the parameter values and your scoring function.\n",
      "  warnings.warn(\"An error occurred while computing the cross \"\n",
      "/home/leonardo/anaconda3/lib/python3.6/site-packages/mlbox/model/supervised/regression/regressor.py:98: UserWarning: Invalid parameter for regressor LightGBM. Parameter IGNORED. Check the list of available parameters with `regressor.get_params().keys()`\n",
      "  \". Parameter IGNORED. Check the list of \"\n"
     ]
    },
    {
     "name": "stdout",
     "output_type": "stream",
     "text": [
      "\n",
      "MEAN SCORE : r2 = -inf\n",
      "VARIANCE : nan (fold 1 = -inf, fold 2 = -inf, fold 3 = -inf, fold 4 = -inf, fold 5 = -inf)\n",
      "CPU time: 0.5789153575897217 seconds\n",
      "\n",
      "\n",
      "##################################################### testing hyper-parameters... #####################################################\n",
      "\n",
      ">>> NA ENCODER :{'numerical_strategy': 'most_frequent', 'categorical_strategy': 'None'}\n",
      "\n",
      ">>> CA ENCODER :{'strategy': 'label_encoding'}\n",
      "\n",
      ">>> FEATURE SELECTOR :{'strategy': 'variance', 'threshold': 0.020626616481745734}\n",
      "\n",
      ">>> ESTIMATOR :{'strategy': 'XGBoost', 'colsample_bytree': 0.6103258741693871, 'learning_rate': 4.0332527697336875, 'max_depth': 4, 'n_estimators': 1500, 'reg_alpha': 22.856750598897236, 'reg_lambda': 6.768150551764187, 'subsample': 0.8428795166506559, 'base_score': 0.5, 'colsample_bylevel': 1.0, 'gamma': 0, 'max_delta_step': 0, 'min_child_weight': 1, 'missing': None, 'nthread': -1, 'objective': 'reg:linear', 'scale_pos_weight': 1, 'seed': 0, 'silent': True}\n",
      "\n"
     ]
    },
    {
     "name": "stderr",
     "output_type": "stream",
     "text": [
      "/home/leonardo/anaconda3/lib/python3.6/site-packages/mlbox/optimisation/optimiser.py:428: UserWarning: An error occurred while computing the cross validation mean score. Check the parameter values and your scoring function.\n",
      "  warnings.warn(\"An error occurred while computing the cross \"\n",
      "/home/leonardo/anaconda3/lib/python3.6/site-packages/mlbox/model/supervised/regression/regressor.py:98: UserWarning: Invalid parameter for regressor LightGBM. Parameter IGNORED. Check the list of available parameters with `regressor.get_params().keys()`\n",
      "  \". Parameter IGNORED. Check the list of \"\n"
     ]
    },
    {
     "name": "stdout",
     "output_type": "stream",
     "text": [
      "\n",
      "MEAN SCORE : r2 = -inf\n",
      "VARIANCE : nan (fold 1 = -inf, fold 2 = -inf, fold 3 = -inf, fold 4 = -inf, fold 5 = -inf)\n",
      "CPU time: 1.4478843212127686 seconds\n",
      "\n",
      "\n",
      "##################################################### testing hyper-parameters... #####################################################\n",
      "\n",
      ">>> NA ENCODER :{'numerical_strategy': 'median', 'categorical_strategy': 'None'}\n",
      "\n",
      ">>> CA ENCODER :{'strategy': 'entity_embedding'}\n",
      "\n",
      ">>> FEATURE SELECTOR :{'strategy': 'l1', 'threshold': 0.09036531665588551}\n",
      "\n",
      ">>> ESTIMATOR :{'strategy': 'XGBoost', 'colsample_bytree': 0.8380711134193536, 'learning_rate': 0.45462534878540956, 'max_depth': 4, 'n_estimators': 1500, 'reg_alpha': 49.593633759991675, 'reg_lambda': 6.811111841458539, 'subsample': 0.6519749539788535, 'base_score': 0.5, 'colsample_bylevel': 1.0, 'gamma': 0, 'max_delta_step': 0, 'min_child_weight': 1, 'missing': None, 'nthread': -1, 'objective': 'reg:linear', 'scale_pos_weight': 1, 'seed': 0, 'silent': True}\n",
      "\n"
     ]
    },
    {
     "name": "stderr",
     "output_type": "stream",
     "text": [
      "/home/leonardo/anaconda3/lib/python3.6/site-packages/sklearn/linear_model/coordinate_descent.py:491: ConvergenceWarning: Objective did not converge. You might want to increase the number of iterations. Fitting data with very small alpha may cause precision problems.\n",
      "  ConvergenceWarning)\n",
      "/home/leonardo/anaconda3/lib/python3.6/site-packages/sklearn/linear_model/coordinate_descent.py:491: ConvergenceWarning: Objective did not converge. You might want to increase the number of iterations. Fitting data with very small alpha may cause precision problems.\n",
      "  ConvergenceWarning)\n",
      "/home/leonardo/anaconda3/lib/python3.6/site-packages/sklearn/linear_model/coordinate_descent.py:491: ConvergenceWarning: Objective did not converge. You might want to increase the number of iterations. Fitting data with very small alpha may cause precision problems.\n",
      "  ConvergenceWarning)\n",
      "/home/leonardo/anaconda3/lib/python3.6/site-packages/sklearn/linear_model/coordinate_descent.py:491: ConvergenceWarning: Objective did not converge. You might want to increase the number of iterations. Fitting data with very small alpha may cause precision problems.\n",
      "  ConvergenceWarning)\n",
      "/home/leonardo/anaconda3/lib/python3.6/site-packages/sklearn/linear_model/coordinate_descent.py:491: ConvergenceWarning: Objective did not converge. You might want to increase the number of iterations. Fitting data with very small alpha may cause precision problems.\n",
      "  ConvergenceWarning)\n"
     ]
    },
    {
     "name": "stdout",
     "output_type": "stream",
     "text": [
      "\n",
      "MEAN SCORE : r2 = 0.8601442416076356\n",
      "VARIANCE : 0.03177460146685819 (fold 1 = 0.8923174938169074, fold 2 = 0.8674550491018579, fold 3 = 0.817851927976952, fold 4 = 0.8286319783480189, fold 5 = 0.8944647587944418)\n",
      "CPU time: 36.49449181556702 seconds\n",
      "\n",
      "\n",
      "##################################################### testing hyper-parameters... #####################################################\n",
      "\n",
      ">>> NA ENCODER :{'numerical_strategy': 'most_frequent', 'categorical_strategy': nan}\n",
      "\n",
      ">>> CA ENCODER :{'strategy': 'label_encoding'}\n",
      "\n",
      ">>> FEATURE SELECTOR :{'strategy': 'rf_feature_importance', 'threshold': 0.04234384265297716}\n",
      "\n",
      ">>> ESTIMATOR :{'strategy': 'XGBoost', 'colsample_bytree': 0.6314570368615886, 'learning_rate': 6.069800452843377, 'max_depth': 2, 'n_estimators': 300, 'reg_alpha': 36.35322450861284, 'reg_lambda': 4.5878627621441606, 'subsample': 0.7451547363573202, 'base_score': 0.5, 'colsample_bylevel': 1.0, 'gamma': 0, 'max_delta_step': 0, 'min_child_weight': 1, 'missing': None, 'nthread': -1, 'objective': 'reg:linear', 'scale_pos_weight': 1, 'seed': 0, 'silent': True}\n",
      "\n"
     ]
    },
    {
     "name": "stderr",
     "output_type": "stream",
     "text": [
      "/home/leonardo/anaconda3/lib/python3.6/site-packages/mlbox/model/supervised/regression/regressor.py:98: UserWarning: Invalid parameter for regressor LightGBM. Parameter IGNORED. Check the list of available parameters with `regressor.get_params().keys()`\n",
      "  \". Parameter IGNORED. Check the list of \"\n",
      "/home/leonardo/anaconda3/lib/python3.6/site-packages/mlbox/optimisation/optimiser.py:428: UserWarning: An error occurred while computing the cross validation mean score. Check the parameter values and your scoring function.\n",
      "  warnings.warn(\"An error occurred while computing the cross \"\n",
      "/home/leonardo/anaconda3/lib/python3.6/site-packages/mlbox/model/supervised/regression/regressor.py:98: UserWarning: Invalid parameter for regressor LightGBM. Parameter IGNORED. Check the list of available parameters with `regressor.get_params().keys()`\n",
      "  \". Parameter IGNORED. Check the list of \"\n"
     ]
    },
    {
     "name": "stdout",
     "output_type": "stream",
     "text": [
      "\n",
      "MEAN SCORE : r2 = -inf\n",
      "VARIANCE : nan (fold 1 = -inf, fold 2 = -inf, fold 3 = -inf, fold 4 = -inf, fold 5 = -inf)\n",
      "CPU time: 1.081338882446289 seconds\n",
      "\n",
      "\n",
      "##################################################### testing hyper-parameters... #####################################################\n",
      "\n",
      ">>> NA ENCODER :{'numerical_strategy': 'median', 'categorical_strategy': 'None'}\n",
      "\n",
      ">>> CA ENCODER :{'strategy': 'label_encoding'}\n",
      "\n",
      ">>> FEATURE SELECTOR :{'strategy': 'rf_feature_importance', 'threshold': 0.049429837335549176}\n",
      "\n",
      ">>> ESTIMATOR :{'strategy': 'XGBoost', 'colsample_bytree': 0.7569626426991161, 'learning_rate': 9.527678419071618, 'max_depth': 4, 'n_estimators': 1250, 'reg_alpha': 18.904449239091683, 'reg_lambda': 6.855801508495359, 'subsample': 0.8346584339720697, 'base_score': 0.5, 'colsample_bylevel': 1.0, 'gamma': 0, 'max_delta_step': 0, 'min_child_weight': 1, 'missing': None, 'nthread': -1, 'objective': 'reg:linear', 'scale_pos_weight': 1, 'seed': 0, 'silent': True}\n",
      "\n"
     ]
    },
    {
     "name": "stderr",
     "output_type": "stream",
     "text": [
      "/home/leonardo/anaconda3/lib/python3.6/site-packages/mlbox/optimisation/optimiser.py:428: UserWarning: An error occurred while computing the cross validation mean score. Check the parameter values and your scoring function.\n",
      "  warnings.warn(\"An error occurred while computing the cross \"\n",
      "/home/leonardo/anaconda3/lib/python3.6/site-packages/mlbox/model/supervised/regression/regressor.py:98: UserWarning: Invalid parameter for regressor LightGBM. Parameter IGNORED. Check the list of available parameters with `regressor.get_params().keys()`\n",
      "  \". Parameter IGNORED. Check the list of \"\n",
      "/home/leonardo/anaconda3/lib/python3.6/site-packages/mlbox/optimisation/optimiser.py:428: UserWarning: An error occurred while computing the cross validation mean score. Check the parameter values and your scoring function.\n",
      "  warnings.warn(\"An error occurred while computing the cross \"\n",
      "/home/leonardo/anaconda3/lib/python3.6/site-packages/mlbox/model/supervised/regression/regressor.py:98: UserWarning: Invalid parameter for regressor LightGBM. Parameter IGNORED. Check the list of available parameters with `regressor.get_params().keys()`\n",
      "  \". Parameter IGNORED. Check the list of \"\n"
     ]
    },
    {
     "name": "stdout",
     "output_type": "stream",
     "text": [
      "\n",
      "MEAN SCORE : r2 = -inf\n",
      "VARIANCE : nan (fold 1 = -inf, fold 2 = -inf, fold 3 = -inf, fold 4 = -inf, fold 5 = -inf)\n",
      "CPU time: 2.45402455329895 seconds\n",
      "\n",
      "\n",
      "##################################################### testing hyper-parameters... #####################################################\n",
      "\n",
      ">>> NA ENCODER :{'numerical_strategy': 0, 'categorical_strategy': nan}\n",
      "\n",
      ">>> CA ENCODER :{'strategy': 'dummification'}\n",
      "\n",
      ">>> FEATURE SELECTOR :{'strategy': 'variance', 'threshold': 0.012406264913709964}\n",
      "\n",
      ">>> ESTIMATOR :{'strategy': 'XGBoost', 'colsample_bytree': 0.6380587341271272, 'learning_rate': 4.036915771052725, 'max_depth': 4, 'n_estimators': 1500, 'reg_alpha': 17.118394484009393, 'reg_lambda': 4.218434731757233, 'subsample': 0.7371385387865352, 'base_score': 0.5, 'colsample_bylevel': 1.0, 'gamma': 0, 'max_delta_step': 0, 'min_child_weight': 1, 'missing': None, 'nthread': -1, 'objective': 'reg:linear', 'scale_pos_weight': 1, 'seed': 0, 'silent': True}\n",
      "\n",
      "\n",
      "MEAN SCORE : r2 = -inf\n",
      "VARIANCE : nan (fold 1 = -inf, fold 2 = -inf, fold 3 = -inf, fold 4 = -inf, fold 5 = -inf)\n",
      "CPU time: 0.018274307250976562 seconds\n",
      "\n",
      "\n",
      "##################################################### testing hyper-parameters... #####################################################\n",
      "\n",
      ">>> NA ENCODER :{'numerical_strategy': 'mean', 'categorical_strategy': nan}\n",
      "\n",
      ">>> CA ENCODER :{'strategy': 'dummification'}\n",
      "\n",
      ">>> FEATURE SELECTOR :{'strategy': 'l1', 'threshold': 0.04640442559933767}\n",
      "\n",
      ">>> ESTIMATOR :{'strategy': 'XGBoost', 'colsample_bytree': 0.7438946152120496, 'learning_rate': 0.005819676939311079, 'max_depth': 4, 'n_estimators': 1500, 'reg_alpha': 13.9324410461277, 'reg_lambda': 3.9371908507405795, 'subsample': 0.7911360622216215, 'base_score': 0.5, 'colsample_bylevel': 1.0, 'gamma': 0, 'max_delta_step': 0, 'min_child_weight': 1, 'missing': None, 'nthread': -1, 'objective': 'reg:linear', 'scale_pos_weight': 1, 'seed': 0, 'silent': True}\n",
      "\n"
     ]
    },
    {
     "name": "stderr",
     "output_type": "stream",
     "text": [
      "/home/leonardo/anaconda3/lib/python3.6/site-packages/mlbox/optimisation/optimiser.py:428: UserWarning: An error occurred while computing the cross validation mean score. Check the parameter values and your scoring function.\n",
      "  warnings.warn(\"An error occurred while computing the cross \"\n",
      "/home/leonardo/anaconda3/lib/python3.6/site-packages/mlbox/model/supervised/regression/regressor.py:98: UserWarning: Invalid parameter for regressor LightGBM. Parameter IGNORED. Check the list of available parameters with `regressor.get_params().keys()`\n",
      "  \". Parameter IGNORED. Check the list of \"\n",
      "/home/leonardo/anaconda3/lib/python3.6/site-packages/mlbox/optimisation/optimiser.py:428: UserWarning: An error occurred while computing the cross validation mean score. Check the parameter values and your scoring function.\n",
      "  warnings.warn(\"An error occurred while computing the cross \"\n",
      "/home/leonardo/anaconda3/lib/python3.6/site-packages/mlbox/model/supervised/regression/regressor.py:98: UserWarning: Invalid parameter for regressor LightGBM. Parameter IGNORED. Check the list of available parameters with `regressor.get_params().keys()`\n",
      "  \". Parameter IGNORED. Check the list of \"\n"
     ]
    },
    {
     "name": "stdout",
     "output_type": "stream",
     "text": [
      "\n",
      "MEAN SCORE : r2 = -inf\n",
      "VARIANCE : nan (fold 1 = -inf, fold 2 = -inf, fold 3 = -inf, fold 4 = -inf, fold 5 = -inf)\n",
      "CPU time: 0.6207568645477295 seconds\n",
      "\n",
      "\n",
      "##################################################### testing hyper-parameters... #####################################################\n",
      "\n",
      ">>> NA ENCODER :{'numerical_strategy': 'median', 'categorical_strategy': nan}\n",
      "\n",
      ">>> CA ENCODER :{'strategy': 'label_encoding'}\n",
      "\n",
      ">>> FEATURE SELECTOR :{'strategy': 'variance', 'threshold': 0.08738364140684156}\n",
      "\n",
      ">>> ESTIMATOR :{'strategy': 'XGBoost', 'colsample_bytree': 0.8574611210459593, 'learning_rate': 9.428791309475692, 'max_depth': 2, 'n_estimators': 300, 'reg_alpha': 58.54542460276714, 'reg_lambda': 7.596888774272294, 'subsample': 0.7953788900895535, 'base_score': 0.5, 'colsample_bylevel': 1.0, 'gamma': 0, 'max_delta_step': 0, 'min_child_weight': 1, 'missing': None, 'nthread': -1, 'objective': 'reg:linear', 'scale_pos_weight': 1, 'seed': 0, 'silent': True}\n",
      "\n",
      "\n",
      "MEAN SCORE : r2 = -inf\n",
      "VARIANCE : nan (fold 1 = -inf, fold 2 = -inf, fold 3 = -inf, fold 4 = -inf, fold 5 = -inf)\n",
      "CPU time: 0.023963212966918945 seconds\n",
      "\n",
      "\n",
      "##################################################### testing hyper-parameters... #####################################################\n",
      "\n",
      ">>> NA ENCODER :{'numerical_strategy': 'median', 'categorical_strategy': 'None'}\n",
      "\n",
      ">>> CA ENCODER :{'strategy': 'entity_embedding'}\n",
      "\n",
      ">>> FEATURE SELECTOR :{'strategy': 'l1', 'threshold': 0.0750644048617158}\n",
      "\n",
      ">>> ESTIMATOR :{'strategy': 'XGBoost', 'colsample_bytree': 0.8997016087442646, 'learning_rate': 0.21452811693914864, 'max_depth': 3, 'n_estimators': 500, 'reg_alpha': 62.80619115565068, 'reg_lambda': 9.987680049984782, 'subsample': 0.6996706572281916, 'base_score': 0.5, 'colsample_bylevel': 1.0, 'gamma': 0, 'max_delta_step': 0, 'min_child_weight': 1, 'missing': None, 'nthread': -1, 'objective': 'reg:linear', 'scale_pos_weight': 1, 'seed': 0, 'silent': True}\n",
      "\n"
     ]
    },
    {
     "name": "stderr",
     "output_type": "stream",
     "text": [
      "/home/leonardo/anaconda3/lib/python3.6/site-packages/sklearn/linear_model/coordinate_descent.py:491: ConvergenceWarning: Objective did not converge. You might want to increase the number of iterations. Fitting data with very small alpha may cause precision problems.\n",
      "  ConvergenceWarning)\n",
      "/home/leonardo/anaconda3/lib/python3.6/site-packages/sklearn/linear_model/coordinate_descent.py:491: ConvergenceWarning: Objective did not converge. You might want to increase the number of iterations. Fitting data with very small alpha may cause precision problems.\n",
      "  ConvergenceWarning)\n",
      "/home/leonardo/anaconda3/lib/python3.6/site-packages/sklearn/linear_model/coordinate_descent.py:491: ConvergenceWarning: Objective did not converge. You might want to increase the number of iterations. Fitting data with very small alpha may cause precision problems.\n",
      "  ConvergenceWarning)\n",
      "/home/leonardo/anaconda3/lib/python3.6/site-packages/sklearn/linear_model/coordinate_descent.py:491: ConvergenceWarning: Objective did not converge. You might want to increase the number of iterations. Fitting data with very small alpha may cause precision problems.\n",
      "  ConvergenceWarning)\n",
      "/home/leonardo/anaconda3/lib/python3.6/site-packages/sklearn/linear_model/coordinate_descent.py:491: ConvergenceWarning: Objective did not converge. You might want to increase the number of iterations. Fitting data with very small alpha may cause precision problems.\n",
      "  ConvergenceWarning)\n"
     ]
    },
    {
     "name": "stdout",
     "output_type": "stream",
     "text": [
      "\n",
      "MEAN SCORE : r2 = 0.8852172759004844\n",
      "VARIANCE : 0.027338721661533626 (fold 1 = 0.8930113838517386, fold 2 = 0.893999649942468, fold 3 = 0.8846921016465826, fold 4 = 0.8355379772335327, fold 5 = 0.9188452668280997)\n",
      "CPU time: 9.842565536499023 seconds\n",
      "\n",
      "\n",
      "##################################################### testing hyper-parameters... #####################################################\n",
      "\n",
      ">>> NA ENCODER :{'numerical_strategy': 'median', 'categorical_strategy': 'None'}\n",
      "\n",
      ">>> CA ENCODER :{'strategy': 'entity_embedding'}\n",
      "\n",
      ">>> FEATURE SELECTOR :{'strategy': 'l1', 'threshold': 0.07500559337307044}\n",
      "\n",
      ">>> ESTIMATOR :{'strategy': 'XGBoost', 'colsample_bytree': 0.8998929086654807, 'learning_rate': 1.080631065778605, 'max_depth': 3, 'n_estimators': 500, 'reg_alpha': 59.88758876288286, 'reg_lambda': 9.786074304798118, 'subsample': 0.6922558765999757, 'base_score': 0.5, 'colsample_bylevel': 1.0, 'gamma': 0, 'max_delta_step': 0, 'min_child_weight': 1, 'missing': None, 'nthread': -1, 'objective': 'reg:linear', 'scale_pos_weight': 1, 'seed': 0, 'silent': True}\n",
      "\n"
     ]
    },
    {
     "name": "stderr",
     "output_type": "stream",
     "text": [
      "/home/leonardo/anaconda3/lib/python3.6/site-packages/mlbox/model/supervised/regression/regressor.py:98: UserWarning: Invalid parameter for regressor LightGBM. Parameter IGNORED. Check the list of available parameters with `regressor.get_params().keys()`\n",
      "  \". Parameter IGNORED. Check the list of \"\n",
      "/home/leonardo/anaconda3/lib/python3.6/site-packages/sklearn/linear_model/coordinate_descent.py:491: ConvergenceWarning: Objective did not converge. You might want to increase the number of iterations. Fitting data with very small alpha may cause precision problems.\n",
      "  ConvergenceWarning)\n",
      "/home/leonardo/anaconda3/lib/python3.6/site-packages/sklearn/linear_model/coordinate_descent.py:491: ConvergenceWarning: Objective did not converge. You might want to increase the number of iterations. Fitting data with very small alpha may cause precision problems.\n",
      "  ConvergenceWarning)\n",
      "/home/leonardo/anaconda3/lib/python3.6/site-packages/sklearn/linear_model/coordinate_descent.py:491: ConvergenceWarning: Objective did not converge. You might want to increase the number of iterations. Fitting data with very small alpha may cause precision problems.\n",
      "  ConvergenceWarning)\n",
      "/home/leonardo/anaconda3/lib/python3.6/site-packages/sklearn/linear_model/coordinate_descent.py:491: ConvergenceWarning: Objective did not converge. You might want to increase the number of iterations. Fitting data with very small alpha may cause precision problems.\n",
      "  ConvergenceWarning)\n",
      "/home/leonardo/anaconda3/lib/python3.6/site-packages/sklearn/linear_model/coordinate_descent.py:491: ConvergenceWarning: Objective did not converge. You might want to increase the number of iterations. Fitting data with very small alpha may cause precision problems.\n",
      "  ConvergenceWarning)\n"
     ]
    },
    {
     "name": "stdout",
     "output_type": "stream",
     "text": [
      "\n",
      "MEAN SCORE : r2 = 0.7261342527299186\n",
      "VARIANCE : 0.014634948816362714 (fold 1 = 0.7079229242908078, fold 2 = 0.7374234022997769, fold 3 = 0.714590424130356, fold 4 = 0.7229564837626623, fold 5 = 0.7477780291659902)\n",
      "CPU time: 9.67961597442627 seconds\n",
      "\n",
      "\n",
      "##################################################### testing hyper-parameters... #####################################################\n",
      "\n",
      ">>> NA ENCODER :{'numerical_strategy': 'median', 'categorical_strategy': 'None'}\n",
      "\n",
      ">>> CA ENCODER :{'strategy': 'entity_embedding'}\n",
      "\n",
      ">>> FEATURE SELECTOR :{'strategy': 'l1', 'threshold': 0.07742253521662915}\n",
      "\n",
      ">>> ESTIMATOR :{'strategy': 'XGBoost', 'colsample_bytree': 0.880712163622452, 'learning_rate': 1.514802108921654, 'max_depth': 3, 'n_estimators': 500, 'reg_alpha': 61.51742153523651, 'reg_lambda': 9.862301350060466, 'subsample': 0.6733524502451661, 'base_score': 0.5, 'colsample_bylevel': 1.0, 'gamma': 0, 'max_delta_step': 0, 'min_child_weight': 1, 'missing': None, 'nthread': -1, 'objective': 'reg:linear', 'scale_pos_weight': 1, 'seed': 0, 'silent': True}\n",
      "\n"
     ]
    },
    {
     "name": "stderr",
     "output_type": "stream",
     "text": [
      "/home/leonardo/anaconda3/lib/python3.6/site-packages/mlbox/model/supervised/regression/regressor.py:98: UserWarning: Invalid parameter for regressor LightGBM. Parameter IGNORED. Check the list of available parameters with `regressor.get_params().keys()`\n",
      "  \". Parameter IGNORED. Check the list of \"\n",
      "/home/leonardo/anaconda3/lib/python3.6/site-packages/sklearn/linear_model/coordinate_descent.py:491: ConvergenceWarning: Objective did not converge. You might want to increase the number of iterations. Fitting data with very small alpha may cause precision problems.\n",
      "  ConvergenceWarning)\n",
      "/home/leonardo/anaconda3/lib/python3.6/site-packages/sklearn/linear_model/coordinate_descent.py:491: ConvergenceWarning: Objective did not converge. You might want to increase the number of iterations. Fitting data with very small alpha may cause precision problems.\n",
      "  ConvergenceWarning)\n",
      "/home/leonardo/anaconda3/lib/python3.6/site-packages/sklearn/linear_model/coordinate_descent.py:491: ConvergenceWarning: Objective did not converge. You might want to increase the number of iterations. Fitting data with very small alpha may cause precision problems.\n",
      "  ConvergenceWarning)\n",
      "/home/leonardo/anaconda3/lib/python3.6/site-packages/sklearn/linear_model/coordinate_descent.py:491: ConvergenceWarning: Objective did not converge. You might want to increase the number of iterations. Fitting data with very small alpha may cause precision problems.\n",
      "  ConvergenceWarning)\n",
      "/home/leonardo/anaconda3/lib/python3.6/site-packages/sklearn/linear_model/coordinate_descent.py:491: ConvergenceWarning: Objective did not converge. You might want to increase the number of iterations. Fitting data with very small alpha may cause precision problems.\n",
      "  ConvergenceWarning)\n"
     ]
    },
    {
     "name": "stdout",
     "output_type": "stream",
     "text": [
      "\n",
      "MEAN SCORE : r2 = 0.31882766952731195\n",
      "VARIANCE : 0.09288049297153188 (fold 1 = 0.41017463698770296, fold 2 = 0.20811512625832773, fold 3 = 0.37888634132892407, fold 4 = 0.39360574001244275, fold 5 = 0.20335650304916242)\n",
      "CPU time: 8.658506870269775 seconds\n",
      "\n",
      "\n",
      "##################################################### testing hyper-parameters... #####################################################\n",
      "\n",
      ">>> NA ENCODER :{'numerical_strategy': 'median', 'categorical_strategy': 'None'}\n",
      "\n",
      ">>> CA ENCODER :{'strategy': 'entity_embedding'}\n",
      "\n",
      ">>> FEATURE SELECTOR :{'strategy': 'l1', 'threshold': 0.07491455354683536}\n",
      "\n",
      ">>> ESTIMATOR :{'strategy': 'XGBoost', 'colsample_bytree': 0.899389255431685, 'learning_rate': 0.002105793676761697, 'max_depth': 3, 'n_estimators': 500, 'reg_alpha': 43.529930594842654, 'reg_lambda': 9.094517480990584, 'subsample': 0.7194552049174276, 'base_score': 0.5, 'colsample_bylevel': 1.0, 'gamma': 0, 'max_delta_step': 0, 'min_child_weight': 1, 'missing': None, 'nthread': -1, 'objective': 'reg:linear', 'scale_pos_weight': 1, 'seed': 0, 'silent': True}\n",
      "\n"
     ]
    },
    {
     "name": "stderr",
     "output_type": "stream",
     "text": [
      "/home/leonardo/anaconda3/lib/python3.6/site-packages/mlbox/model/supervised/regression/regressor.py:98: UserWarning: Invalid parameter for regressor LightGBM. Parameter IGNORED. Check the list of available parameters with `regressor.get_params().keys()`\n",
      "  \". Parameter IGNORED. Check the list of \"\n",
      "/home/leonardo/anaconda3/lib/python3.6/site-packages/sklearn/linear_model/coordinate_descent.py:491: ConvergenceWarning: Objective did not converge. You might want to increase the number of iterations. Fitting data with very small alpha may cause precision problems.\n",
      "  ConvergenceWarning)\n",
      "/home/leonardo/anaconda3/lib/python3.6/site-packages/sklearn/linear_model/coordinate_descent.py:491: ConvergenceWarning: Objective did not converge. You might want to increase the number of iterations. Fitting data with very small alpha may cause precision problems.\n",
      "  ConvergenceWarning)\n",
      "/home/leonardo/anaconda3/lib/python3.6/site-packages/sklearn/linear_model/coordinate_descent.py:491: ConvergenceWarning: Objective did not converge. You might want to increase the number of iterations. Fitting data with very small alpha may cause precision problems.\n",
      "  ConvergenceWarning)\n",
      "/home/leonardo/anaconda3/lib/python3.6/site-packages/sklearn/linear_model/coordinate_descent.py:491: ConvergenceWarning: Objective did not converge. You might want to increase the number of iterations. Fitting data with very small alpha may cause precision problems.\n",
      "  ConvergenceWarning)\n",
      "/home/leonardo/anaconda3/lib/python3.6/site-packages/sklearn/linear_model/coordinate_descent.py:491: ConvergenceWarning: Objective did not converge. You might want to increase the number of iterations. Fitting data with very small alpha may cause precision problems.\n",
      "  ConvergenceWarning)\n"
     ]
    },
    {
     "name": "stdout",
     "output_type": "stream",
     "text": [
      "\n",
      "MEAN SCORE : r2 = -0.11619094316977985\n",
      "VARIANCE : 0.0631463611935399 (fold 1 = -0.013033364831447125, fold 2 = -0.08726989947125463, fold 3 = -0.20154366251193268, fold 4 = -0.1459827448134885, fold 5 = -0.1331250442207763)\n",
      "CPU time: 8.27382206916809 seconds\n",
      "\n",
      "\n",
      "##################################################### testing hyper-parameters... #####################################################\n",
      "\n",
      ">>> NA ENCODER :{'numerical_strategy': 'median', 'categorical_strategy': 'None'}\n",
      "\n",
      ">>> CA ENCODER :{'strategy': 'entity_embedding'}\n",
      "\n",
      ">>> FEATURE SELECTOR :{'strategy': 'l1', 'threshold': 0.06722910332236844}\n",
      "\n",
      ">>> ESTIMATOR :{'strategy': 'XGBoost', 'colsample_bytree': 0.8067043513254446, 'learning_rate': 1.0444377746444482, 'max_depth': 4, 'n_estimators': 1500, 'reg_alpha': 68.90155495330461, 'reg_lambda': 2.670161042998769, 'subsample': 0.6538604484247765, 'base_score': 0.5, 'colsample_bylevel': 1.0, 'gamma': 0, 'max_delta_step': 0, 'min_child_weight': 1, 'missing': None, 'nthread': -1, 'objective': 'reg:linear', 'scale_pos_weight': 1, 'seed': 0, 'silent': True}\n",
      "\n"
     ]
    },
    {
     "name": "stderr",
     "output_type": "stream",
     "text": [
      "/home/leonardo/anaconda3/lib/python3.6/site-packages/mlbox/model/supervised/regression/regressor.py:98: UserWarning: Invalid parameter for regressor LightGBM. Parameter IGNORED. Check the list of available parameters with `regressor.get_params().keys()`\n",
      "  \". Parameter IGNORED. Check the list of \"\n",
      "/home/leonardo/anaconda3/lib/python3.6/site-packages/sklearn/linear_model/coordinate_descent.py:491: ConvergenceWarning: Objective did not converge. You might want to increase the number of iterations. Fitting data with very small alpha may cause precision problems.\n",
      "  ConvergenceWarning)\n",
      "/home/leonardo/anaconda3/lib/python3.6/site-packages/sklearn/linear_model/coordinate_descent.py:491: ConvergenceWarning: Objective did not converge. You might want to increase the number of iterations. Fitting data with very small alpha may cause precision problems.\n",
      "  ConvergenceWarning)\n",
      "/home/leonardo/anaconda3/lib/python3.6/site-packages/sklearn/linear_model/coordinate_descent.py:491: ConvergenceWarning: Objective did not converge. You might want to increase the number of iterations. Fitting data with very small alpha may cause precision problems.\n",
      "  ConvergenceWarning)\n",
      "/home/leonardo/anaconda3/lib/python3.6/site-packages/sklearn/linear_model/coordinate_descent.py:491: ConvergenceWarning: Objective did not converge. You might want to increase the number of iterations. Fitting data with very small alpha may cause precision problems.\n",
      "  ConvergenceWarning)\n",
      "/home/leonardo/anaconda3/lib/python3.6/site-packages/sklearn/linear_model/coordinate_descent.py:491: ConvergenceWarning: Objective did not converge. You might want to increase the number of iterations. Fitting data with very small alpha may cause precision problems.\n",
      "  ConvergenceWarning)\n"
     ]
    },
    {
     "name": "stdout",
     "output_type": "stream",
     "text": [
      "\n",
      "MEAN SCORE : r2 = 0.6567276170684011\n",
      "VARIANCE : 0.05757744274689465 (fold 1 = 0.7189892155743368, fold 2 = 0.5606562462779403, fold 3 = 0.7127144468313138, fold 4 = 0.6523158609846864, fold 5 = 0.6389623156737284)\n",
      "CPU time: 20.98807668685913 seconds\n",
      "\n",
      "\n",
      "##################################################### testing hyper-parameters... #####################################################\n",
      "\n",
      ">>> NA ENCODER :{'numerical_strategy': 'median', 'categorical_strategy': 'None'}\n",
      "\n",
      ">>> CA ENCODER :{'strategy': 'entity_embedding'}\n",
      "\n",
      ">>> FEATURE SELECTOR :{'strategy': 'l1', 'threshold': 0.08134089810480438}\n",
      "\n",
      ">>> ESTIMATOR :{'strategy': 'XGBoost', 'colsample_bytree': 0.87743401972352, 'learning_rate': 2.4355291376557453, 'max_depth': 2, 'n_estimators': 1250, 'reg_alpha': 53.3002784074204, 'reg_lambda': 5.407406839084629, 'subsample': 0.7027611546257612, 'base_score': 0.5, 'colsample_bylevel': 1.0, 'gamma': 0, 'max_delta_step': 0, 'min_child_weight': 1, 'missing': None, 'nthread': -1, 'objective': 'reg:linear', 'scale_pos_weight': 1, 'seed': 0, 'silent': True}\n",
      "\n"
     ]
    },
    {
     "name": "stderr",
     "output_type": "stream",
     "text": [
      "/home/leonardo/anaconda3/lib/python3.6/site-packages/mlbox/model/supervised/regression/regressor.py:98: UserWarning: Invalid parameter for regressor LightGBM. Parameter IGNORED. Check the list of available parameters with `regressor.get_params().keys()`\n",
      "  \". Parameter IGNORED. Check the list of \"\n",
      "/home/leonardo/anaconda3/lib/python3.6/site-packages/sklearn/linear_model/coordinate_descent.py:491: ConvergenceWarning: Objective did not converge. You might want to increase the number of iterations. Fitting data with very small alpha may cause precision problems.\n",
      "  ConvergenceWarning)\n",
      "/home/leonardo/anaconda3/lib/python3.6/site-packages/mlbox/optimisation/optimiser.py:428: UserWarning: An error occurred while computing the cross validation mean score. Check the parameter values and your scoring function.\n",
      "  warnings.warn(\"An error occurred while computing the cross \"\n",
      "/home/leonardo/anaconda3/lib/python3.6/site-packages/mlbox/model/supervised/regression/regressor.py:98: UserWarning: Invalid parameter for regressor LightGBM. Parameter IGNORED. Check the list of available parameters with `regressor.get_params().keys()`\n",
      "  \". Parameter IGNORED. Check the list of \"\n"
     ]
    },
    {
     "name": "stdout",
     "output_type": "stream",
     "text": [
      "\n",
      "MEAN SCORE : r2 = -inf\n",
      "VARIANCE : nan (fold 1 = -inf, fold 2 = -inf, fold 3 = -inf, fold 4 = -inf, fold 5 = -inf)\n",
      "CPU time: 2.3891994953155518 seconds\n",
      "\n",
      "\n",
      "##################################################### testing hyper-parameters... #####################################################\n",
      "\n",
      ">>> NA ENCODER :{'numerical_strategy': 0, 'categorical_strategy': 'None'}\n",
      "\n",
      ">>> CA ENCODER :{'strategy': 'entity_embedding'}\n",
      "\n",
      ">>> FEATURE SELECTOR :{'strategy': 'l1', 'threshold': 0.06919022554979551}\n",
      "\n",
      ">>> ESTIMATOR :{'strategy': 'XGBoost', 'colsample_bytree': 0.8192504756027902, 'learning_rate': 1.7994890040965408, 'max_depth': 3, 'n_estimators': 500, 'reg_alpha': 89.33428310765589, 'reg_lambda': 8.790033514554208, 'subsample': 0.6366857558882775, 'base_score': 0.5, 'colsample_bylevel': 1.0, 'gamma': 0, 'max_delta_step': 0, 'min_child_weight': 1, 'missing': None, 'nthread': -1, 'objective': 'reg:linear', 'scale_pos_weight': 1, 'seed': 0, 'silent': True}\n",
      "\n"
     ]
    },
    {
     "name": "stderr",
     "output_type": "stream",
     "text": [
      "/home/leonardo/anaconda3/lib/python3.6/site-packages/sklearn/linear_model/coordinate_descent.py:491: ConvergenceWarning: Objective did not converge. You might want to increase the number of iterations. Fitting data with very small alpha may cause precision problems.\n",
      "  ConvergenceWarning)\n",
      "/home/leonardo/anaconda3/lib/python3.6/site-packages/sklearn/linear_model/coordinate_descent.py:491: ConvergenceWarning: Objective did not converge. You might want to increase the number of iterations. Fitting data with very small alpha may cause precision problems.\n",
      "  ConvergenceWarning)\n",
      "/home/leonardo/anaconda3/lib/python3.6/site-packages/sklearn/linear_model/coordinate_descent.py:491: ConvergenceWarning: Objective did not converge. You might want to increase the number of iterations. Fitting data with very small alpha may cause precision problems.\n",
      "  ConvergenceWarning)\n",
      "/home/leonardo/anaconda3/lib/python3.6/site-packages/sklearn/linear_model/coordinate_descent.py:491: ConvergenceWarning: Objective did not converge. You might want to increase the number of iterations. Fitting data with very small alpha may cause precision problems.\n",
      "  ConvergenceWarning)\n",
      "/home/leonardo/anaconda3/lib/python3.6/site-packages/sklearn/linear_model/coordinate_descent.py:491: ConvergenceWarning: Objective did not converge. You might want to increase the number of iterations. Fitting data with very small alpha may cause precision problems.\n",
      "  ConvergenceWarning)\n"
     ]
    },
    {
     "name": "stdout",
     "output_type": "stream",
     "text": [
      "\n",
      "MEAN SCORE : r2 = -24.01069465204028\n",
      "VARIANCE : 12.32322232732986 (fold 1 = -16.522566300312807, fold 2 = -48.283544853605555, fold 3 = -21.45017787303851, fold 4 = -15.117375060746532, fold 5 = -18.67980917249799)\n",
      "CPU time: 10.094159603118896 seconds\n",
      "\n",
      "\n",
      "##################################################### testing hyper-parameters... #####################################################\n",
      "\n",
      ">>> NA ENCODER :{'numerical_strategy': 'median', 'categorical_strategy': 'None'}\n",
      "\n",
      ">>> CA ENCODER :{'strategy': 'entity_embedding'}\n",
      "\n",
      ">>> FEATURE SELECTOR :{'strategy': 'l1', 'threshold': 0.08167716923308153}\n",
      "\n",
      ">>> ESTIMATOR :{'strategy': 'XGBoost', 'colsample_bytree': 0.8809916214331703, 'learning_rate': 3.0141872578649145, 'max_depth': 4, 'n_estimators': 1500, 'reg_alpha': 69.52613343929399, 'reg_lambda': 9.276300511563052, 'subsample': 0.6584097859371212, 'base_score': 0.5, 'colsample_bylevel': 1.0, 'gamma': 0, 'max_delta_step': 0, 'min_child_weight': 1, 'missing': None, 'nthread': -1, 'objective': 'reg:linear', 'scale_pos_weight': 1, 'seed': 0, 'silent': True}\n",
      "\n"
     ]
    },
    {
     "name": "stderr",
     "output_type": "stream",
     "text": [
      "/home/leonardo/anaconda3/lib/python3.6/site-packages/mlbox/model/supervised/regression/regressor.py:98: UserWarning: Invalid parameter for regressor LightGBM. Parameter IGNORED. Check the list of available parameters with `regressor.get_params().keys()`\n",
      "  \". Parameter IGNORED. Check the list of \"\n",
      "/home/leonardo/anaconda3/lib/python3.6/site-packages/sklearn/linear_model/coordinate_descent.py:491: ConvergenceWarning: Objective did not converge. You might want to increase the number of iterations. Fitting data with very small alpha may cause precision problems.\n",
      "  ConvergenceWarning)\n",
      "/home/leonardo/anaconda3/lib/python3.6/site-packages/mlbox/optimisation/optimiser.py:428: UserWarning: An error occurred while computing the cross validation mean score. Check the parameter values and your scoring function.\n",
      "  warnings.warn(\"An error occurred while computing the cross \"\n",
      "/home/leonardo/anaconda3/lib/python3.6/site-packages/mlbox/model/supervised/regression/regressor.py:98: UserWarning: Invalid parameter for regressor LightGBM. Parameter IGNORED. Check the list of available parameters with `regressor.get_params().keys()`\n",
      "  \". Parameter IGNORED. Check the list of \"\n"
     ]
    },
    {
     "name": "stdout",
     "output_type": "stream",
     "text": [
      "\n",
      "MEAN SCORE : r2 = -inf\n",
      "VARIANCE : nan (fold 1 = -inf, fold 2 = -inf, fold 3 = -inf, fold 4 = -inf, fold 5 = -inf)\n",
      "CPU time: 2.336207151412964 seconds\n",
      "\n",
      "\n",
      "##################################################### testing hyper-parameters... #####################################################\n",
      "\n",
      ">>> NA ENCODER :{'numerical_strategy': 0, 'categorical_strategy': 'None'}\n",
      "\n",
      ">>> CA ENCODER :{'strategy': 'entity_embedding'}\n",
      "\n",
      ">>> FEATURE SELECTOR :{'strategy': 'l1', 'threshold': 0.09832622278288787}\n",
      "\n",
      ">>> ESTIMATOR :{'strategy': 'XGBoost', 'colsample_bytree': 0.7899309554044665, 'learning_rate': 0.7096626439214642, 'max_depth': 4, 'n_estimators': 1500, 'reg_alpha': 40.658112750045944, 'reg_lambda': 3.2864918787158706, 'subsample': 0.7159439476055716, 'base_score': 0.5, 'colsample_bylevel': 1.0, 'gamma': 0, 'max_delta_step': 0, 'min_child_weight': 1, 'missing': None, 'nthread': -1, 'objective': 'reg:linear', 'scale_pos_weight': 1, 'seed': 0, 'silent': True}\n",
      "\n"
     ]
    },
    {
     "name": "stderr",
     "output_type": "stream",
     "text": [
      "/home/leonardo/anaconda3/lib/python3.6/site-packages/sklearn/linear_model/coordinate_descent.py:491: ConvergenceWarning: Objective did not converge. You might want to increase the number of iterations. Fitting data with very small alpha may cause precision problems.\n",
      "  ConvergenceWarning)\n",
      "/home/leonardo/anaconda3/lib/python3.6/site-packages/sklearn/linear_model/coordinate_descent.py:491: ConvergenceWarning: Objective did not converge. You might want to increase the number of iterations. Fitting data with very small alpha may cause precision problems.\n",
      "  ConvergenceWarning)\n",
      "/home/leonardo/anaconda3/lib/python3.6/site-packages/sklearn/linear_model/coordinate_descent.py:491: ConvergenceWarning: Objective did not converge. You might want to increase the number of iterations. Fitting data with very small alpha may cause precision problems.\n",
      "  ConvergenceWarning)\n",
      "/home/leonardo/anaconda3/lib/python3.6/site-packages/sklearn/linear_model/coordinate_descent.py:491: ConvergenceWarning: Objective did not converge. You might want to increase the number of iterations. Fitting data with very small alpha may cause precision problems.\n",
      "  ConvergenceWarning)\n",
      "/home/leonardo/anaconda3/lib/python3.6/site-packages/sklearn/linear_model/coordinate_descent.py:491: ConvergenceWarning: Objective did not converge. You might want to increase the number of iterations. Fitting data with very small alpha may cause precision problems.\n",
      "  ConvergenceWarning)\n"
     ]
    },
    {
     "name": "stdout",
     "output_type": "stream",
     "text": [
      "\n",
      "MEAN SCORE : r2 = 0.8036412808648195\n",
      "VARIANCE : 0.03897208758251847 (fold 1 = 0.8703269286855002, fold 2 = 0.8074426255590545, fold 3 = 0.7546465056075551, fold 4 = 0.7770640872745277, fold 5 = 0.8087262571974596)\n",
      "CPU time: 19.59972047805786 seconds\n",
      "\n",
      "\n",
      "##################################################### testing hyper-parameters... #####################################################\n",
      "\n",
      ">>> NA ENCODER :{'numerical_strategy': 'median', 'categorical_strategy': 'None'}\n",
      "\n",
      ">>> CA ENCODER :{'strategy': 'entity_embedding'}\n",
      "\n",
      ">>> FEATURE SELECTOR :{'strategy': 'l1', 'threshold': 0.09155167450096027}\n",
      "\n",
      ">>> ESTIMATOR :{'strategy': 'XGBoost', 'colsample_bytree': 0.8354009310974342, 'learning_rate': 2.9625642333400646, 'max_depth': 3, 'n_estimators': 500, 'reg_alpha': 51.93362222676903, 'reg_lambda': 5.343797563156191, 'subsample': 0.8988233035543269, 'base_score': 0.5, 'colsample_bylevel': 1.0, 'gamma': 0, 'max_delta_step': 0, 'min_child_weight': 1, 'missing': None, 'nthread': -1, 'objective': 'reg:linear', 'scale_pos_weight': 1, 'seed': 0, 'silent': True}\n",
      "\n"
     ]
    },
    {
     "name": "stderr",
     "output_type": "stream",
     "text": [
      "/home/leonardo/anaconda3/lib/python3.6/site-packages/mlbox/model/supervised/regression/regressor.py:98: UserWarning: Invalid parameter for regressor LightGBM. Parameter IGNORED. Check the list of available parameters with `regressor.get_params().keys()`\n",
      "  \". Parameter IGNORED. Check the list of \"\n",
      "/home/leonardo/anaconda3/lib/python3.6/site-packages/sklearn/linear_model/coordinate_descent.py:491: ConvergenceWarning: Objective did not converge. You might want to increase the number of iterations. Fitting data with very small alpha may cause precision problems.\n",
      "  ConvergenceWarning)\n",
      "/home/leonardo/anaconda3/lib/python3.6/site-packages/mlbox/optimisation/optimiser.py:428: UserWarning: An error occurred while computing the cross validation mean score. Check the parameter values and your scoring function.\n",
      "  warnings.warn(\"An error occurred while computing the cross \"\n",
      "/home/leonardo/anaconda3/lib/python3.6/site-packages/mlbox/model/supervised/regression/regressor.py:98: UserWarning: Invalid parameter for regressor LightGBM. Parameter IGNORED. Check the list of available parameters with `regressor.get_params().keys()`\n",
      "  \". Parameter IGNORED. Check the list of \"\n"
     ]
    },
    {
     "name": "stdout",
     "output_type": "stream",
     "text": [
      "\n",
      "MEAN SCORE : r2 = -inf\n",
      "VARIANCE : nan (fold 1 = -inf, fold 2 = -inf, fold 3 = -inf, fold 4 = -inf, fold 5 = -inf)\n",
      "CPU time: 1.081411600112915 seconds\n",
      "\n",
      "\n",
      "##################################################### testing hyper-parameters... #####################################################\n",
      "\n",
      ">>> NA ENCODER :{'numerical_strategy': 'median', 'categorical_strategy': 'None'}\n",
      "\n",
      ">>> CA ENCODER :{'strategy': 'entity_embedding'}\n",
      "\n",
      ">>> FEATURE SELECTOR :{'strategy': 'l1', 'threshold': 0.09960697380966861}\n",
      "\n",
      ">>> ESTIMATOR :{'strategy': 'XGBoost', 'colsample_bytree': 0.8960618728283795, 'learning_rate': 5.809034178321481, 'max_depth': 4, 'n_estimators': 1250, 'reg_alpha': 73.62762107753848, 'reg_lambda': 7.705822841382159, 'subsample': 0.631594960996427, 'base_score': 0.5, 'colsample_bylevel': 1.0, 'gamma': 0, 'max_delta_step': 0, 'min_child_weight': 1, 'missing': None, 'nthread': -1, 'objective': 'reg:linear', 'scale_pos_weight': 1, 'seed': 0, 'silent': True}\n",
      "\n"
     ]
    },
    {
     "name": "stderr",
     "output_type": "stream",
     "text": [
      "/home/leonardo/anaconda3/lib/python3.6/site-packages/sklearn/linear_model/coordinate_descent.py:491: ConvergenceWarning: Objective did not converge. You might want to increase the number of iterations. Fitting data with very small alpha may cause precision problems.\n",
      "  ConvergenceWarning)\n",
      "/home/leonardo/anaconda3/lib/python3.6/site-packages/mlbox/optimisation/optimiser.py:428: UserWarning: An error occurred while computing the cross validation mean score. Check the parameter values and your scoring function.\n",
      "  warnings.warn(\"An error occurred while computing the cross \"\n",
      "/home/leonardo/anaconda3/lib/python3.6/site-packages/mlbox/model/supervised/regression/regressor.py:98: UserWarning: Invalid parameter for regressor LightGBM. Parameter IGNORED. Check the list of available parameters with `regressor.get_params().keys()`\n",
      "  \". Parameter IGNORED. Check the list of \"\n"
     ]
    },
    {
     "name": "stdout",
     "output_type": "stream",
     "text": [
      "\n",
      "MEAN SCORE : r2 = -inf\n",
      "VARIANCE : nan (fold 1 = -inf, fold 2 = -inf, fold 3 = -inf, fold 4 = -inf, fold 5 = -inf)\n",
      "CPU time: 1.7670300006866455 seconds\n",
      "\n",
      "\n",
      "##################################################### testing hyper-parameters... #####################################################\n",
      "\n",
      ">>> NA ENCODER :{'numerical_strategy': 'median', 'categorical_strategy': 'None'}\n",
      "\n",
      ">>> CA ENCODER :{'strategy': 'entity_embedding'}\n",
      "\n",
      ">>> FEATURE SELECTOR :{'strategy': 'l1', 'threshold': 0.05933125864935661}\n",
      "\n",
      ">>> ESTIMATOR :{'strategy': 'XGBoost', 'colsample_bytree': 0.7135281016879406, 'learning_rate': 0.4344779382944931, 'max_depth': 3, 'n_estimators': 1500, 'reg_alpha': 86.97121774057305, 'reg_lambda': 9.898099682002416, 'subsample': 0.6696268650330456, 'base_score': 0.5, 'colsample_bylevel': 1.0, 'gamma': 0, 'max_delta_step': 0, 'min_child_weight': 1, 'missing': None, 'nthread': -1, 'objective': 'reg:linear', 'scale_pos_weight': 1, 'seed': 0, 'silent': True}\n",
      "\n"
     ]
    },
    {
     "name": "stderr",
     "output_type": "stream",
     "text": [
      "/home/leonardo/anaconda3/lib/python3.6/site-packages/sklearn/linear_model/coordinate_descent.py:491: ConvergenceWarning: Objective did not converge. You might want to increase the number of iterations. Fitting data with very small alpha may cause precision problems.\n",
      "  ConvergenceWarning)\n",
      "/home/leonardo/anaconda3/lib/python3.6/site-packages/sklearn/linear_model/coordinate_descent.py:491: ConvergenceWarning: Objective did not converge. You might want to increase the number of iterations. Fitting data with very small alpha may cause precision problems.\n",
      "  ConvergenceWarning)\n",
      "/home/leonardo/anaconda3/lib/python3.6/site-packages/sklearn/linear_model/coordinate_descent.py:491: ConvergenceWarning: Objective did not converge. You might want to increase the number of iterations. Fitting data with very small alpha may cause precision problems.\n",
      "  ConvergenceWarning)\n",
      "/home/leonardo/anaconda3/lib/python3.6/site-packages/sklearn/linear_model/coordinate_descent.py:491: ConvergenceWarning: Objective did not converge. You might want to increase the number of iterations. Fitting data with very small alpha may cause precision problems.\n",
      "  ConvergenceWarning)\n",
      "/home/leonardo/anaconda3/lib/python3.6/site-packages/sklearn/linear_model/coordinate_descent.py:491: ConvergenceWarning: Objective did not converge. You might want to increase the number of iterations. Fitting data with very small alpha may cause precision problems.\n",
      "  ConvergenceWarning)\n"
     ]
    },
    {
     "name": "stdout",
     "output_type": "stream",
     "text": [
      "\n",
      "MEAN SCORE : r2 = 0.8631968609048943\n",
      "VARIANCE : 0.013534903233226191 (fold 1 = 0.8763812952584988, fold 2 = 0.8793969919192137, fold 3 = 0.8540657273338724, fold 4 = 0.8432922075068824, fold 5 = 0.8628480825060039)\n",
      "CPU time: 15.249629497528076 seconds\n",
      "\n",
      "\n",
      "##################################################### testing hyper-parameters... #####################################################\n",
      "\n",
      ">>> NA ENCODER :{'numerical_strategy': 'median', 'categorical_strategy': 'None'}\n",
      "\n",
      ">>> CA ENCODER :{'strategy': 'entity_embedding'}\n",
      "\n",
      ">>> FEATURE SELECTOR :{'strategy': 'variance', 'threshold': 0.05506493258724247}\n",
      "\n",
      ">>> ESTIMATOR :{'strategy': 'XGBoost', 'colsample_bytree': 0.6702483209223813, 'learning_rate': 0.03514999990354961, 'max_depth': 3, 'n_estimators': 500, 'reg_alpha': 81.99447620254735, 'reg_lambda': 9.99383063016255, 'subsample': 0.7220396930150335, 'base_score': 0.5, 'colsample_bylevel': 1.0, 'gamma': 0, 'max_delta_step': 0, 'min_child_weight': 1, 'missing': None, 'nthread': -1, 'objective': 'reg:linear', 'scale_pos_weight': 1, 'seed': 0, 'silent': True}\n",
      "\n"
     ]
    },
    {
     "name": "stderr",
     "output_type": "stream",
     "text": [
      "/home/leonardo/anaconda3/lib/python3.6/site-packages/mlbox/model/supervised/regression/regressor.py:98: UserWarning: Invalid parameter for regressor LightGBM. Parameter IGNORED. Check the list of available parameters with `regressor.get_params().keys()`\n",
      "  \". Parameter IGNORED. Check the list of \"\n"
     ]
    },
    {
     "name": "stdout",
     "output_type": "stream",
     "text": [
      "\n",
      "MEAN SCORE : r2 = 0.8931548030004637\n",
      "VARIANCE : 0.030977154558131857 (fold 1 = 0.8990167324641976, fold 2 = 0.9075694924894739, fold 3 = 0.8909807413876516, fold 4 = 0.8372676556107306, fold 5 = 0.9309393930502646)\n",
      "CPU time: 6.5112762451171875 seconds\n",
      "\n",
      "\n",
      "##################################################### testing hyper-parameters... #####################################################\n",
      "\n",
      ">>> NA ENCODER :{'numerical_strategy': 'mean', 'categorical_strategy': 'None'}\n",
      "\n",
      ">>> CA ENCODER :{'strategy': 'entity_embedding'}\n",
      "\n",
      ">>> FEATURE SELECTOR :{'strategy': 'variance', 'threshold': 0.05285410655566167}\n",
      "\n",
      ">>> ESTIMATOR :{'strategy': 'XGBoost', 'colsample_bytree': 0.6773999788453043, 'learning_rate': 1.7236443772422911, 'max_depth': 3, 'n_estimators': 500, 'reg_alpha': 89.7334576019161, 'reg_lambda': 9.386643159491651, 'subsample': 0.8100027990183388, 'base_score': 0.5, 'colsample_bylevel': 1.0, 'gamma': 0, 'max_delta_step': 0, 'min_child_weight': 1, 'missing': None, 'nthread': -1, 'objective': 'reg:linear', 'scale_pos_weight': 1, 'seed': 0, 'silent': True}\n",
      "\n"
     ]
    },
    {
     "name": "stderr",
     "output_type": "stream",
     "text": [
      "/home/leonardo/anaconda3/lib/python3.6/site-packages/mlbox/model/supervised/regression/regressor.py:98: UserWarning: Invalid parameter for regressor LightGBM. Parameter IGNORED. Check the list of available parameters with `regressor.get_params().keys()`\n",
      "  \". Parameter IGNORED. Check the list of \"\n"
     ]
    },
    {
     "name": "stdout",
     "output_type": "stream",
     "text": [
      "\n",
      "MEAN SCORE : r2 = -0.06970656472834424\n",
      "VARIANCE : 0.21460737872632474 (fold 1 = 0.2502786233004971, fold 2 = -0.06496243921648004, fold 3 = -0.18373925683297032, fold 4 = -0.3903089343201691, fold 5 = 0.04019918342740114)\n",
      "CPU time: 6.749857425689697 seconds\n",
      "\n",
      "\n",
      "##################################################### testing hyper-parameters... #####################################################\n",
      "\n",
      ">>> NA ENCODER :{'numerical_strategy': 'median', 'categorical_strategy': 'None'}\n",
      "\n",
      ">>> CA ENCODER :{'strategy': 'entity_embedding'}\n",
      "\n",
      ">>> FEATURE SELECTOR :{'strategy': 'variance', 'threshold': 0.057276054382604864}\n",
      "\n",
      ">>> ESTIMATOR :{'strategy': 'XGBoost', 'colsample_bytree': 0.6779179879855294, 'learning_rate': 5.015998841505223, 'max_depth': 3, 'n_estimators': 500, 'reg_alpha': 76.99223595702122, 'reg_lambda': 8.641928460271465, 'subsample': 0.7248656135015192, 'base_score': 0.5, 'colsample_bylevel': 1.0, 'gamma': 0, 'max_delta_step': 0, 'min_child_weight': 1, 'missing': None, 'nthread': -1, 'objective': 'reg:linear', 'scale_pos_weight': 1, 'seed': 0, 'silent': True}\n",
      "\n"
     ]
    },
    {
     "name": "stderr",
     "output_type": "stream",
     "text": [
      "/home/leonardo/anaconda3/lib/python3.6/site-packages/mlbox/model/supervised/regression/regressor.py:98: UserWarning: Invalid parameter for regressor LightGBM. Parameter IGNORED. Check the list of available parameters with `regressor.get_params().keys()`\n",
      "  \". Parameter IGNORED. Check the list of \"\n",
      "/home/leonardo/anaconda3/lib/python3.6/site-packages/mlbox/optimisation/optimiser.py:428: UserWarning: An error occurred while computing the cross validation mean score. Check the parameter values and your scoring function.\n",
      "  warnings.warn(\"An error occurred while computing the cross \"\n",
      "/home/leonardo/anaconda3/lib/python3.6/site-packages/mlbox/model/supervised/regression/regressor.py:98: UserWarning: Invalid parameter for regressor LightGBM. Parameter IGNORED. Check the list of available parameters with `regressor.get_params().keys()`\n",
      "  \". Parameter IGNORED. Check the list of \"\n"
     ]
    },
    {
     "name": "stdout",
     "output_type": "stream",
     "text": [
      "\n",
      "MEAN SCORE : r2 = -inf\n",
      "VARIANCE : nan (fold 1 = -inf, fold 2 = -inf, fold 3 = -inf, fold 4 = -inf, fold 5 = -inf)\n",
      "CPU time: 0.9599058628082275 seconds\n",
      "\n",
      "\n",
      "##################################################### testing hyper-parameters... #####################################################\n",
      "\n",
      ">>> NA ENCODER :{'numerical_strategy': 0, 'categorical_strategy': 'None'}\n",
      "\n",
      ">>> CA ENCODER :{'strategy': 'dummification'}\n",
      "\n",
      ">>> FEATURE SELECTOR :{'strategy': 'variance', 'threshold': 0.06761128009173258}\n",
      "\n",
      ">>> ESTIMATOR :{'strategy': 'XGBoost', 'colsample_bytree': 0.6459287853915096, 'learning_rate': 3.40801710959481, 'max_depth': 3, 'n_estimators': 500, 'reg_alpha': 84.0462193083797, 'reg_lambda': 7.491306199930966, 'subsample': 0.7736916678469693, 'base_score': 0.5, 'colsample_bylevel': 1.0, 'gamma': 0, 'max_delta_step': 0, 'min_child_weight': 1, 'missing': None, 'nthread': -1, 'objective': 'reg:linear', 'scale_pos_weight': 1, 'seed': 0, 'silent': True}\n",
      "\n"
     ]
    },
    {
     "name": "stderr",
     "output_type": "stream",
     "text": [
      "/home/leonardo/anaconda3/lib/python3.6/site-packages/mlbox/optimisation/optimiser.py:428: UserWarning: An error occurred while computing the cross validation mean score. Check the parameter values and your scoring function.\n",
      "  warnings.warn(\"An error occurred while computing the cross \"\n",
      "/home/leonardo/anaconda3/lib/python3.6/site-packages/mlbox/model/supervised/regression/regressor.py:98: UserWarning: Invalid parameter for regressor LightGBM. Parameter IGNORED. Check the list of available parameters with `regressor.get_params().keys()`\n",
      "  \". Parameter IGNORED. Check the list of \"\n"
     ]
    },
    {
     "name": "stdout",
     "output_type": "stream",
     "text": [
      "\n",
      "MEAN SCORE : r2 = -inf\n",
      "VARIANCE : nan (fold 1 = -inf, fold 2 = -inf, fold 3 = -inf, fold 4 = -inf, fold 5 = -inf)\n",
      "CPU time: 1.8882184028625488 seconds\n",
      "\n",
      "\n",
      "##################################################### testing hyper-parameters... #####################################################\n",
      "\n",
      ">>> NA ENCODER :{'numerical_strategy': 'median', 'categorical_strategy': 'None'}\n",
      "\n",
      ">>> CA ENCODER :{'strategy': 'entity_embedding'}\n",
      "\n",
      ">>> FEATURE SELECTOR :{'strategy': 'variance', 'threshold': 0.03871912419485245}\n",
      "\n",
      ">>> ESTIMATOR :{'strategy': 'XGBoost', 'colsample_bytree': 0.6607662854051514, 'learning_rate': 6.582855224872953, 'max_depth': 5, 'n_estimators': 1000, 'reg_alpha': 65.406542279837, 'reg_lambda': 5.904626963550216, 'subsample': 0.6994809504122312, 'base_score': 0.5, 'colsample_bylevel': 1.0, 'gamma': 0, 'max_delta_step': 0, 'min_child_weight': 1, 'missing': None, 'nthread': -1, 'objective': 'reg:linear', 'scale_pos_weight': 1, 'seed': 0, 'silent': True}\n",
      "\n"
     ]
    },
    {
     "name": "stderr",
     "output_type": "stream",
     "text": [
      "/home/leonardo/anaconda3/lib/python3.6/site-packages/mlbox/optimisation/optimiser.py:428: UserWarning: An error occurred while computing the cross validation mean score. Check the parameter values and your scoring function.\n",
      "  warnings.warn(\"An error occurred while computing the cross \"\n",
      "/home/leonardo/anaconda3/lib/python3.6/site-packages/mlbox/model/supervised/regression/regressor.py:98: UserWarning: Invalid parameter for regressor LightGBM. Parameter IGNORED. Check the list of available parameters with `regressor.get_params().keys()`\n",
      "  \". Parameter IGNORED. Check the list of \"\n"
     ]
    },
    {
     "name": "stdout",
     "output_type": "stream",
     "text": [
      "\n",
      "MEAN SCORE : r2 = -inf\n",
      "VARIANCE : nan (fold 1 = -inf, fold 2 = -inf, fold 3 = -inf, fold 4 = -inf, fold 5 = -inf)\n",
      "CPU time: 1.589318037033081 seconds\n",
      "\n",
      "\n",
      "##################################################### testing hyper-parameters... #####################################################\n",
      "\n",
      ">>> NA ENCODER :{'numerical_strategy': 'mean', 'categorical_strategy': 'None'}\n",
      "\n",
      ">>> CA ENCODER :{'strategy': 'entity_embedding'}\n",
      "\n",
      ">>> FEATURE SELECTOR :{'strategy': 'variance', 'threshold': 0.029389283393397966}\n",
      "\n",
      ">>> ESTIMATOR :{'strategy': 'XGBoost', 'colsample_bytree': 0.7065306384765386, 'learning_rate': 5.096594325991262, 'max_depth': 3, 'n_estimators': 500, 'reg_alpha': 92.8242937106639, 'reg_lambda': 9.986115631389954, 'subsample': 0.7343259784261413, 'base_score': 0.5, 'colsample_bylevel': 1.0, 'gamma': 0, 'max_delta_step': 0, 'min_child_weight': 1, 'missing': None, 'nthread': -1, 'objective': 'reg:linear', 'scale_pos_weight': 1, 'seed': 0, 'silent': True}\n",
      "\n"
     ]
    },
    {
     "name": "stderr",
     "output_type": "stream",
     "text": [
      "/home/leonardo/anaconda3/lib/python3.6/site-packages/mlbox/optimisation/optimiser.py:428: UserWarning: An error occurred while computing the cross validation mean score. Check the parameter values and your scoring function.\n",
      "  warnings.warn(\"An error occurred while computing the cross \"\n",
      "/home/leonardo/anaconda3/lib/python3.6/site-packages/mlbox/model/supervised/regression/regressor.py:98: UserWarning: Invalid parameter for regressor LightGBM. Parameter IGNORED. Check the list of available parameters with `regressor.get_params().keys()`\n",
      "  \". Parameter IGNORED. Check the list of \"\n",
      "/home/leonardo/anaconda3/lib/python3.6/site-packages/mlbox/optimisation/optimiser.py:428: UserWarning: An error occurred while computing the cross validation mean score. Check the parameter values and your scoring function.\n",
      "  warnings.warn(\"An error occurred while computing the cross \"\n",
      "/home/leonardo/anaconda3/lib/python3.6/site-packages/mlbox/model/supervised/regression/regressor.py:98: UserWarning: Invalid parameter for regressor LightGBM. Parameter IGNORED. Check the list of available parameters with `regressor.get_params().keys()`\n",
      "  \". Parameter IGNORED. Check the list of \"\n"
     ]
    },
    {
     "name": "stdout",
     "output_type": "stream",
     "text": [
      "\n",
      "MEAN SCORE : r2 = -inf\n",
      "VARIANCE : nan (fold 1 = -inf, fold 2 = -inf, fold 3 = -inf, fold 4 = -inf, fold 5 = -inf)\n",
      "CPU time: 1.3773488998413086 seconds\n",
      "\n",
      "\n",
      "##################################################### testing hyper-parameters... #####################################################\n",
      "\n",
      ">>> NA ENCODER :{'numerical_strategy': 'median', 'categorical_strategy': nan}\n",
      "\n",
      ">>> CA ENCODER :{'strategy': 'dummification'}\n",
      "\n",
      ">>> FEATURE SELECTOR :{'strategy': 'variance', 'threshold': 0.052081915267208664}\n",
      "\n",
      ">>> ESTIMATOR :{'strategy': 'XGBoost', 'colsample_bytree': 0.7261207863991264, 'learning_rate': 0.10909721092692723, 'max_depth': 3, 'n_estimators': 500, 'reg_alpha': 28.459191644067644, 'reg_lambda': 8.272239871000352, 'subsample': 0.7105999558461389, 'base_score': 0.5, 'colsample_bylevel': 1.0, 'gamma': 0, 'max_delta_step': 0, 'min_child_weight': 1, 'missing': None, 'nthread': -1, 'objective': 'reg:linear', 'scale_pos_weight': 1, 'seed': 0, 'silent': True}\n",
      "\n",
      "\n",
      "MEAN SCORE : r2 = -inf\n",
      "VARIANCE : nan (fold 1 = -inf, fold 2 = -inf, fold 3 = -inf, fold 4 = -inf, fold 5 = -inf)\n",
      "CPU time: 0.03643488883972168 seconds\n",
      "\n",
      "\n",
      "##################################################### testing hyper-parameters... #####################################################\n",
      "\n",
      ">>> NA ENCODER :{'numerical_strategy': 'most_frequent', 'categorical_strategy': 'None'}\n",
      "\n",
      ">>> CA ENCODER :{'strategy': 'entity_embedding'}\n",
      "\n",
      ">>> FEATURE SELECTOR :{'strategy': 'variance', 'threshold': 0.0622335308073574}\n",
      "\n",
      ">>> ESTIMATOR :{'strategy': 'XGBoost', 'colsample_bytree': 0.611787263158589, 'learning_rate': 1.1371248547465689, 'max_depth': 5, 'n_estimators': 1000, 'reg_alpha': 74.36989618851459, 'reg_lambda': 1.5518951047515088, 'subsample': 0.803634775936195, 'base_score': 0.5, 'colsample_bylevel': 1.0, 'gamma': 0, 'max_delta_step': 0, 'min_child_weight': 1, 'missing': None, 'nthread': -1, 'objective': 'reg:linear', 'scale_pos_weight': 1, 'seed': 0, 'silent': True}\n",
      "\n",
      "\n",
      "MEAN SCORE : r2 = 0.567288045463126\n",
      "VARIANCE : 0.07921654252140231 (fold 1 = 0.6983906567474124, fold 2 = 0.4977235692134462, fold 3 = 0.5623307883172377, fold 4 = 0.4768529376644104, fold 5 = 0.6011422753731233)\n",
      "CPU time: 13.185165405273438 seconds\n",
      "\n",
      "\n",
      "##################################################### testing hyper-parameters... #####################################################\n",
      "\n",
      ">>> NA ENCODER :{'numerical_strategy': 'median', 'categorical_strategy': 'None'}\n",
      "\n",
      ">>> CA ENCODER :{'strategy': 'entity_embedding'}\n",
      "\n",
      ">>> FEATURE SELECTOR :{'strategy': 'rf_feature_importance', 'threshold': 0.07153267889600337}\n",
      "\n",
      ">>> ESTIMATOR :{'strategy': 'XGBoost', 'colsample_bytree': 0.6661508765336431, 'learning_rate': 2.0860959834586468, 'max_depth': 2, 'n_estimators': 500, 'reg_alpha': 99.89822224268333, 'reg_lambda': 7.222178761465593, 'subsample': 0.6228028690276632, 'base_score': 0.5, 'colsample_bylevel': 1.0, 'gamma': 0, 'max_delta_step': 0, 'min_child_weight': 1, 'missing': None, 'nthread': -1, 'objective': 'reg:linear', 'scale_pos_weight': 1, 'seed': 0, 'silent': True}\n",
      "\n"
     ]
    },
    {
     "name": "stderr",
     "output_type": "stream",
     "text": [
      "/home/leonardo/anaconda3/lib/python3.6/site-packages/mlbox/model/supervised/regression/regressor.py:98: UserWarning: Invalid parameter for regressor LightGBM. Parameter IGNORED. Check the list of available parameters with `regressor.get_params().keys()`\n",
      "  \". Parameter IGNORED. Check the list of \"\n"
     ]
    },
    {
     "name": "stdout",
     "output_type": "stream",
     "text": [
      "\n",
      "MEAN SCORE : r2 = -2.2779508316570822e+26\n",
      "VARIANCE : 3.5556449290353085e+26 (fold 1 = -1.612281136381704e+26, fold 2 = -1.1984053483660448e+19, fold 3 = -4.775166818809864e+25, fold 4 = -9.291437404927626e+26, fold 5 = -8.518815254560732e+23)\n",
      "CPU time: 10.678956508636475 seconds\n",
      "\n",
      "\n",
      "##################################################### testing hyper-parameters... #####################################################\n",
      "\n",
      ">>> NA ENCODER :{'numerical_strategy': 'mean', 'categorical_strategy': 'None'}\n",
      "\n",
      ">>> CA ENCODER :{'strategy': 'dummification'}\n",
      "\n",
      ">>> FEATURE SELECTOR :{'strategy': 'variance', 'threshold': 0.03580759166094451}\n",
      "\n",
      ">>> ESTIMATOR :{'strategy': 'XGBoost', 'colsample_bytree': 0.7244730896950637, 'learning_rate': 3.5839576743203834, 'max_depth': 3, 'n_estimators': 1250, 'reg_alpha': 81.89181867315028, 'reg_lambda': 3.1347491559475653, 'subsample': 0.6021336376199518, 'base_score': 0.5, 'colsample_bylevel': 1.0, 'gamma': 0, 'max_delta_step': 0, 'min_child_weight': 1, 'missing': None, 'nthread': -1, 'objective': 'reg:linear', 'scale_pos_weight': 1, 'seed': 0, 'silent': True}\n",
      "\n"
     ]
    },
    {
     "name": "stderr",
     "output_type": "stream",
     "text": [
      "/home/leonardo/anaconda3/lib/python3.6/site-packages/mlbox/model/supervised/regression/regressor.py:98: UserWarning: Invalid parameter for regressor LightGBM. Parameter IGNORED. Check the list of available parameters with `regressor.get_params().keys()`\n",
      "  \". Parameter IGNORED. Check the list of \"\n",
      "/home/leonardo/anaconda3/lib/python3.6/site-packages/mlbox/optimisation/optimiser.py:428: UserWarning: An error occurred while computing the cross validation mean score. Check the parameter values and your scoring function.\n",
      "  warnings.warn(\"An error occurred while computing the cross \"\n",
      "/home/leonardo/anaconda3/lib/python3.6/site-packages/mlbox/model/supervised/regression/regressor.py:98: UserWarning: Invalid parameter for regressor LightGBM. Parameter IGNORED. Check the list of available parameters with `regressor.get_params().keys()`\n",
      "  \". Parameter IGNORED. Check the list of \"\n"
     ]
    },
    {
     "name": "stdout",
     "output_type": "stream",
     "text": [
      "\n",
      "MEAN SCORE : r2 = -inf\n",
      "VARIANCE : nan (fold 1 = -inf, fold 2 = -inf, fold 3 = -inf, fold 4 = -inf, fold 5 = -inf)\n",
      "CPU time: 3.9328222274780273 seconds\n",
      "\n",
      "\n",
      "##################################################### testing hyper-parameters... #####################################################\n",
      "\n",
      ">>> NA ENCODER :{'numerical_strategy': 0, 'categorical_strategy': nan}\n",
      "\n",
      ">>> CA ENCODER :{'strategy': 'entity_embedding'}\n",
      "\n",
      ">>> FEATURE SELECTOR :{'strategy': 'variance', 'threshold': 0.06401855743607697}\n",
      "\n",
      ">>> ESTIMATOR :{'strategy': 'XGBoost', 'colsample_bytree': 0.6541220295822779, 'learning_rate': 7.7336092738114655, 'max_depth': 5, 'n_estimators': 500, 'reg_alpha': 35.741292866818746, 'reg_lambda': 6.228948321909645, 'subsample': 0.7750463243163225, 'base_score': 0.5, 'colsample_bylevel': 1.0, 'gamma': 0, 'max_delta_step': 0, 'min_child_weight': 1, 'missing': None, 'nthread': -1, 'objective': 'reg:linear', 'scale_pos_weight': 1, 'seed': 0, 'silent': True}\n",
      "\n"
     ]
    },
    {
     "name": "stderr",
     "output_type": "stream",
     "text": [
      "/home/leonardo/anaconda3/lib/python3.6/site-packages/mlbox/optimisation/optimiser.py:428: UserWarning: An error occurred while computing the cross validation mean score. Check the parameter values and your scoring function.\n",
      "  warnings.warn(\"An error occurred while computing the cross \"\n",
      "/home/leonardo/anaconda3/lib/python3.6/site-packages/mlbox/model/supervised/regression/regressor.py:98: UserWarning: Invalid parameter for regressor LightGBM. Parameter IGNORED. Check the list of available parameters with `regressor.get_params().keys()`\n",
      "  \". Parameter IGNORED. Check the list of \"\n"
     ]
    },
    {
     "name": "stdout",
     "output_type": "stream",
     "text": [
      "\n",
      "MEAN SCORE : r2 = -inf\n",
      "VARIANCE : nan (fold 1 = -inf, fold 2 = -inf, fold 3 = -inf, fold 4 = -inf, fold 5 = -inf)\n",
      "CPU time: 0.3960394859313965 seconds\n",
      "\n",
      "\n",
      "##################################################### testing hyper-parameters... #####################################################\n",
      "\n",
      ">>> NA ENCODER :{'numerical_strategy': 'most_frequent', 'categorical_strategy': 'None'}\n",
      "\n",
      ">>> CA ENCODER :{'strategy': 'entity_embedding'}\n",
      "\n",
      ">>> FEATURE SELECTOR :{'strategy': 'rf_feature_importance', 'threshold': 0.08348418189077904}\n",
      "\n",
      ">>> ESTIMATOR :{'strategy': 'XGBoost', 'colsample_bytree': 0.6005252830493039, 'learning_rate': 1.4881646492720941, 'max_depth': 3, 'n_estimators': 300, 'reg_alpha': 95.24770439479836, 'reg_lambda': 8.098615413964135, 'subsample': 0.7581741493468195, 'base_score': 0.5, 'colsample_bylevel': 1.0, 'gamma': 0, 'max_delta_step': 0, 'min_child_weight': 1, 'missing': None, 'nthread': -1, 'objective': 'reg:linear', 'scale_pos_weight': 1, 'seed': 0, 'silent': True}\n",
      "\n",
      "\n",
      "MEAN SCORE : r2 = 0.5261183130699292\n",
      "VARIANCE : 0.060808450774420555 (fold 1 = 0.5348043496845177, fold 2 = 0.46619692748157127, fold 3 = 0.6100882300203874, fold 4 = 0.5698991621450885, fold 5 = 0.4496028960180809)\n",
      "CPU time: 10.688827991485596 seconds\n",
      "\n",
      "\n",
      "##################################################### testing hyper-parameters... #####################################################\n",
      "\n",
      ">>> NA ENCODER :{'numerical_strategy': 'median', 'categorical_strategy': 'None'}\n",
      "\n",
      ">>> CA ENCODER :{'strategy': 'dummification'}\n",
      "\n",
      ">>> FEATURE SELECTOR :{'strategy': 'variance', 'threshold': 0.05806430574522784}\n",
      "\n",
      ">>> ESTIMATOR :{'strategy': 'XGBoost', 'colsample_bytree': 0.7678448186827459, 'learning_rate': 2.7240820391649487, 'max_depth': 3, 'n_estimators': 1000, 'reg_alpha': 67.79674483153674, 'reg_lambda': 8.84813011292031, 'subsample': 0.6834587185148142, 'base_score': 0.5, 'colsample_bylevel': 1.0, 'gamma': 0, 'max_delta_step': 0, 'min_child_weight': 1, 'missing': None, 'nthread': -1, 'objective': 'reg:linear', 'scale_pos_weight': 1, 'seed': 0, 'silent': True}\n",
      "\n"
     ]
    },
    {
     "name": "stderr",
     "output_type": "stream",
     "text": [
      "/home/leonardo/anaconda3/lib/python3.6/site-packages/mlbox/model/supervised/regression/regressor.py:98: UserWarning: Invalid parameter for regressor LightGBM. Parameter IGNORED. Check the list of available parameters with `regressor.get_params().keys()`\n",
      "  \". Parameter IGNORED. Check the list of \"\n",
      "/home/leonardo/anaconda3/lib/python3.6/site-packages/mlbox/optimisation/optimiser.py:428: UserWarning: An error occurred while computing the cross validation mean score. Check the parameter values and your scoring function.\n",
      "  warnings.warn(\"An error occurred while computing the cross \"\n",
      "/home/leonardo/anaconda3/lib/python3.6/site-packages/mlbox/model/supervised/regression/regressor.py:98: UserWarning: Invalid parameter for regressor LightGBM. Parameter IGNORED. Check the list of available parameters with `regressor.get_params().keys()`\n",
      "  \". Parameter IGNORED. Check the list of \"\n"
     ]
    },
    {
     "name": "stdout",
     "output_type": "stream",
     "text": [
      "\n",
      "MEAN SCORE : r2 = -inf\n",
      "VARIANCE : nan (fold 1 = -inf, fold 2 = -inf, fold 3 = -inf, fold 4 = -inf, fold 5 = -inf)\n",
      "CPU time: 3.2504634857177734 seconds\n",
      "\n",
      "\n",
      "##################################################### testing hyper-parameters... #####################################################\n",
      "\n",
      ">>> NA ENCODER :{'numerical_strategy': 'median', 'categorical_strategy': nan}\n",
      "\n",
      ">>> CA ENCODER :{'strategy': 'label_encoding'}\n",
      "\n",
      ">>> FEATURE SELECTOR :{'strategy': 'rf_feature_importance', 'threshold': 0.012007951067567364}\n",
      "\n",
      ">>> ESTIMATOR :{'strategy': 'XGBoost', 'colsample_bytree': 0.6964623766922248, 'learning_rate': 4.504247373918625, 'max_depth': 2, 'n_estimators': 500, 'reg_alpha': 63.391212094084864, 'reg_lambda': 9.615001055433856, 'subsample': 0.8191997350317871, 'base_score': 0.5, 'colsample_bylevel': 1.0, 'gamma': 0, 'max_delta_step': 0, 'min_child_weight': 1, 'missing': None, 'nthread': -1, 'objective': 'reg:linear', 'scale_pos_weight': 1, 'seed': 0, 'silent': True}\n",
      "\n"
     ]
    },
    {
     "name": "stderr",
     "output_type": "stream",
     "text": [
      "/home/leonardo/anaconda3/lib/python3.6/site-packages/mlbox/optimisation/optimiser.py:428: UserWarning: An error occurred while computing the cross validation mean score. Check the parameter values and your scoring function.\n",
      "  warnings.warn(\"An error occurred while computing the cross \"\n",
      "/home/leonardo/anaconda3/lib/python3.6/site-packages/mlbox/model/supervised/regression/regressor.py:98: UserWarning: Invalid parameter for regressor LightGBM. Parameter IGNORED. Check the list of available parameters with `regressor.get_params().keys()`\n",
      "  \". Parameter IGNORED. Check the list of \"\n"
     ]
    },
    {
     "name": "stdout",
     "output_type": "stream",
     "text": [
      "\n",
      "MEAN SCORE : r2 = -inf\n",
      "VARIANCE : nan (fold 1 = -inf, fold 2 = -inf, fold 3 = -inf, fold 4 = -inf, fold 5 = -inf)\n",
      "CPU time: 0.40413999557495117 seconds\n",
      "\n",
      "\n",
      "##################################################### testing hyper-parameters... #####################################################\n",
      "\n",
      ">>> NA ENCODER :{'numerical_strategy': 'most_frequent', 'categorical_strategy': 'None'}\n",
      "\n",
      ">>> CA ENCODER :{'strategy': 'entity_embedding'}\n",
      "\n",
      ">>> FEATURE SELECTOR :{'strategy': 'variance', 'threshold': 0.04210296193404614}\n",
      "\n",
      ">>> ESTIMATOR :{'strategy': 'XGBoost', 'colsample_bytree': 0.7849634482148945, 'learning_rate': 0.47631348273557716, 'max_depth': 3, 'n_estimators': 300, 'reg_alpha': 71.64878769796897, 'reg_lambda': 0.29215908058722295, 'subsample': 0.7502528442374182, 'base_score': 0.5, 'colsample_bylevel': 1.0, 'gamma': 0, 'max_delta_step': 0, 'min_child_weight': 1, 'missing': None, 'nthread': -1, 'objective': 'reg:linear', 'scale_pos_weight': 1, 'seed': 0, 'silent': True}\n",
      "\n",
      "\n",
      "MEAN SCORE : r2 = 0.8489269914366077\n",
      "VARIANCE : 0.054152379236031827 (fold 1 = 0.9115548103827498, fold 2 = 0.7824757412939689, fold 3 = 0.8758947442759952, fold 4 = 0.7857345873583561, fold 5 = 0.8889750738719682)\n",
      "CPU time: 7.990606069564819 seconds\n",
      "\n",
      "\n",
      "##################################################### testing hyper-parameters... #####################################################\n",
      "\n",
      ">>> NA ENCODER :{'numerical_strategy': 'mean', 'categorical_strategy': 'None'}\n",
      "\n",
      ">>> CA ENCODER :{'strategy': 'label_encoding'}\n",
      "\n",
      ">>> FEATURE SELECTOR :{'strategy': 'rf_feature_importance', 'threshold': 0.017839366003559676}\n",
      "\n",
      ">>> ESTIMATOR :{'strategy': 'XGBoost', 'colsample_bytree': 0.6842183834087752, 'learning_rate': 8.82028859845175, 'max_depth': 5, 'n_estimators': 500, 'reg_alpha': 55.08427639545372, 'reg_lambda': 0.9006705178042029, 'subsample': 0.734832049245651, 'base_score': 0.5, 'colsample_bylevel': 1.0, 'gamma': 0, 'max_delta_step': 0, 'min_child_weight': 1, 'missing': None, 'nthread': -1, 'objective': 'reg:linear', 'scale_pos_weight': 1, 'seed': 0, 'silent': True}\n",
      "\n"
     ]
    },
    {
     "name": "stderr",
     "output_type": "stream",
     "text": [
      "/home/leonardo/anaconda3/lib/python3.6/site-packages/mlbox/model/supervised/regression/regressor.py:98: UserWarning: Invalid parameter for regressor LightGBM. Parameter IGNORED. Check the list of available parameters with `regressor.get_params().keys()`\n",
      "  \". Parameter IGNORED. Check the list of \"\n",
      "/home/leonardo/anaconda3/lib/python3.6/site-packages/mlbox/optimisation/optimiser.py:428: UserWarning: An error occurred while computing the cross validation mean score. Check the parameter values and your scoring function.\n",
      "  warnings.warn(\"An error occurred while computing the cross \"\n",
      "/home/leonardo/anaconda3/lib/python3.6/site-packages/mlbox/model/supervised/regression/regressor.py:98: UserWarning: Invalid parameter for regressor LightGBM. Parameter IGNORED. Check the list of available parameters with `regressor.get_params().keys()`\n",
      "  \". Parameter IGNORED. Check the list of \"\n"
     ]
    },
    {
     "name": "stdout",
     "output_type": "stream",
     "text": [
      "\n",
      "MEAN SCORE : r2 = -inf\n",
      "VARIANCE : nan (fold 1 = -inf, fold 2 = -inf, fold 3 = -inf, fold 4 = -inf, fold 5 = -inf)\n",
      "CPU time: 2.763282060623169 seconds\n",
      "\n",
      "\n",
      "##################################################### testing hyper-parameters... #####################################################\n",
      "\n",
      ">>> NA ENCODER :{'numerical_strategy': 'median', 'categorical_strategy': nan}\n",
      "\n",
      ">>> CA ENCODER :{'strategy': 'entity_embedding'}\n",
      "\n",
      ">>> FEATURE SELECTOR :{'strategy': 'variance', 'threshold': 0.04850103910348315}\n",
      "\n",
      ">>> ESTIMATOR :{'strategy': 'XGBoost', 'colsample_bytree': 0.7553896242188806, 'learning_rate': 6.671096993235973, 'max_depth': 3, 'n_estimators': 1250, 'reg_alpha': 78.49580185646258, 'reg_lambda': 7.154157077514557, 'subsample': 0.6658240910222817, 'base_score': 0.5, 'colsample_bylevel': 1.0, 'gamma': 0, 'max_delta_step': 0, 'min_child_weight': 1, 'missing': None, 'nthread': -1, 'objective': 'reg:linear', 'scale_pos_weight': 1, 'seed': 0, 'silent': True}\n",
      "\n"
     ]
    },
    {
     "name": "stderr",
     "output_type": "stream",
     "text": [
      "/home/leonardo/anaconda3/lib/python3.6/site-packages/mlbox/optimisation/optimiser.py:428: UserWarning: An error occurred while computing the cross validation mean score. Check the parameter values and your scoring function.\n",
      "  warnings.warn(\"An error occurred while computing the cross \"\n",
      "/home/leonardo/anaconda3/lib/python3.6/site-packages/mlbox/model/supervised/regression/regressor.py:98: UserWarning: Invalid parameter for regressor LightGBM. Parameter IGNORED. Check the list of available parameters with `regressor.get_params().keys()`\n",
      "  \". Parameter IGNORED. Check the list of \"\n"
     ]
    },
    {
     "name": "stdout",
     "output_type": "stream",
     "text": [
      "\n",
      "MEAN SCORE : r2 = -inf\n",
      "VARIANCE : nan (fold 1 = -inf, fold 2 = -inf, fold 3 = -inf, fold 4 = -inf, fold 5 = -inf)\n",
      "CPU time: 0.5303864479064941 seconds\n",
      "\n",
      "\n",
      "##################################################### testing hyper-parameters... #####################################################\n",
      "\n",
      ">>> NA ENCODER :{'numerical_strategy': 0, 'categorical_strategy': 'None'}\n",
      "\n",
      ">>> CA ENCODER :{'strategy': 'dummification'}\n",
      "\n",
      ">>> FEATURE SELECTOR :{'strategy': 'l1', 'threshold': 0.09549837421922627}\n",
      "\n",
      ">>> ESTIMATOR :{'strategy': 'XGBoost', 'colsample_bytree': 0.6237414004504485, 'learning_rate': 3.608914312593785, 'max_depth': 2, 'n_estimators': 1000, 'reg_alpha': 48.763544789746696, 'reg_lambda': 4.82430894577756, 'subsample': 0.6900745060849394, 'base_score': 0.5, 'colsample_bylevel': 1.0, 'gamma': 0, 'max_delta_step': 0, 'min_child_weight': 1, 'missing': None, 'nthread': -1, 'objective': 'reg:linear', 'scale_pos_weight': 1, 'seed': 0, 'silent': True}\n",
      "\n"
     ]
    },
    {
     "name": "stderr",
     "output_type": "stream",
     "text": [
      "/home/leonardo/anaconda3/lib/python3.6/site-packages/sklearn/linear_model/coordinate_descent.py:491: ConvergenceWarning: Objective did not converge. You might want to increase the number of iterations. Fitting data with very small alpha may cause precision problems.\n",
      "  ConvergenceWarning)\n",
      "/home/leonardo/anaconda3/lib/python3.6/site-packages/mlbox/optimisation/optimiser.py:428: UserWarning: An error occurred while computing the cross validation mean score. Check the parameter values and your scoring function.\n",
      "  warnings.warn(\"An error occurred while computing the cross \"\n",
      "/home/leonardo/anaconda3/lib/python3.6/site-packages/mlbox/model/supervised/regression/regressor.py:98: UserWarning: Invalid parameter for regressor LightGBM. Parameter IGNORED. Check the list of available parameters with `regressor.get_params().keys()`\n",
      "  \". Parameter IGNORED. Check the list of \"\n"
     ]
    },
    {
     "name": "stdout",
     "output_type": "stream",
     "text": [
      "\n",
      "MEAN SCORE : r2 = -inf\n",
      "VARIANCE : nan (fold 1 = -inf, fold 2 = -inf, fold 3 = -inf, fold 4 = -inf, fold 5 = -inf)\n",
      "CPU time: 3.8873791694641113 seconds\n",
      "\n",
      "\n",
      "##################################################### testing hyper-parameters... #####################################################\n",
      "\n",
      ">>> NA ENCODER :{'numerical_strategy': 'most_frequent', 'categorical_strategy': 'None'}\n",
      "\n",
      ">>> CA ENCODER :{'strategy': 'label_encoding'}\n",
      "\n",
      ">>> FEATURE SELECTOR :{'strategy': 'l1', 'threshold': 0.031652432115169125}\n",
      "\n",
      ">>> ESTIMATOR :{'strategy': 'XGBoost', 'colsample_bytree': 0.7273555289321005, 'learning_rate': 5.455143594148963, 'max_depth': 3, 'n_estimators': 500, 'reg_alpha': 0.0005516864735426452, 'reg_lambda': 8.359330847492679, 'subsample': 0.8293038027532706, 'base_score': 0.5, 'colsample_bylevel': 1.0, 'gamma': 0, 'max_delta_step': 0, 'min_child_weight': 1, 'missing': None, 'nthread': -1, 'objective': 'reg:linear', 'scale_pos_weight': 1, 'seed': 0, 'silent': True}\n",
      "\n"
     ]
    },
    {
     "name": "stderr",
     "output_type": "stream",
     "text": [
      "/home/leonardo/anaconda3/lib/python3.6/site-packages/sklearn/linear_model/coordinate_descent.py:491: ConvergenceWarning: Objective did not converge. You might want to increase the number of iterations. Fitting data with very small alpha may cause precision problems.\n",
      "  ConvergenceWarning)\n",
      "/home/leonardo/anaconda3/lib/python3.6/site-packages/mlbox/optimisation/optimiser.py:428: UserWarning: An error occurred while computing the cross validation mean score. Check the parameter values and your scoring function.\n",
      "  warnings.warn(\"An error occurred while computing the cross \"\n",
      "/home/leonardo/anaconda3/lib/python3.6/site-packages/mlbox/model/supervised/regression/regressor.py:98: UserWarning: Invalid parameter for regressor LightGBM. Parameter IGNORED. Check the list of available parameters with `regressor.get_params().keys()`\n",
      "  \". Parameter IGNORED. Check the list of \"\n"
     ]
    },
    {
     "name": "stdout",
     "output_type": "stream",
     "text": [
      "\n",
      "MEAN SCORE : r2 = -inf\n",
      "VARIANCE : nan (fold 1 = -inf, fold 2 = -inf, fold 3 = -inf, fold 4 = -inf, fold 5 = -inf)\n",
      "CPU time: 1.2688982486724854 seconds\n",
      "\n",
      "\n",
      "##################################################### testing hyper-parameters... #####################################################\n",
      "\n",
      ">>> NA ENCODER :{'numerical_strategy': 'median', 'categorical_strategy': nan}\n",
      "\n",
      ">>> CA ENCODER :{'strategy': 'entity_embedding'}\n",
      "\n",
      ">>> FEATURE SELECTOR :{'strategy': 'variance', 'threshold': 0.05511363339611725}\n",
      "\n",
      ">>> ESTIMATOR :{'strategy': 'XGBoost', 'colsample_bytree': 0.8015901102191426, 'learning_rate': 2.121480698542947, 'max_depth': 5, 'n_estimators': 300, 'reg_alpha': 55.44302141180353, 'reg_lambda': 5.832197473236396, 'subsample': 0.8510189001549175, 'base_score': 0.5, 'colsample_bylevel': 1.0, 'gamma': 0, 'max_delta_step': 0, 'min_child_weight': 1, 'missing': None, 'nthread': -1, 'objective': 'reg:linear', 'scale_pos_weight': 1, 'seed': 0, 'silent': True}\n",
      "\n"
     ]
    },
    {
     "name": "stderr",
     "output_type": "stream",
     "text": [
      "/home/leonardo/anaconda3/lib/python3.6/site-packages/mlbox/optimisation/optimiser.py:428: UserWarning: An error occurred while computing the cross validation mean score. Check the parameter values and your scoring function.\n",
      "  warnings.warn(\"An error occurred while computing the cross \"\n",
      "/home/leonardo/anaconda3/lib/python3.6/site-packages/mlbox/model/supervised/regression/regressor.py:98: UserWarning: Invalid parameter for regressor LightGBM. Parameter IGNORED. Check the list of available parameters with `regressor.get_params().keys()`\n",
      "  \". Parameter IGNORED. Check the list of \"\n"
     ]
    },
    {
     "name": "stdout",
     "output_type": "stream",
     "text": [
      "\n",
      "MEAN SCORE : r2 = -inf\n",
      "VARIANCE : nan (fold 1 = -inf, fold 2 = -inf, fold 3 = -inf, fold 4 = -inf, fold 5 = -inf)\n",
      "CPU time: 0.5786798000335693 seconds\n",
      "\n",
      "\n",
      "##################################################### testing hyper-parameters... #####################################################\n",
      "\n",
      ">>> NA ENCODER :{'numerical_strategy': 'median', 'categorical_strategy': 'None'}\n",
      "\n",
      ">>> CA ENCODER :{'strategy': 'entity_embedding'}\n",
      "\n",
      ">>> FEATURE SELECTOR :{'strategy': 'rf_feature_importance', 'threshold': 0.0782102312543279}\n",
      "\n",
      ">>> ESTIMATOR :{'strategy': 'XGBoost', 'colsample_bytree': 0.819704326628, 'learning_rate': 0.8835127990849436, 'max_depth': 3, 'n_estimators': 500, 'reg_alpha': 84.2408936578641, 'reg_lambda': 6.393135097301782, 'subsample': 0.6449749609871454, 'base_score': 0.5, 'colsample_bylevel': 1.0, 'gamma': 0, 'max_delta_step': 0, 'min_child_weight': 1, 'missing': None, 'nthread': -1, 'objective': 'reg:linear', 'scale_pos_weight': 1, 'seed': 0, 'silent': True}\n",
      "\n",
      "\n",
      "MEAN SCORE : r2 = 0.7813887631647848\n",
      "VARIANCE : 0.05341506881815374 (fold 1 = 0.8636278536740497, fold 2 = 0.7722402193316403, fold 3 = 0.7629456513084301, fold 4 = 0.7012182644856222, fold 5 = 0.8069118270241815)\n",
      "CPU time: 14.084579229354858 seconds\n",
      "\n",
      "\n",
      "##################################################### testing hyper-parameters... #####################################################\n",
      "\n",
      ">>> NA ENCODER :{'numerical_strategy': 'mean', 'categorical_strategy': 'None'}\n",
      "\n",
      ">>> CA ENCODER :{'strategy': 'dummification'}\n",
      "\n",
      ">>> FEATURE SELECTOR :{'strategy': 'l1', 'threshold': 0.08494061372139151}\n",
      "\n",
      ">>> ESTIMATOR :{'strategy': 'XGBoost', 'colsample_bytree': 0.6033742964851059, 'learning_rate': 0.0019799963454248115, 'max_depth': 3, 'n_estimators': 500, 'reg_alpha': 26.651764917673123, 'reg_lambda': 7.781607333230189, 'subsample': 0.7768804899148177, 'base_score': 0.5, 'colsample_bylevel': 1.0, 'gamma': 0, 'max_delta_step': 0, 'min_child_weight': 1, 'missing': None, 'nthread': -1, 'objective': 'reg:linear', 'scale_pos_weight': 1, 'seed': 0, 'silent': True}\n",
      "\n"
     ]
    },
    {
     "name": "stderr",
     "output_type": "stream",
     "text": [
      "/home/leonardo/anaconda3/lib/python3.6/site-packages/mlbox/model/supervised/regression/regressor.py:98: UserWarning: Invalid parameter for regressor LightGBM. Parameter IGNORED. Check the list of available parameters with `regressor.get_params().keys()`\n",
      "  \". Parameter IGNORED. Check the list of \"\n",
      "/home/leonardo/anaconda3/lib/python3.6/site-packages/sklearn/linear_model/coordinate_descent.py:491: ConvergenceWarning: Objective did not converge. You might want to increase the number of iterations. Fitting data with very small alpha may cause precision problems.\n",
      "  ConvergenceWarning)\n",
      "/home/leonardo/anaconda3/lib/python3.6/site-packages/sklearn/linear_model/coordinate_descent.py:491: ConvergenceWarning: Objective did not converge. You might want to increase the number of iterations. Fitting data with very small alpha may cause precision problems.\n",
      "  ConvergenceWarning)\n",
      "/home/leonardo/anaconda3/lib/python3.6/site-packages/sklearn/linear_model/coordinate_descent.py:491: ConvergenceWarning: Objective did not converge. You might want to increase the number of iterations. Fitting data with very small alpha may cause precision problems.\n",
      "  ConvergenceWarning)\n",
      "/home/leonardo/anaconda3/lib/python3.6/site-packages/sklearn/linear_model/coordinate_descent.py:491: ConvergenceWarning: Objective did not converge. You might want to increase the number of iterations. Fitting data with very small alpha may cause precision problems.\n",
      "  ConvergenceWarning)\n",
      "/home/leonardo/anaconda3/lib/python3.6/site-packages/sklearn/linear_model/coordinate_descent.py:491: ConvergenceWarning: Objective did not converge. You might want to increase the number of iterations. Fitting data with very small alpha may cause precision problems.\n",
      "  ConvergenceWarning)\n"
     ]
    },
    {
     "name": "stdout",
     "output_type": "stream",
     "text": [
      "\n",
      "MEAN SCORE : r2 = -0.20307811120950897\n",
      "VARIANCE : 0.07312395947121342 (fold 1 = -0.0824344093164735, fold 2 = -0.17653643781128037, fold 3 = -0.3051785591971172, fold 4 = -0.22141479334976277, fold 5 = -0.22982635637291104)\n",
      "CPU time: 19.956495761871338 seconds\n",
      "\n",
      "\n",
      "##################################################### testing hyper-parameters... #####################################################\n",
      "\n",
      ">>> NA ENCODER :{'numerical_strategy': 'median', 'categorical_strategy': nan}\n",
      "\n",
      ">>> CA ENCODER :{'strategy': 'label_encoding'}\n",
      "\n",
      ">>> FEATURE SELECTOR :{'strategy': 'variance', 'threshold': 0.06361651080208269}\n",
      "\n",
      ">>> ESTIMATOR :{'strategy': 'XGBoost', 'colsample_bytree': 0.7674188543082608, 'learning_rate': 3.981755748016727, 'max_depth': 2, 'n_estimators': 1250, 'reg_alpha': 57.99223932571208, 'reg_lambda': 9.097803396735225, 'subsample': 0.6135838290170884, 'base_score': 0.5, 'colsample_bylevel': 1.0, 'gamma': 0, 'max_delta_step': 0, 'min_child_weight': 1, 'missing': None, 'nthread': -1, 'objective': 'reg:linear', 'scale_pos_weight': 1, 'seed': 0, 'silent': True}\n",
      "\n",
      "\n",
      "MEAN SCORE : r2 = -inf\n",
      "VARIANCE : nan (fold 1 = -inf, fold 2 = -inf, fold 3 = -inf, fold 4 = -inf, fold 5 = -inf)\n",
      "CPU time: 0.022646427154541016 seconds\n",
      "\n",
      "\n",
      "##################################################### testing hyper-parameters... #####################################################\n",
      "\n",
      ">>> NA ENCODER :{'numerical_strategy': 0, 'categorical_strategy': 'None'}\n",
      "\n",
      ">>> CA ENCODER :{'strategy': 'entity_embedding'}\n",
      "\n",
      ">>> FEATURE SELECTOR :{'strategy': 'l1', 'threshold': 0.07346440303478254}\n",
      "\n",
      ">>> ESTIMATOR :{'strategy': 'XGBoost', 'colsample_bytree': 0.853233233273551, 'learning_rate': 2.6669737223940384, 'max_depth': 3, 'n_estimators': 1000, 'reg_alpha': 36.39617644856621, 'reg_lambda': 9.440736944495002, 'subsample': 0.7054693201626481, 'base_score': 0.5, 'colsample_bylevel': 1.0, 'gamma': 0, 'max_delta_step': 0, 'min_child_weight': 1, 'missing': None, 'nthread': -1, 'objective': 'reg:linear', 'scale_pos_weight': 1, 'seed': 0, 'silent': True}\n",
      "\n"
     ]
    },
    {
     "name": "stderr",
     "output_type": "stream",
     "text": [
      "/home/leonardo/anaconda3/lib/python3.6/site-packages/mlbox/model/supervised/regression/regressor.py:98: UserWarning: Invalid parameter for regressor LightGBM. Parameter IGNORED. Check the list of available parameters with `regressor.get_params().keys()`\n",
      "  \". Parameter IGNORED. Check the list of \"\n",
      "/home/leonardo/anaconda3/lib/python3.6/site-packages/mlbox/optimisation/optimiser.py:428: UserWarning: An error occurred while computing the cross validation mean score. Check the parameter values and your scoring function.\n",
      "  warnings.warn(\"An error occurred while computing the cross \"\n",
      "/home/leonardo/anaconda3/lib/python3.6/site-packages/mlbox/model/supervised/regression/regressor.py:98: UserWarning: Invalid parameter for regressor LightGBM. Parameter IGNORED. Check the list of available parameters with `regressor.get_params().keys()`\n",
      "  \". Parameter IGNORED. Check the list of \"\n",
      "/home/leonardo/anaconda3/lib/python3.6/site-packages/sklearn/linear_model/coordinate_descent.py:491: ConvergenceWarning: Objective did not converge. You might want to increase the number of iterations. Fitting data with very small alpha may cause precision problems.\n",
      "  ConvergenceWarning)\n",
      "/home/leonardo/anaconda3/lib/python3.6/site-packages/mlbox/optimisation/optimiser.py:428: UserWarning: An error occurred while computing the cross validation mean score. Check the parameter values and your scoring function.\n",
      "  warnings.warn(\"An error occurred while computing the cross \"\n",
      "/home/leonardo/anaconda3/lib/python3.6/site-packages/mlbox/model/supervised/regression/regressor.py:98: UserWarning: Invalid parameter for regressor LightGBM. Parameter IGNORED. Check the list of available parameters with `regressor.get_params().keys()`\n",
      "  \". Parameter IGNORED. Check the list of \"\n"
     ]
    },
    {
     "name": "stdout",
     "output_type": "stream",
     "text": [
      "\n",
      "MEAN SCORE : r2 = -inf\n",
      "VARIANCE : nan (fold 1 = -inf, fold 2 = -inf, fold 3 = -inf, fold 4 = -inf, fold 5 = -inf)\n",
      "CPU time: 2.1145474910736084 seconds\n",
      "\n",
      "\n",
      "##################################################### testing hyper-parameters... #####################################################\n",
      "\n",
      ">>> NA ENCODER :{'numerical_strategy': 'most_frequent', 'categorical_strategy': 'None'}\n",
      "\n",
      ">>> CA ENCODER :{'strategy': 'entity_embedding'}\n",
      "\n",
      ">>> FEATURE SELECTOR :{'strategy': 'rf_feature_importance', 'threshold': 0.025142278790317014}\n",
      "\n",
      ">>> ESTIMATOR :{'strategy': 'XGBoost', 'colsample_bytree': 0.8666724650746259, 'learning_rate': 1.5057454587077919, 'max_depth': 5, 'n_estimators': 500, 'reg_alpha': 44.5125513842755, 'reg_lambda': 8.518251994495943, 'subsample': 0.8792686937856123, 'base_score': 0.5, 'colsample_bylevel': 1.0, 'gamma': 0, 'max_delta_step': 0, 'min_child_weight': 1, 'missing': None, 'nthread': -1, 'objective': 'reg:linear', 'scale_pos_weight': 1, 'seed': 0, 'silent': True}\n",
      "\n",
      "\n",
      "MEAN SCORE : r2 = 0.5023559100277171\n",
      "VARIANCE : 0.05445761619155283 (fold 1 = 0.5894518216846192, fold 2 = 0.5252252434003953, fold 3 = 0.43875452878457466, fold 4 = 0.45089398572435446, fold 5 = 0.5074539705446414)\n",
      "CPU time: 17.990398645401 seconds\n",
      "\n",
      "\n",
      "##################################################### testing hyper-parameters... #####################################################\n",
      "\n",
      ">>> NA ENCODER :{'numerical_strategy': 'median', 'categorical_strategy': 'None'}\n",
      "\n",
      ">>> CA ENCODER :{'strategy': 'entity_embedding'}\n",
      "\n",
      ">>> FEATURE SELECTOR :{'strategy': 'l1', 'threshold': 0.07821277065722738}\n",
      "\n",
      ">>> ESTIMATOR :{'strategy': 'XGBoost', 'colsample_bytree': 0.639857194227713, 'learning_rate': 0.3295925674419822, 'max_depth': 3, 'n_estimators': 300, 'reg_alpha': 64.42852519835355, 'reg_lambda': 5.526449749129772, 'subsample': 0.7599181439328409, 'base_score': 0.5, 'colsample_bylevel': 1.0, 'gamma': 0, 'max_delta_step': 0, 'min_child_weight': 1, 'missing': None, 'nthread': -1, 'objective': 'reg:linear', 'scale_pos_weight': 1, 'seed': 0, 'silent': True}\n",
      "\n"
     ]
    },
    {
     "name": "stderr",
     "output_type": "stream",
     "text": [
      "/home/leonardo/anaconda3/lib/python3.6/site-packages/mlbox/model/supervised/regression/regressor.py:98: UserWarning: Invalid parameter for regressor LightGBM. Parameter IGNORED. Check the list of available parameters with `regressor.get_params().keys()`\n",
      "  \". Parameter IGNORED. Check the list of \"\n",
      "/home/leonardo/anaconda3/lib/python3.6/site-packages/sklearn/linear_model/coordinate_descent.py:491: ConvergenceWarning: Objective did not converge. You might want to increase the number of iterations. Fitting data with very small alpha may cause precision problems.\n",
      "  ConvergenceWarning)\n",
      "/home/leonardo/anaconda3/lib/python3.6/site-packages/sklearn/linear_model/coordinate_descent.py:491: ConvergenceWarning: Objective did not converge. You might want to increase the number of iterations. Fitting data with very small alpha may cause precision problems.\n",
      "  ConvergenceWarning)\n",
      "/home/leonardo/anaconda3/lib/python3.6/site-packages/sklearn/linear_model/coordinate_descent.py:491: ConvergenceWarning: Objective did not converge. You might want to increase the number of iterations. Fitting data with very small alpha may cause precision problems.\n",
      "  ConvergenceWarning)\n",
      "/home/leonardo/anaconda3/lib/python3.6/site-packages/sklearn/linear_model/coordinate_descent.py:491: ConvergenceWarning: Objective did not converge. You might want to increase the number of iterations. Fitting data with very small alpha may cause precision problems.\n",
      "  ConvergenceWarning)\n",
      "/home/leonardo/anaconda3/lib/python3.6/site-packages/sklearn/linear_model/coordinate_descent.py:491: ConvergenceWarning: Objective did not converge. You might want to increase the number of iterations. Fitting data with very small alpha may cause precision problems.\n",
      "  ConvergenceWarning)\n"
     ]
    },
    {
     "name": "stdout",
     "output_type": "stream",
     "text": [
      "\n",
      "MEAN SCORE : r2 = 0.868967242061023\n",
      "VARIANCE : 0.036972316281031696 (fold 1 = 0.8884549501776628, fold 2 = 0.8868614695668373, fold 3 = 0.8621730619041874, fold 4 = 0.8006600620634132, fold 5 = 0.9066866665930147)\n",
      "CPU time: 7.577430725097656 seconds\n",
      "\n",
      "\n",
      "##################################################### testing hyper-parameters... #####################################################\n",
      "\n",
      ">>> NA ENCODER :{'numerical_strategy': 'median', 'categorical_strategy': nan}\n",
      "\n",
      ">>> CA ENCODER :{'strategy': 'label_encoding'}\n",
      "\n",
      ">>> FEATURE SELECTOR :{'strategy': 'variance', 'threshold': 0.0930824934675532}\n",
      "\n",
      ">>> ESTIMATOR :{'strategy': 'XGBoost', 'colsample_bytree': 0.6938379925794227, 'learning_rate': 7.680643033241603, 'max_depth': 2, 'n_estimators': 500, 'reg_alpha': 94.13190096052165, 'reg_lambda': 1.9439111564719083, 'subsample': 0.725828650556901, 'base_score': 0.5, 'colsample_bylevel': 1.0, 'gamma': 0, 'max_delta_step': 0, 'min_child_weight': 1, 'missing': None, 'nthread': -1, 'objective': 'reg:linear', 'scale_pos_weight': 1, 'seed': 0, 'silent': True}\n",
      "\n",
      "\n",
      "MEAN SCORE : r2 = -inf\n",
      "VARIANCE : nan (fold 1 = -inf, fold 2 = -inf, fold 3 = -inf, fold 4 = -inf, fold 5 = -inf)\n",
      "CPU time: 0.017502784729003906 seconds\n",
      "\n",
      "\n",
      "##################################################### testing hyper-parameters... #####################################################\n",
      "\n",
      ">>> NA ENCODER :{'numerical_strategy': 'mean', 'categorical_strategy': 'None'}\n",
      "\n",
      ">>> CA ENCODER :{'strategy': 'entity_embedding'}\n",
      "\n",
      ">>> FEATURE SELECTOR :{'strategy': 'l1', 'threshold': 0.04361544230877887}\n",
      "\n",
      ">>> ESTIMATOR :{'strategy': 'XGBoost', 'colsample_bytree': 0.624264313122239, 'learning_rate': 9.925069055162968, 'max_depth': 3, 'n_estimators': 1250, 'reg_alpha': 81.63338911631823, 'reg_lambda': 9.998859388152201, 'subsample': 0.6798462713511165, 'base_score': 0.5, 'colsample_bylevel': 1.0, 'gamma': 0, 'max_delta_step': 0, 'min_child_weight': 1, 'missing': None, 'nthread': -1, 'objective': 'reg:linear', 'scale_pos_weight': 1, 'seed': 0, 'silent': True}\n",
      "\n"
     ]
    },
    {
     "name": "stderr",
     "output_type": "stream",
     "text": [
      "/home/leonardo/anaconda3/lib/python3.6/site-packages/mlbox/model/supervised/regression/regressor.py:98: UserWarning: Invalid parameter for regressor LightGBM. Parameter IGNORED. Check the list of available parameters with `regressor.get_params().keys()`\n",
      "  \". Parameter IGNORED. Check the list of \"\n",
      "/home/leonardo/anaconda3/lib/python3.6/site-packages/mlbox/optimisation/optimiser.py:428: UserWarning: An error occurred while computing the cross validation mean score. Check the parameter values and your scoring function.\n",
      "  warnings.warn(\"An error occurred while computing the cross \"\n",
      "/home/leonardo/anaconda3/lib/python3.6/site-packages/mlbox/model/supervised/regression/regressor.py:98: UserWarning: Invalid parameter for regressor LightGBM. Parameter IGNORED. Check the list of available parameters with `regressor.get_params().keys()`\n",
      "  \". Parameter IGNORED. Check the list of \"\n",
      "/home/leonardo/anaconda3/lib/python3.6/site-packages/sklearn/linear_model/coordinate_descent.py:491: ConvergenceWarning: Objective did not converge. You might want to increase the number of iterations. Fitting data with very small alpha may cause precision problems.\n",
      "  ConvergenceWarning)\n",
      "/home/leonardo/anaconda3/lib/python3.6/site-packages/mlbox/optimisation/optimiser.py:428: UserWarning: An error occurred while computing the cross validation mean score. Check the parameter values and your scoring function.\n",
      "  warnings.warn(\"An error occurred while computing the cross \"\n",
      "/home/leonardo/anaconda3/lib/python3.6/site-packages/mlbox/model/supervised/regression/regressor.py:98: UserWarning: Invalid parameter for regressor LightGBM. Parameter IGNORED. Check the list of available parameters with `regressor.get_params().keys()`\n",
      "  \". Parameter IGNORED. Check the list of \"\n"
     ]
    },
    {
     "name": "stdout",
     "output_type": "stream",
     "text": [
      "\n",
      "MEAN SCORE : r2 = -inf\n",
      "VARIANCE : nan (fold 1 = -inf, fold 2 = -inf, fold 3 = -inf, fold 4 = -inf, fold 5 = -inf)\n",
      "CPU time: 2.2403247356414795 seconds\n",
      "\n",
      "\n",
      "##################################################### testing hyper-parameters... #####################################################\n",
      "\n",
      ">>> NA ENCODER :{'numerical_strategy': 'median', 'categorical_strategy': 'None'}\n",
      "\n",
      ">>> CA ENCODER :{'strategy': 'dummification'}\n",
      "\n",
      ">>> FEATURE SELECTOR :{'strategy': 'l1', 'threshold': 0.08744041607426489}\n",
      "\n",
      ">>> ESTIMATOR :{'strategy': 'XGBoost', 'colsample_bytree': 0.7134418639649677, 'learning_rate': 4.545948731934823, 'max_depth': 4, 'n_estimators': 1500, 'reg_alpha': 88.40883678859178, 'reg_lambda': 7.147533463658163, 'subsample': 0.7437648665689609, 'base_score': 0.5, 'colsample_bylevel': 1.0, 'gamma': 0, 'max_delta_step': 0, 'min_child_weight': 1, 'missing': None, 'nthread': -1, 'objective': 'reg:linear', 'scale_pos_weight': 1, 'seed': 0, 'silent': True}\n",
      "\n"
     ]
    },
    {
     "name": "stderr",
     "output_type": "stream",
     "text": [
      "/home/leonardo/anaconda3/lib/python3.6/site-packages/sklearn/linear_model/coordinate_descent.py:491: ConvergenceWarning: Objective did not converge. You might want to increase the number of iterations. Fitting data with very small alpha may cause precision problems.\n",
      "  ConvergenceWarning)\n",
      "/home/leonardo/anaconda3/lib/python3.6/site-packages/mlbox/optimisation/optimiser.py:428: UserWarning: An error occurred while computing the cross validation mean score. Check the parameter values and your scoring function.\n",
      "  warnings.warn(\"An error occurred while computing the cross \"\n",
      "/home/leonardo/anaconda3/lib/python3.6/site-packages/mlbox/model/supervised/regression/regressor.py:98: UserWarning: Invalid parameter for regressor LightGBM. Parameter IGNORED. Check the list of available parameters with `regressor.get_params().keys()`\n",
      "  \". Parameter IGNORED. Check the list of \"\n"
     ]
    },
    {
     "name": "stdout",
     "output_type": "stream",
     "text": [
      "\n",
      "MEAN SCORE : r2 = -inf\n",
      "VARIANCE : nan (fold 1 = -inf, fold 2 = -inf, fold 3 = -inf, fold 4 = -inf, fold 5 = -inf)\n",
      "CPU time: 5.021958351135254 seconds\n",
      "\n",
      "\n",
      "##################################################### testing hyper-parameters... #####################################################\n",
      "\n",
      ">>> NA ENCODER :{'numerical_strategy': 0, 'categorical_strategy': 'None'}\n",
      "\n",
      ">>> CA ENCODER :{'strategy': 'entity_embedding'}\n",
      "\n",
      ">>> FEATURE SELECTOR :{'strategy': 'variance', 'threshold': 0.06999091545857863}\n",
      "\n",
      ">>> ESTIMATOR :{'strategy': 'XGBoost', 'colsample_bytree': 0.7467180256467651, 'learning_rate': 1.254305428450225, 'max_depth': 3, 'n_estimators': 500, 'reg_alpha': 97.44705514784022, 'reg_lambda': 2.4909483193510744, 'subsample': 0.6540950668070442, 'base_score': 0.5, 'colsample_bylevel': 1.0, 'gamma': 0, 'max_delta_step': 0, 'min_child_weight': 1, 'missing': None, 'nthread': -1, 'objective': 'reg:linear', 'scale_pos_weight': 1, 'seed': 0, 'silent': True}\n",
      "\n",
      "\n",
      "MEAN SCORE : r2 = 0.4866866849902672\n",
      "VARIANCE : 0.07754551458345456 (fold 1 = 0.5216571719955312, fold 2 = 0.42927363955645337, fold 3 = 0.442873244153726, fold 4 = 0.4162946500994211, fold 5 = 0.6233347191462042)\n",
      "CPU time: 10.092614650726318 seconds\n",
      "\n",
      "\n",
      "##################################################### testing hyper-parameters... #####################################################\n",
      "\n",
      ">>> NA ENCODER :{'numerical_strategy': 'median', 'categorical_strategy': nan}\n",
      "\n",
      ">>> CA ENCODER :{'strategy': 'entity_embedding'}\n",
      "\n",
      ">>> FEATURE SELECTOR :{'strategy': 'rf_feature_importance', 'threshold': 0.03942221154486807}\n",
      "\n",
      ">>> ESTIMATOR :{'strategy': 'XGBoost', 'colsample_bytree': 0.6689654515197669, 'learning_rate': 0.707593373209009, 'max_depth': 3, 'n_estimators': 500, 'reg_alpha': 38.95468758087799, 'reg_lambda': 4.315887210189244, 'subsample': 0.7912260125497381, 'base_score': 0.5, 'colsample_bylevel': 1.0, 'gamma': 0, 'max_delta_step': 0, 'min_child_weight': 1, 'missing': None, 'nthread': -1, 'objective': 'reg:linear', 'scale_pos_weight': 1, 'seed': 0, 'silent': True}\n",
      "\n"
     ]
    },
    {
     "name": "stderr",
     "output_type": "stream",
     "text": [
      "/home/leonardo/anaconda3/lib/python3.6/site-packages/mlbox/model/supervised/regression/regressor.py:98: UserWarning: Invalid parameter for regressor LightGBM. Parameter IGNORED. Check the list of available parameters with `regressor.get_params().keys()`\n",
      "  \". Parameter IGNORED. Check the list of \"\n",
      "/home/leonardo/anaconda3/lib/python3.6/site-packages/mlbox/optimisation/optimiser.py:428: UserWarning: An error occurred while computing the cross validation mean score. Check the parameter values and your scoring function.\n",
      "  warnings.warn(\"An error occurred while computing the cross \"\n",
      "/home/leonardo/anaconda3/lib/python3.6/site-packages/mlbox/model/supervised/regression/regressor.py:98: UserWarning: Invalid parameter for regressor LightGBM. Parameter IGNORED. Check the list of available parameters with `regressor.get_params().keys()`\n",
      "  \". Parameter IGNORED. Check the list of \"\n"
     ]
    },
    {
     "name": "stdout",
     "output_type": "stream",
     "text": [
      "\n",
      "MEAN SCORE : r2 = -inf\n",
      "VARIANCE : nan (fold 1 = -inf, fold 2 = -inf, fold 3 = -inf, fold 4 = -inf, fold 5 = -inf)\n",
      "CPU time: 0.5320079326629639 seconds\n",
      "\n",
      "\n",
      "##################################################### testing hyper-parameters... #####################################################\n",
      "\n",
      ">>> NA ENCODER :{'numerical_strategy': 'most_frequent', 'categorical_strategy': 'None'}\n",
      "\n",
      ">>> CA ENCODER :{'strategy': 'label_encoding'}\n",
      "\n",
      ">>> FEATURE SELECTOR :{'strategy': 'l1', 'threshold': 0.06533879191640925}\n",
      "\n",
      ">>> ESTIMATOR :{'strategy': 'XGBoost', 'colsample_bytree': 0.8335530433413496, 'learning_rate': 8.72848015902505, 'max_depth': 4, 'n_estimators': 300, 'reg_alpha': 33.425015152760466, 'reg_lambda': 3.4665541632448713, 'subsample': 0.6622232368090342, 'base_score': 0.5, 'colsample_bylevel': 1.0, 'gamma': 0, 'max_delta_step': 0, 'min_child_weight': 1, 'missing': None, 'nthread': -1, 'objective': 'reg:linear', 'scale_pos_weight': 1, 'seed': 0, 'silent': True}\n",
      "\n"
     ]
    },
    {
     "name": "stderr",
     "output_type": "stream",
     "text": [
      "/home/leonardo/anaconda3/lib/python3.6/site-packages/sklearn/linear_model/coordinate_descent.py:491: ConvergenceWarning: Objective did not converge. You might want to increase the number of iterations. Fitting data with very small alpha may cause precision problems.\n",
      "  ConvergenceWarning)\n",
      "/home/leonardo/anaconda3/lib/python3.6/site-packages/mlbox/optimisation/optimiser.py:428: UserWarning: An error occurred while computing the cross validation mean score. Check the parameter values and your scoring function.\n",
      "  warnings.warn(\"An error occurred while computing the cross \"\n",
      "/home/leonardo/anaconda3/lib/python3.6/site-packages/mlbox/model/supervised/regression/regressor.py:98: UserWarning: Invalid parameter for regressor LightGBM. Parameter IGNORED. Check the list of available parameters with `regressor.get_params().keys()`\n",
      "  \". Parameter IGNORED. Check the list of \"\n"
     ]
    },
    {
     "name": "stdout",
     "output_type": "stream",
     "text": [
      "\n",
      "MEAN SCORE : r2 = -inf\n",
      "VARIANCE : nan (fold 1 = -inf, fold 2 = -inf, fold 3 = -inf, fold 4 = -inf, fold 5 = -inf)\n",
      "CPU time: 1.122861385345459 seconds\n",
      "\n",
      "\n",
      "##################################################### testing hyper-parameters... #####################################################\n",
      "\n",
      ">>> NA ENCODER :{'numerical_strategy': 'median', 'categorical_strategy': 'None'}\n",
      "\n",
      ">>> CA ENCODER :{'strategy': 'entity_embedding'}\n",
      "\n",
      ">>> FEATURE SELECTOR :{'strategy': 'variance', 'threshold': 0.050517541864893746}\n",
      "\n",
      ">>> ESTIMATOR :{'strategy': 'XGBoost', 'colsample_bytree': 0.7347226821294138, 'learning_rate': 1.8096825419787737, 'max_depth': 5, 'n_estimators': 1000, 'reg_alpha': 71.35724673405532, 'reg_lambda': 8.974066117027945, 'subsample': 0.6922382608310218, 'base_score': 0.5, 'colsample_bylevel': 1.0, 'gamma': 0, 'max_delta_step': 0, 'min_child_weight': 1, 'missing': None, 'nthread': -1, 'objective': 'reg:linear', 'scale_pos_weight': 1, 'seed': 0, 'silent': True}\n",
      "\n",
      "\n",
      "MEAN SCORE : r2 = -0.9706198371987336\n",
      "VARIANCE : 0.23631289663612318 (fold 1 = -1.1588534923926215, fold 2 = -0.6594556303578241, fold 3 = -0.9462324559494026, fold 4 = -1.3045842223146393, fold 5 = -0.7839733849791799)\n",
      "CPU time: 25.846346855163574 seconds\n",
      "\n",
      "\n",
      "##################################################### testing hyper-parameters... #####################################################\n",
      "\n",
      ">>> NA ENCODER :{'numerical_strategy': 'median', 'categorical_strategy': 'None'}\n",
      "\n",
      ">>> CA ENCODER :{'strategy': 'entity_embedding'}\n",
      "\n",
      ">>> FEATURE SELECTOR :{'strategy': 'l1', 'threshold': 0.07760845654436875}\n",
      "\n",
      ">>> ESTIMATOR :{'strategy': 'XGBoost', 'colsample_bytree': 0.6398334765025812, 'learning_rate': 0.34267054265951824, 'max_depth': 3, 'n_estimators': 300, 'reg_alpha': 64.66413120431929, 'reg_lambda': 3.802683311191764, 'subsample': 0.760944225668572, 'base_score': 0.5, 'colsample_bylevel': 1.0, 'gamma': 0, 'max_delta_step': 0, 'min_child_weight': 1, 'missing': None, 'nthread': -1, 'objective': 'reg:linear', 'scale_pos_weight': 1, 'seed': 0, 'silent': True}\n",
      "\n"
     ]
    },
    {
     "name": "stderr",
     "output_type": "stream",
     "text": [
      "/home/leonardo/anaconda3/lib/python3.6/site-packages/mlbox/model/supervised/regression/regressor.py:98: UserWarning: Invalid parameter for regressor LightGBM. Parameter IGNORED. Check the list of available parameters with `regressor.get_params().keys()`\n",
      "  \". Parameter IGNORED. Check the list of \"\n",
      "/home/leonardo/anaconda3/lib/python3.6/site-packages/sklearn/linear_model/coordinate_descent.py:491: ConvergenceWarning: Objective did not converge. You might want to increase the number of iterations. Fitting data with very small alpha may cause precision problems.\n",
      "  ConvergenceWarning)\n",
      "/home/leonardo/anaconda3/lib/python3.6/site-packages/sklearn/linear_model/coordinate_descent.py:491: ConvergenceWarning: Objective did not converge. You might want to increase the number of iterations. Fitting data with very small alpha may cause precision problems.\n",
      "  ConvergenceWarning)\n",
      "/home/leonardo/anaconda3/lib/python3.6/site-packages/sklearn/linear_model/coordinate_descent.py:491: ConvergenceWarning: Objective did not converge. You might want to increase the number of iterations. Fitting data with very small alpha may cause precision problems.\n",
      "  ConvergenceWarning)\n",
      "/home/leonardo/anaconda3/lib/python3.6/site-packages/sklearn/linear_model/coordinate_descent.py:491: ConvergenceWarning: Objective did not converge. You might want to increase the number of iterations. Fitting data with very small alpha may cause precision problems.\n",
      "  ConvergenceWarning)\n",
      "/home/leonardo/anaconda3/lib/python3.6/site-packages/sklearn/linear_model/coordinate_descent.py:491: ConvergenceWarning: Objective did not converge. You might want to increase the number of iterations. Fitting data with very small alpha may cause precision problems.\n",
      "  ConvergenceWarning)\n"
     ]
    },
    {
     "name": "stdout",
     "output_type": "stream",
     "text": [
      "\n",
      "MEAN SCORE : r2 = 0.8668850164988374\n",
      "VARIANCE : 0.04662178057529511 (fold 1 = 0.8831553078809717, fold 2 = 0.894375575309208, fold 3 = 0.8712783533672857, fold 4 = 0.776971821017765, fold 5 = 0.9086440249189569)\n",
      "CPU time: 9.065985679626465 seconds\n",
      "\n",
      "\n",
      "##################################################### testing hyper-parameters... #####################################################\n",
      "\n",
      ">>> NA ENCODER :{'numerical_strategy': 'median', 'categorical_strategy': 'None'}\n",
      "\n",
      ">>> CA ENCODER :{'strategy': 'entity_embedding'}\n",
      "\n",
      ">>> FEATURE SELECTOR :{'strategy': 'l1', 'threshold': 0.07233743175295637}\n",
      "\n",
      ">>> ESTIMATOR :{'strategy': 'XGBoost', 'colsample_bytree': 0.6476319817108042, 'learning_rate': 0.2142769037820621, 'max_depth': 3, 'n_estimators': 300, 'reg_alpha': 60.98574212615263, 'reg_lambda': 2.6274260603066804, 'subsample': 0.7823703291630306, 'base_score': 0.5, 'colsample_bylevel': 1.0, 'gamma': 0, 'max_delta_step': 0, 'min_child_weight': 1, 'missing': None, 'nthread': -1, 'objective': 'reg:linear', 'scale_pos_weight': 1, 'seed': 0, 'silent': True}\n",
      "\n"
     ]
    },
    {
     "name": "stderr",
     "output_type": "stream",
     "text": [
      "/home/leonardo/anaconda3/lib/python3.6/site-packages/mlbox/model/supervised/regression/regressor.py:98: UserWarning: Invalid parameter for regressor LightGBM. Parameter IGNORED. Check the list of available parameters with `regressor.get_params().keys()`\n",
      "  \". Parameter IGNORED. Check the list of \"\n",
      "/home/leonardo/anaconda3/lib/python3.6/site-packages/sklearn/linear_model/coordinate_descent.py:491: ConvergenceWarning: Objective did not converge. You might want to increase the number of iterations. Fitting data with very small alpha may cause precision problems.\n",
      "  ConvergenceWarning)\n",
      "/home/leonardo/anaconda3/lib/python3.6/site-packages/sklearn/linear_model/coordinate_descent.py:491: ConvergenceWarning: Objective did not converge. You might want to increase the number of iterations. Fitting data with very small alpha may cause precision problems.\n",
      "  ConvergenceWarning)\n",
      "/home/leonardo/anaconda3/lib/python3.6/site-packages/sklearn/linear_model/coordinate_descent.py:491: ConvergenceWarning: Objective did not converge. You might want to increase the number of iterations. Fitting data with very small alpha may cause precision problems.\n",
      "  ConvergenceWarning)\n",
      "/home/leonardo/anaconda3/lib/python3.6/site-packages/sklearn/linear_model/coordinate_descent.py:491: ConvergenceWarning: Objective did not converge. You might want to increase the number of iterations. Fitting data with very small alpha may cause precision problems.\n",
      "  ConvergenceWarning)\n",
      "/home/leonardo/anaconda3/lib/python3.6/site-packages/sklearn/linear_model/coordinate_descent.py:491: ConvergenceWarning: Objective did not converge. You might want to increase the number of iterations. Fitting data with very small alpha may cause precision problems.\n",
      "  ConvergenceWarning)\n"
     ]
    },
    {
     "name": "stdout",
     "output_type": "stream",
     "text": [
      "\n",
      "MEAN SCORE : r2 = 0.8988499111526901\n",
      "VARIANCE : 0.02757981387827031 (fold 1 = 0.9295898637062745, fold 2 = 0.9065478588661364, fold 3 = 0.8874708769900892, fold 4 = 0.851383374144022, fold 5 = 0.9192575820569282)\n",
      "CPU time: 6.684298992156982 seconds\n",
      "\n",
      "\n",
      "##################################################### testing hyper-parameters... #####################################################\n",
      "\n",
      ">>> NA ENCODER :{'numerical_strategy': 'median', 'categorical_strategy': 'None'}\n",
      "\n",
      ">>> CA ENCODER :{'strategy': 'entity_embedding'}\n",
      "\n",
      ">>> FEATURE SELECTOR :{'strategy': 'l1', 'threshold': 0.08128216385739737}\n",
      "\n",
      ">>> ESTIMATOR :{'strategy': 'XGBoost', 'colsample_bytree': 0.6460220055459763, 'learning_rate': 0.004902091781268186, 'max_depth': 3, 'n_estimators': 300, 'reg_alpha': 50.38192423799009, 'reg_lambda': 2.3806038950766157, 'subsample': 0.7229973461082503, 'base_score': 0.5, 'colsample_bylevel': 1.0, 'gamma': 0, 'max_delta_step': 0, 'min_child_weight': 1, 'missing': None, 'nthread': -1, 'objective': 'reg:linear', 'scale_pos_weight': 1, 'seed': 0, 'silent': True}\n",
      "\n"
     ]
    },
    {
     "name": "stderr",
     "output_type": "stream",
     "text": [
      "/home/leonardo/anaconda3/lib/python3.6/site-packages/mlbox/model/supervised/regression/regressor.py:98: UserWarning: Invalid parameter for regressor LightGBM. Parameter IGNORED. Check the list of available parameters with `regressor.get_params().keys()`\n",
      "  \". Parameter IGNORED. Check the list of \"\n",
      "/home/leonardo/anaconda3/lib/python3.6/site-packages/sklearn/linear_model/coordinate_descent.py:491: ConvergenceWarning: Objective did not converge. You might want to increase the number of iterations. Fitting data with very small alpha may cause precision problems.\n",
      "  ConvergenceWarning)\n",
      "/home/leonardo/anaconda3/lib/python3.6/site-packages/sklearn/linear_model/coordinate_descent.py:491: ConvergenceWarning: Objective did not converge. You might want to increase the number of iterations. Fitting data with very small alpha may cause precision problems.\n",
      "  ConvergenceWarning)\n",
      "/home/leonardo/anaconda3/lib/python3.6/site-packages/sklearn/linear_model/coordinate_descent.py:491: ConvergenceWarning: Objective did not converge. You might want to increase the number of iterations. Fitting data with very small alpha may cause precision problems.\n",
      "  ConvergenceWarning)\n",
      "/home/leonardo/anaconda3/lib/python3.6/site-packages/sklearn/linear_model/coordinate_descent.py:491: ConvergenceWarning: Objective did not converge. You might want to increase the number of iterations. Fitting data with very small alpha may cause precision problems.\n",
      "  ConvergenceWarning)\n",
      "/home/leonardo/anaconda3/lib/python3.6/site-packages/sklearn/linear_model/coordinate_descent.py:491: ConvergenceWarning: Objective did not converge. You might want to increase the number of iterations. Fitting data with very small alpha may cause precision problems.\n",
      "  ConvergenceWarning)\n"
     ]
    },
    {
     "name": "stdout",
     "output_type": "stream",
     "text": [
      "\n",
      "MEAN SCORE : r2 = 0.44234030603252616\n",
      "VARIANCE : 0.03979206150524411 (fold 1 = 0.4638749003312377, fold 2 = 0.4840785698515885, fold 3 = 0.39123570369981375, fold 4 = 0.3973620540854812, fold 5 = 0.4751503021945097)\n",
      "CPU time: 6.9738569259643555 seconds\n",
      "\n",
      "\n",
      "##################################################### testing hyper-parameters... #####################################################\n",
      "\n",
      ">>> NA ENCODER :{'numerical_strategy': 'median', 'categorical_strategy': 'None'}\n",
      "\n",
      ">>> CA ENCODER :{'strategy': 'entity_embedding'}\n",
      "\n",
      ">>> FEATURE SELECTOR :{'strategy': 'l1', 'threshold': 0.0603245831069511}\n",
      "\n",
      ">>> ESTIMATOR :{'strategy': 'XGBoost', 'colsample_bytree': 0.655480327161604, 'learning_rate': 0.8607854747080168, 'max_depth': 3, 'n_estimators': 300, 'reg_alpha': 61.15888915618382, 'reg_lambda': 1.021904758932257, 'subsample': 0.7821908976149891, 'base_score': 0.5, 'colsample_bylevel': 1.0, 'gamma': 0, 'max_delta_step': 0, 'min_child_weight': 1, 'missing': None, 'nthread': -1, 'objective': 'reg:linear', 'scale_pos_weight': 1, 'seed': 0, 'silent': True}\n",
      "\n"
     ]
    },
    {
     "name": "stderr",
     "output_type": "stream",
     "text": [
      "/home/leonardo/anaconda3/lib/python3.6/site-packages/mlbox/model/supervised/regression/regressor.py:98: UserWarning: Invalid parameter for regressor LightGBM. Parameter IGNORED. Check the list of available parameters with `regressor.get_params().keys()`\n",
      "  \". Parameter IGNORED. Check the list of \"\n",
      "/home/leonardo/anaconda3/lib/python3.6/site-packages/sklearn/linear_model/coordinate_descent.py:491: ConvergenceWarning: Objective did not converge. You might want to increase the number of iterations. Fitting data with very small alpha may cause precision problems.\n",
      "  ConvergenceWarning)\n",
      "/home/leonardo/anaconda3/lib/python3.6/site-packages/sklearn/linear_model/coordinate_descent.py:491: ConvergenceWarning: Objective did not converge. You might want to increase the number of iterations. Fitting data with very small alpha may cause precision problems.\n",
      "  ConvergenceWarning)\n",
      "/home/leonardo/anaconda3/lib/python3.6/site-packages/sklearn/linear_model/coordinate_descent.py:491: ConvergenceWarning: Objective did not converge. You might want to increase the number of iterations. Fitting data with very small alpha may cause precision problems.\n",
      "  ConvergenceWarning)\n",
      "/home/leonardo/anaconda3/lib/python3.6/site-packages/sklearn/linear_model/coordinate_descent.py:491: ConvergenceWarning: Objective did not converge. You might want to increase the number of iterations. Fitting data with very small alpha may cause precision problems.\n",
      "  ConvergenceWarning)\n",
      "/home/leonardo/anaconda3/lib/python3.6/site-packages/sklearn/linear_model/coordinate_descent.py:491: ConvergenceWarning: Objective did not converge. You might want to increase the number of iterations. Fitting data with very small alpha may cause precision problems.\n",
      "  ConvergenceWarning)\n"
     ]
    },
    {
     "name": "stdout",
     "output_type": "stream",
     "text": [
      "\n",
      "MEAN SCORE : r2 = 0.7760106034339823\n",
      "VARIANCE : 0.029175251157009197 (fold 1 = 0.8098532899819336, fold 2 = 0.7667078454161718, fold 3 = 0.7460685857089602, fold 4 = 0.7462078640088529, fold 5 = 0.8112154320539927)\n",
      "CPU time: 5.811002492904663 seconds\n",
      "\n",
      "\n",
      "##################################################### testing hyper-parameters... #####################################################\n",
      "\n",
      ">>> NA ENCODER :{'numerical_strategy': 'median', 'categorical_strategy': 'None'}\n",
      "\n",
      ">>> CA ENCODER :{'strategy': 'entity_embedding'}\n",
      "\n",
      ">>> FEATURE SELECTOR :{'strategy': 'l1', 'threshold': 0.055823114769027044}\n",
      "\n",
      ">>> ESTIMATOR :{'strategy': 'XGBoost', 'colsample_bytree': 0.6126442390385702, 'learning_rate': 2.3404204254368643, 'max_depth': 3, 'n_estimators': 300, 'reg_alpha': 75.04966137347411, 'reg_lambda': 1.3935189282966778, 'subsample': 0.8049584656730231, 'base_score': 0.5, 'colsample_bylevel': 1.0, 'gamma': 0, 'max_delta_step': 0, 'min_child_weight': 1, 'missing': None, 'nthread': -1, 'objective': 'reg:linear', 'scale_pos_weight': 1, 'seed': 0, 'silent': True}\n",
      "\n"
     ]
    },
    {
     "name": "stderr",
     "output_type": "stream",
     "text": [
      "/home/leonardo/anaconda3/lib/python3.6/site-packages/mlbox/model/supervised/regression/regressor.py:98: UserWarning: Invalid parameter for regressor LightGBM. Parameter IGNORED. Check the list of available parameters with `regressor.get_params().keys()`\n",
      "  \". Parameter IGNORED. Check the list of \"\n",
      "/home/leonardo/anaconda3/lib/python3.6/site-packages/sklearn/linear_model/coordinate_descent.py:491: ConvergenceWarning: Objective did not converge. You might want to increase the number of iterations. Fitting data with very small alpha may cause precision problems.\n",
      "  ConvergenceWarning)\n",
      "/home/leonardo/anaconda3/lib/python3.6/site-packages/mlbox/optimisation/optimiser.py:428: UserWarning: An error occurred while computing the cross validation mean score. Check the parameter values and your scoring function.\n",
      "  warnings.warn(\"An error occurred while computing the cross \"\n",
      "/home/leonardo/anaconda3/lib/python3.6/site-packages/mlbox/model/supervised/regression/regressor.py:98: UserWarning: Invalid parameter for regressor LightGBM. Parameter IGNORED. Check the list of available parameters with `regressor.get_params().keys()`\n",
      "  \". Parameter IGNORED. Check the list of \"\n"
     ]
    },
    {
     "name": "stdout",
     "output_type": "stream",
     "text": [
      "\n",
      "MEAN SCORE : r2 = -inf\n",
      "VARIANCE : nan (fold 1 = -inf, fold 2 = -inf, fold 3 = -inf, fold 4 = -inf, fold 5 = -inf)\n",
      "CPU time: 1.0326781272888184 seconds\n",
      "\n",
      "\n",
      "##################################################### testing hyper-parameters... #####################################################\n",
      "\n",
      ">>> NA ENCODER :{'numerical_strategy': 'median', 'categorical_strategy': 'None'}\n",
      "\n",
      ">>> CA ENCODER :{'strategy': 'entity_embedding'}\n",
      "\n",
      ">>> FEATURE SELECTOR :{'strategy': 'l1', 'threshold': 0.07292034429685591}\n",
      "\n",
      ">>> ESTIMATOR :{'strategy': 'XGBoost', 'colsample_bytree': 0.6751808341630794, 'learning_rate': 3.127821037586394, 'max_depth': 3, 'n_estimators': 300, 'reg_alpha': 67.12743999912293, 'reg_lambda': 2.980787268457082, 'subsample': 0.8249183257622319, 'base_score': 0.5, 'colsample_bylevel': 1.0, 'gamma': 0, 'max_delta_step': 0, 'min_child_weight': 1, 'missing': None, 'nthread': -1, 'objective': 'reg:linear', 'scale_pos_weight': 1, 'seed': 0, 'silent': True}\n",
      "\n"
     ]
    },
    {
     "name": "stderr",
     "output_type": "stream",
     "text": [
      "/home/leonardo/anaconda3/lib/python3.6/site-packages/sklearn/linear_model/coordinate_descent.py:491: ConvergenceWarning: Objective did not converge. You might want to increase the number of iterations. Fitting data with very small alpha may cause precision problems.\n",
      "  ConvergenceWarning)\n",
      "/home/leonardo/anaconda3/lib/python3.6/site-packages/mlbox/optimisation/optimiser.py:428: UserWarning: An error occurred while computing the cross validation mean score. Check the parameter values and your scoring function.\n",
      "  warnings.warn(\"An error occurred while computing the cross \"\n",
      "/home/leonardo/anaconda3/lib/python3.6/site-packages/mlbox/model/supervised/regression/regressor.py:98: UserWarning: Invalid parameter for regressor LightGBM. Parameter IGNORED. Check the list of available parameters with `regressor.get_params().keys()`\n",
      "  \". Parameter IGNORED. Check the list of \"\n"
     ]
    },
    {
     "name": "stdout",
     "output_type": "stream",
     "text": [
      "\n",
      "MEAN SCORE : r2 = -inf\n",
      "VARIANCE : nan (fold 1 = -inf, fold 2 = -inf, fold 3 = -inf, fold 4 = -inf, fold 5 = -inf)\n",
      "CPU time: 1.1501338481903076 seconds\n",
      "\n",
      "\n",
      "##################################################### testing hyper-parameters... #####################################################\n",
      "\n",
      ">>> NA ENCODER :{'numerical_strategy': 'median', 'categorical_strategy': 'None'}\n",
      "\n",
      ">>> CA ENCODER :{'strategy': 'entity_embedding'}\n",
      "\n",
      ">>> FEATURE SELECTOR :{'strategy': 'l1', 'threshold': 0.065824448265577}\n",
      "\n",
      ">>> ESTIMATOR :{'strategy': 'XGBoost', 'colsample_bytree': 0.6305285225838184, 'learning_rate': 1.84049434639212, 'max_depth': 3, 'n_estimators': 1500, 'reg_alpha': 45.761861174195694, 'reg_lambda': 2.0274682305265164, 'subsample': 0.713628663520094, 'base_score': 0.5, 'colsample_bylevel': 1.0, 'gamma': 0, 'max_delta_step': 0, 'min_child_weight': 1, 'missing': None, 'nthread': -1, 'objective': 'reg:linear', 'scale_pos_weight': 1, 'seed': 0, 'silent': True}\n",
      "\n"
     ]
    },
    {
     "name": "stderr",
     "output_type": "stream",
     "text": [
      "/home/leonardo/anaconda3/lib/python3.6/site-packages/sklearn/linear_model/coordinate_descent.py:491: ConvergenceWarning: Objective did not converge. You might want to increase the number of iterations. Fitting data with very small alpha may cause precision problems.\n",
      "  ConvergenceWarning)\n",
      "/home/leonardo/anaconda3/lib/python3.6/site-packages/sklearn/linear_model/coordinate_descent.py:491: ConvergenceWarning: Objective did not converge. You might want to increase the number of iterations. Fitting data with very small alpha may cause precision problems.\n",
      "  ConvergenceWarning)\n",
      "/home/leonardo/anaconda3/lib/python3.6/site-packages/sklearn/linear_model/coordinate_descent.py:491: ConvergenceWarning: Objective did not converge. You might want to increase the number of iterations. Fitting data with very small alpha may cause precision problems.\n",
      "  ConvergenceWarning)\n",
      "/home/leonardo/anaconda3/lib/python3.6/site-packages/sklearn/linear_model/coordinate_descent.py:491: ConvergenceWarning: Objective did not converge. You might want to increase the number of iterations. Fitting data with very small alpha may cause precision problems.\n",
      "  ConvergenceWarning)\n",
      "/home/leonardo/anaconda3/lib/python3.6/site-packages/sklearn/linear_model/coordinate_descent.py:491: ConvergenceWarning: Objective did not converge. You might want to increase the number of iterations. Fitting data with very small alpha may cause precision problems.\n",
      "  ConvergenceWarning)\n"
     ]
    },
    {
     "name": "stdout",
     "output_type": "stream",
     "text": [
      "\n",
      "MEAN SCORE : r2 = -5333706.265033285\n",
      "VARIANCE : 1337166.3363128905 (fold 1 = -4177787.2933665137, fold 2 = -6041820.735754277, fold 3 = -4946278.571045258, fold 4 = -7568406.242559486, fold 5 = -3934238.4824408917)\n",
      "CPU time: 14.41928219795227 seconds\n",
      "\n",
      "\n",
      "##################################################### testing hyper-parameters... #####################################################\n",
      "\n",
      ">>> NA ENCODER :{'numerical_strategy': 'median', 'categorical_strategy': 'None'}\n",
      "\n",
      ">>> CA ENCODER :{'strategy': 'entity_embedding'}\n",
      "\n",
      ">>> FEATURE SELECTOR :{'strategy': 'l1', 'threshold': 0.047412263479668176}\n",
      "\n",
      ">>> ESTIMATOR :{'strategy': 'XGBoost', 'colsample_bytree': 0.7076229113030555, 'learning_rate': 1.3898456488006206, 'max_depth': 3, 'n_estimators': 300, 'reg_alpha': 57.76730837641432, 'reg_lambda': 0.6972051848680014, 'subsample': 0.7461676262308149, 'base_score': 0.5, 'colsample_bylevel': 1.0, 'gamma': 0, 'max_delta_step': 0, 'min_child_weight': 1, 'missing': None, 'nthread': -1, 'objective': 'reg:linear', 'scale_pos_weight': 1, 'seed': 0, 'silent': True}\n",
      "\n"
     ]
    },
    {
     "name": "stderr",
     "output_type": "stream",
     "text": [
      "/home/leonardo/anaconda3/lib/python3.6/site-packages/mlbox/model/supervised/regression/regressor.py:98: UserWarning: Invalid parameter for regressor LightGBM. Parameter IGNORED. Check the list of available parameters with `regressor.get_params().keys()`\n",
      "  \". Parameter IGNORED. Check the list of \"\n",
      "/home/leonardo/anaconda3/lib/python3.6/site-packages/sklearn/linear_model/coordinate_descent.py:491: ConvergenceWarning: Objective did not converge. You might want to increase the number of iterations. Fitting data with very small alpha may cause precision problems.\n",
      "  ConvergenceWarning)\n",
      "/home/leonardo/anaconda3/lib/python3.6/site-packages/sklearn/linear_model/coordinate_descent.py:491: ConvergenceWarning: Objective did not converge. You might want to increase the number of iterations. Fitting data with very small alpha may cause precision problems.\n",
      "  ConvergenceWarning)\n",
      "/home/leonardo/anaconda3/lib/python3.6/site-packages/sklearn/linear_model/coordinate_descent.py:491: ConvergenceWarning: Objective did not converge. You might want to increase the number of iterations. Fitting data with very small alpha may cause precision problems.\n",
      "  ConvergenceWarning)\n",
      "/home/leonardo/anaconda3/lib/python3.6/site-packages/sklearn/linear_model/coordinate_descent.py:491: ConvergenceWarning: Objective did not converge. You might want to increase the number of iterations. Fitting data with very small alpha may cause precision problems.\n",
      "  ConvergenceWarning)\n",
      "/home/leonardo/anaconda3/lib/python3.6/site-packages/sklearn/linear_model/coordinate_descent.py:491: ConvergenceWarning: Objective did not converge. You might want to increase the number of iterations. Fitting data with very small alpha may cause precision problems.\n",
      "  ConvergenceWarning)\n"
     ]
    },
    {
     "name": "stdout",
     "output_type": "stream",
     "text": [
      "\n",
      "MEAN SCORE : r2 = 0.36726127547548854\n",
      "VARIANCE : 0.11956819866512934 (fold 1 = 0.5309807194876277, fold 2 = 0.3000835711881613, fold 3 = 0.1868670574962472, fold 4 = 0.3638654591323649, fold 5 = 0.4545095700730414)\n",
      "CPU time: 5.688175201416016 seconds\n",
      "\n",
      "\n",
      "##################################################### testing hyper-parameters... #####################################################\n",
      "\n",
      ">>> NA ENCODER :{'numerical_strategy': 'median', 'categorical_strategy': 'None'}\n",
      "\n",
      ">>> CA ENCODER :{'strategy': 'entity_embedding'}\n",
      "\n",
      ">>> FEATURE SELECTOR :{'strategy': 'l1', 'threshold': 0.053009087617185625}\n",
      "\n",
      ">>> ESTIMATOR :{'strategy': 'XGBoost', 'colsample_bytree': 0.68911434281108, 'learning_rate': 0.657738784592111, 'max_depth': 3, 'n_estimators': 500, 'reg_alpha': 77.91925763428836, 'reg_lambda': 3.6230073559869593, 'subsample': 0.7679688039498175, 'base_score': 0.5, 'colsample_bylevel': 1.0, 'gamma': 0, 'max_delta_step': 0, 'min_child_weight': 1, 'missing': None, 'nthread': -1, 'objective': 'reg:linear', 'scale_pos_weight': 1, 'seed': 0, 'silent': True}\n",
      "\n"
     ]
    },
    {
     "name": "stderr",
     "output_type": "stream",
     "text": [
      "/home/leonardo/anaconda3/lib/python3.6/site-packages/mlbox/model/supervised/regression/regressor.py:98: UserWarning: Invalid parameter for regressor LightGBM. Parameter IGNORED. Check the list of available parameters with `regressor.get_params().keys()`\n",
      "  \". Parameter IGNORED. Check the list of \"\n",
      "/home/leonardo/anaconda3/lib/python3.6/site-packages/sklearn/linear_model/coordinate_descent.py:491: ConvergenceWarning: Objective did not converge. You might want to increase the number of iterations. Fitting data with very small alpha may cause precision problems.\n",
      "  ConvergenceWarning)\n",
      "/home/leonardo/anaconda3/lib/python3.6/site-packages/sklearn/linear_model/coordinate_descent.py:491: ConvergenceWarning: Objective did not converge. You might want to increase the number of iterations. Fitting data with very small alpha may cause precision problems.\n",
      "  ConvergenceWarning)\n",
      "/home/leonardo/anaconda3/lib/python3.6/site-packages/sklearn/linear_model/coordinate_descent.py:491: ConvergenceWarning: Objective did not converge. You might want to increase the number of iterations. Fitting data with very small alpha may cause precision problems.\n",
      "  ConvergenceWarning)\n",
      "/home/leonardo/anaconda3/lib/python3.6/site-packages/sklearn/linear_model/coordinate_descent.py:491: ConvergenceWarning: Objective did not converge. You might want to increase the number of iterations. Fitting data with very small alpha may cause precision problems.\n",
      "  ConvergenceWarning)\n",
      "/home/leonardo/anaconda3/lib/python3.6/site-packages/sklearn/linear_model/coordinate_descent.py:491: ConvergenceWarning: Objective did not converge. You might want to increase the number of iterations. Fitting data with very small alpha may cause precision problems.\n",
      "  ConvergenceWarning)\n"
     ]
    },
    {
     "name": "stdout",
     "output_type": "stream",
     "text": [
      "\n",
      "MEAN SCORE : r2 = 0.8362114432662782\n",
      "VARIANCE : 0.01452038120255717 (fold 1 = 0.855158728787691, fold 2 = 0.8132187133076932, fold 3 = 0.8306752515110294, fold 4 = 0.834294474971037, fold 5 = 0.8477100477539404)\n",
      "CPU time: 7.646790266036987 seconds\n",
      "\n",
      "\n",
      "##################################################### testing hyper-parameters... #####################################################\n",
      "\n",
      ">>> NA ENCODER :{'numerical_strategy': 'mean', 'categorical_strategy': 'None'}\n",
      "\n",
      ">>> CA ENCODER :{'strategy': 'entity_embedding'}\n",
      "\n",
      ">>> FEATURE SELECTOR :{'strategy': 'l1', 'threshold': 0.06977054910965126}\n",
      "\n",
      ">>> ESTIMATOR :{'strategy': 'XGBoost', 'colsample_bytree': 0.7765027299878727, 'learning_rate': 2.7670661625966315, 'max_depth': 2, 'n_estimators': 500, 'reg_alpha': 42.35450202186554, 'reg_lambda': 4.9499139112502455, 'subsample': 0.6757395985356892, 'base_score': 0.5, 'colsample_bylevel': 1.0, 'gamma': 0, 'max_delta_step': 0, 'min_child_weight': 1, 'missing': None, 'nthread': -1, 'objective': 'reg:linear', 'scale_pos_weight': 1, 'seed': 0, 'silent': True}\n",
      "\n"
     ]
    },
    {
     "name": "stderr",
     "output_type": "stream",
     "text": [
      "/home/leonardo/anaconda3/lib/python3.6/site-packages/mlbox/model/supervised/regression/regressor.py:98: UserWarning: Invalid parameter for regressor LightGBM. Parameter IGNORED. Check the list of available parameters with `regressor.get_params().keys()`\n",
      "  \". Parameter IGNORED. Check the list of \"\n",
      "/home/leonardo/anaconda3/lib/python3.6/site-packages/sklearn/linear_model/coordinate_descent.py:491: ConvergenceWarning: Objective did not converge. You might want to increase the number of iterations. Fitting data with very small alpha may cause precision problems.\n",
      "  ConvergenceWarning)\n",
      "/home/leonardo/anaconda3/lib/python3.6/site-packages/mlbox/optimisation/optimiser.py:428: UserWarning: An error occurred while computing the cross validation mean score. Check the parameter values and your scoring function.\n",
      "  warnings.warn(\"An error occurred while computing the cross \"\n",
      "/home/leonardo/anaconda3/lib/python3.6/site-packages/mlbox/model/supervised/regression/regressor.py:98: UserWarning: Invalid parameter for regressor LightGBM. Parameter IGNORED. Check the list of available parameters with `regressor.get_params().keys()`\n",
      "  \". Parameter IGNORED. Check the list of \"\n"
     ]
    },
    {
     "name": "stdout",
     "output_type": "stream",
     "text": [
      "\n",
      "MEAN SCORE : r2 = -inf\n",
      "VARIANCE : nan (fold 1 = -inf, fold 2 = -inf, fold 3 = -inf, fold 4 = -inf, fold 5 = -inf)\n",
      "CPU time: 1.2267699241638184 seconds\n",
      "\n",
      "\n",
      "##################################################### testing hyper-parameters... #####################################################\n",
      "\n",
      ">>> NA ENCODER :{'numerical_strategy': 'median', 'categorical_strategy': 'None'}\n",
      "\n",
      ">>> CA ENCODER :{'strategy': 'dummification'}\n",
      "\n",
      ">>> FEATURE SELECTOR :{'strategy': 'l1', 'threshold': 0.07563517829249425}\n",
      "\n",
      ">>> ESTIMATOR :{'strategy': 'XGBoost', 'colsample_bytree': 0.6523153976739278, 'learning_rate': 1.0954690125313784, 'max_depth': 3, 'n_estimators': 1250, 'reg_alpha': 71.40641236829119, 'reg_lambda': 0.1722487952992271, 'subsample': 0.8596378429148187, 'base_score': 0.5, 'colsample_bylevel': 1.0, 'gamma': 0, 'max_delta_step': 0, 'min_child_weight': 1, 'missing': None, 'nthread': -1, 'objective': 'reg:linear', 'scale_pos_weight': 1, 'seed': 0, 'silent': True}\n",
      "\n"
     ]
    },
    {
     "name": "stderr",
     "output_type": "stream",
     "text": [
      "/home/leonardo/anaconda3/lib/python3.6/site-packages/sklearn/linear_model/coordinate_descent.py:491: ConvergenceWarning: Objective did not converge. You might want to increase the number of iterations. Fitting data with very small alpha may cause precision problems.\n",
      "  ConvergenceWarning)\n",
      "/home/leonardo/anaconda3/lib/python3.6/site-packages/sklearn/linear_model/coordinate_descent.py:491: ConvergenceWarning: Objective did not converge. You might want to increase the number of iterations. Fitting data with very small alpha may cause precision problems.\n",
      "  ConvergenceWarning)\n",
      "/home/leonardo/anaconda3/lib/python3.6/site-packages/sklearn/linear_model/coordinate_descent.py:491: ConvergenceWarning: Objective did not converge. You might want to increase the number of iterations. Fitting data with very small alpha may cause precision problems.\n",
      "  ConvergenceWarning)\n",
      "/home/leonardo/anaconda3/lib/python3.6/site-packages/sklearn/linear_model/coordinate_descent.py:491: ConvergenceWarning: Objective did not converge. You might want to increase the number of iterations. Fitting data with very small alpha may cause precision problems.\n",
      "  ConvergenceWarning)\n",
      "/home/leonardo/anaconda3/lib/python3.6/site-packages/sklearn/linear_model/coordinate_descent.py:491: ConvergenceWarning: Objective did not converge. You might want to increase the number of iterations. Fitting data with very small alpha may cause precision problems.\n",
      "  ConvergenceWarning)\n"
     ]
    },
    {
     "name": "stdout",
     "output_type": "stream",
     "text": [
      "\n",
      "MEAN SCORE : r2 = 0.7331096494828186\n",
      "VARIANCE : 0.03510012334435042 (fold 1 = 0.789509085871441, fold 2 = 0.7006855901642057, fold 3 = 0.7239859633110171, fold 4 = 0.6962359752880973, fold 5 = 0.7551316327793317)\n",
      "CPU time: 28.284960985183716 seconds\n",
      "\n",
      "\n",
      "##################################################### testing hyper-parameters... #####################################################\n",
      "\n",
      ">>> NA ENCODER :{'numerical_strategy': 0, 'categorical_strategy': 'None'}\n",
      "\n",
      ">>> CA ENCODER :{'strategy': 'entity_embedding'}\n",
      "\n",
      ">>> FEATURE SELECTOR :{'strategy': 'variance', 'threshold': 0.06039217305320448}\n",
      "\n",
      ">>> ESTIMATOR :{'strategy': 'XGBoost', 'colsample_bytree': 0.6646316405293637, 'learning_rate': 0.18462809686249937, 'max_depth': 4, 'n_estimators': 300, 'reg_alpha': 48.0877821696718, 'reg_lambda': 4.4550724472919825, 'subsample': 0.7297628300320127, 'base_score': 0.5, 'colsample_bylevel': 1.0, 'gamma': 0, 'max_delta_step': 0, 'min_child_weight': 1, 'missing': None, 'nthread': -1, 'objective': 'reg:linear', 'scale_pos_weight': 1, 'seed': 0, 'silent': True}\n",
      "\n"
     ]
    },
    {
     "name": "stderr",
     "output_type": "stream",
     "text": [
      "/home/leonardo/anaconda3/lib/python3.6/site-packages/mlbox/model/supervised/regression/regressor.py:98: UserWarning: Invalid parameter for regressor LightGBM. Parameter IGNORED. Check the list of available parameters with `regressor.get_params().keys()`\n",
      "  \". Parameter IGNORED. Check the list of \"\n"
     ]
    },
    {
     "name": "stdout",
     "output_type": "stream",
     "text": [
      "\n",
      "MEAN SCORE : r2 = 0.8809216996238769\n",
      "VARIANCE : 0.02962946516229252 (fold 1 = 0.9039768162318423, fold 2 = 0.8685478288701141, fold 3 = 0.877227333955327, fold 4 = 0.8346099318855051, fold 5 = 0.9202465871765956)\n",
      "CPU time: 5.5298850536346436 seconds\n",
      "\n",
      "\n",
      "##################################################### testing hyper-parameters... #####################################################\n",
      "\n",
      ">>> NA ENCODER :{'numerical_strategy': 'median', 'categorical_strategy': 'None'}\n",
      "\n",
      ">>> CA ENCODER :{'strategy': 'entity_embedding'}\n",
      "\n",
      ">>> FEATURE SELECTOR :{'strategy': 'l1', 'threshold': 0.084504893520941}\n",
      "\n",
      ">>> ESTIMATOR :{'strategy': 'XGBoost', 'colsample_bytree': 0.8885726596852184, 'learning_rate': 2.03347758943293, 'max_depth': 3, 'n_estimators': 500, 'reg_alpha': 86.20009358321954, 'reg_lambda': 3.994262519391386, 'subsample': 0.8159268078543725, 'base_score': 0.5, 'colsample_bylevel': 1.0, 'gamma': 0, 'max_delta_step': 0, 'min_child_weight': 1, 'missing': None, 'nthread': -1, 'objective': 'reg:linear', 'scale_pos_weight': 1, 'seed': 0, 'silent': True}\n",
      "\n"
     ]
    },
    {
     "name": "stderr",
     "output_type": "stream",
     "text": [
      "/home/leonardo/anaconda3/lib/python3.6/site-packages/mlbox/model/supervised/regression/regressor.py:98: UserWarning: Invalid parameter for regressor LightGBM. Parameter IGNORED. Check the list of available parameters with `regressor.get_params().keys()`\n",
      "  \". Parameter IGNORED. Check the list of \"\n",
      "/home/leonardo/anaconda3/lib/python3.6/site-packages/sklearn/linear_model/coordinate_descent.py:491: ConvergenceWarning: Objective did not converge. You might want to increase the number of iterations. Fitting data with very small alpha may cause precision problems.\n",
      "  ConvergenceWarning)\n",
      "/home/leonardo/anaconda3/lib/python3.6/site-packages/sklearn/linear_model/coordinate_descent.py:491: ConvergenceWarning: Objective did not converge. You might want to increase the number of iterations. Fitting data with very small alpha may cause precision problems.\n",
      "  ConvergenceWarning)\n",
      "/home/leonardo/anaconda3/lib/python3.6/site-packages/sklearn/linear_model/coordinate_descent.py:491: ConvergenceWarning: Objective did not converge. You might want to increase the number of iterations. Fitting data with very small alpha may cause precision problems.\n",
      "  ConvergenceWarning)\n",
      "/home/leonardo/anaconda3/lib/python3.6/site-packages/sklearn/linear_model/coordinate_descent.py:491: ConvergenceWarning: Objective did not converge. You might want to increase the number of iterations. Fitting data with very small alpha may cause precision problems.\n",
      "  ConvergenceWarning)\n",
      "/home/leonardo/anaconda3/lib/python3.6/site-packages/sklearn/linear_model/coordinate_descent.py:491: ConvergenceWarning: Objective did not converge. You might want to increase the number of iterations. Fitting data with very small alpha may cause precision problems.\n",
      "  ConvergenceWarning)\n"
     ]
    },
    {
     "name": "stdout",
     "output_type": "stream",
     "text": [
      "\n",
      "MEAN SCORE : r2 = -1142431.2916685808\n",
      "VARIANCE : 1286768.0969368797 (fold 1 = -3951.114595458067, fold 2 = -2175773.057202737, fold 3 = -7382.141648528889, fold 4 = -3151330.1688534506, fold 5 = -373719.97604272974)\n",
      "CPU time: 8.4771568775177 seconds\n",
      "\n",
      "\n",
      "##################################################### testing hyper-parameters... #####################################################\n",
      "\n",
      ">>> NA ENCODER :{'numerical_strategy': 'median', 'categorical_strategy': 'None'}\n",
      "\n",
      ">>> CA ENCODER :{'strategy': 'entity_embedding'}\n",
      "\n",
      ">>> FEATURE SELECTOR :{'strategy': 'variance', 'threshold': 0.09124900358057768}\n",
      "\n",
      ">>> ESTIMATOR :{'strategy': 'XGBoost', 'colsample_bytree': 0.7963058664916978, 'learning_rate': 2.5031789280110166, 'max_depth': 3, 'n_estimators': 1500, 'reg_alpha': 91.25165274436421, 'reg_lambda': 1.4277596803578545, 'subsample': 0.7946768593567978, 'base_score': 0.5, 'colsample_bylevel': 1.0, 'gamma': 0, 'max_delta_step': 0, 'min_child_weight': 1, 'missing': None, 'nthread': -1, 'objective': 'reg:linear', 'scale_pos_weight': 1, 'seed': 0, 'silent': True}\n",
      "\n"
     ]
    },
    {
     "name": "stderr",
     "output_type": "stream",
     "text": [
      "/home/leonardo/anaconda3/lib/python3.6/site-packages/mlbox/model/supervised/regression/regressor.py:98: UserWarning: Invalid parameter for regressor LightGBM. Parameter IGNORED. Check the list of available parameters with `regressor.get_params().keys()`\n",
      "  \". Parameter IGNORED. Check the list of \"\n",
      "/home/leonardo/anaconda3/lib/python3.6/site-packages/mlbox/optimisation/optimiser.py:428: UserWarning: An error occurred while computing the cross validation mean score. Check the parameter values and your scoring function.\n",
      "  warnings.warn(\"An error occurred while computing the cross \"\n",
      "/home/leonardo/anaconda3/lib/python3.6/site-packages/mlbox/model/supervised/regression/regressor.py:98: UserWarning: Invalid parameter for regressor LightGBM. Parameter IGNORED. Check the list of available parameters with `regressor.get_params().keys()`\n",
      "  \". Parameter IGNORED. Check the list of \"\n"
     ]
    },
    {
     "name": "stdout",
     "output_type": "stream",
     "text": [
      "\n",
      "MEAN SCORE : r2 = -inf\n",
      "VARIANCE : nan (fold 1 = -inf, fold 2 = -inf, fold 3 = -inf, fold 4 = -inf, fold 5 = -inf)\n",
      "CPU time: 1.6324379444122314 seconds\n",
      "\n",
      "\n",
      "##################################################### testing hyper-parameters... #####################################################\n",
      "\n",
      ">>> NA ENCODER :{'numerical_strategy': 'most_frequent', 'categorical_strategy': nan}\n",
      "\n",
      ">>> CA ENCODER :{'strategy': 'label_encoding'}\n",
      "\n",
      ">>> FEATURE SELECTOR :{'strategy': 'rf_feature_importance', 'threshold': 0.06687355519482815}\n",
      "\n",
      ">>> ESTIMATOR :{'strategy': 'XGBoost', 'colsample_bytree': 0.6309759657432087, 'learning_rate': 3.852910957366345, 'max_depth': 3, 'n_estimators': 1000, 'reg_alpha': 52.80910337295522, 'reg_lambda': 2.9525986893046166, 'subsample': 0.623584635635176, 'base_score': 0.5, 'colsample_bylevel': 1.0, 'gamma': 0, 'max_delta_step': 0, 'min_child_weight': 1, 'missing': None, 'nthread': -1, 'objective': 'reg:linear', 'scale_pos_weight': 1, 'seed': 0, 'silent': True}\n",
      "\n"
     ]
    },
    {
     "name": "stderr",
     "output_type": "stream",
     "text": [
      "/home/leonardo/anaconda3/lib/python3.6/site-packages/mlbox/optimisation/optimiser.py:428: UserWarning: An error occurred while computing the cross validation mean score. Check the parameter values and your scoring function.\n",
      "  warnings.warn(\"An error occurred while computing the cross \"\n",
      "/home/leonardo/anaconda3/lib/python3.6/site-packages/mlbox/model/supervised/regression/regressor.py:98: UserWarning: Invalid parameter for regressor LightGBM. Parameter IGNORED. Check the list of available parameters with `regressor.get_params().keys()`\n",
      "  \". Parameter IGNORED. Check the list of \"\n"
     ]
    },
    {
     "name": "stdout",
     "output_type": "stream",
     "text": [
      "\n",
      "MEAN SCORE : r2 = -inf\n",
      "VARIANCE : nan (fold 1 = -inf, fold 2 = -inf, fold 3 = -inf, fold 4 = -inf, fold 5 = -inf)\n",
      "CPU time: 0.595515251159668 seconds\n",
      "\n",
      "\n",
      "##################################################### testing hyper-parameters... #####################################################\n",
      "\n",
      ">>> NA ENCODER :{'numerical_strategy': 'median', 'categorical_strategy': 'None'}\n",
      "\n",
      ">>> CA ENCODER :{'strategy': 'entity_embedding'}\n",
      "\n",
      ">>> FEATURE SELECTOR :{'strategy': 'l1', 'threshold': 0.05651904991555173}\n",
      "\n",
      ">>> ESTIMATOR :{'strategy': 'XGBoost', 'colsample_bytree': 0.8197340127710753, 'learning_rate': 0.5894139385991354, 'max_depth': 5, 'n_estimators': 500, 'reg_alpha': 80.68591375428332, 'reg_lambda': 5.19415334543027, 'subsample': 0.7849540832497244, 'base_score': 0.5, 'colsample_bylevel': 1.0, 'gamma': 0, 'max_delta_step': 0, 'min_child_weight': 1, 'missing': None, 'nthread': -1, 'objective': 'reg:linear', 'scale_pos_weight': 1, 'seed': 0, 'silent': True}\n",
      "\n"
     ]
    },
    {
     "name": "stderr",
     "output_type": "stream",
     "text": [
      "/home/leonardo/anaconda3/lib/python3.6/site-packages/sklearn/linear_model/coordinate_descent.py:491: ConvergenceWarning: Objective did not converge. You might want to increase the number of iterations. Fitting data with very small alpha may cause precision problems.\n",
      "  ConvergenceWarning)\n",
      "/home/leonardo/anaconda3/lib/python3.6/site-packages/sklearn/linear_model/coordinate_descent.py:491: ConvergenceWarning: Objective did not converge. You might want to increase the number of iterations. Fitting data with very small alpha may cause precision problems.\n",
      "  ConvergenceWarning)\n",
      "/home/leonardo/anaconda3/lib/python3.6/site-packages/sklearn/linear_model/coordinate_descent.py:491: ConvergenceWarning: Objective did not converge. You might want to increase the number of iterations. Fitting data with very small alpha may cause precision problems.\n",
      "  ConvergenceWarning)\n",
      "/home/leonardo/anaconda3/lib/python3.6/site-packages/sklearn/linear_model/coordinate_descent.py:491: ConvergenceWarning: Objective did not converge. You might want to increase the number of iterations. Fitting data with very small alpha may cause precision problems.\n",
      "  ConvergenceWarning)\n",
      "/home/leonardo/anaconda3/lib/python3.6/site-packages/sklearn/linear_model/coordinate_descent.py:491: ConvergenceWarning: Objective did not converge. You might want to increase the number of iterations. Fitting data with very small alpha may cause precision problems.\n",
      "  ConvergenceWarning)\n"
     ]
    },
    {
     "name": "stdout",
     "output_type": "stream",
     "text": [
      "\n",
      "MEAN SCORE : r2 = 0.8441816612392417\n",
      "VARIANCE : 0.03619143062854896 (fold 1 = 0.8759901533927226, fold 2 = 0.8820886436177848, fold 3 = 0.8270332631992006, fold 4 = 0.7830795758683095, fold 5 = 0.8527166701181912)\n",
      "CPU time: 13.029962539672852 seconds\n",
      "\n",
      "\n",
      "##################################################### testing hyper-parameters... #####################################################\n",
      "\n",
      ">>> NA ENCODER :{'numerical_strategy': 'mean', 'categorical_strategy': 'None'}\n",
      "\n",
      ">>> CA ENCODER :{'strategy': 'dummification'}\n",
      "\n",
      ">>> FEATURE SELECTOR :{'strategy': 'variance', 'threshold': 0.0802927336503883}\n",
      "\n",
      ">>> ESTIMATOR :{'strategy': 'XGBoost', 'colsample_bytree': 0.6145200963350603, 'learning_rate': 6.364536276416751, 'max_depth': 2, 'n_estimators': 300, 'reg_alpha': 60.68786094015478, 'reg_lambda': 7.927299553177028, 'subsample': 0.7538480236588218, 'base_score': 0.5, 'colsample_bylevel': 1.0, 'gamma': 0, 'max_delta_step': 0, 'min_child_weight': 1, 'missing': None, 'nthread': -1, 'objective': 'reg:linear', 'scale_pos_weight': 1, 'seed': 0, 'silent': True}\n",
      "\n"
     ]
    },
    {
     "name": "stderr",
     "output_type": "stream",
     "text": [
      "/home/leonardo/anaconda3/lib/python3.6/site-packages/mlbox/model/supervised/regression/regressor.py:98: UserWarning: Invalid parameter for regressor LightGBM. Parameter IGNORED. Check the list of available parameters with `regressor.get_params().keys()`\n",
      "  \". Parameter IGNORED. Check the list of \"\n",
      "/home/leonardo/anaconda3/lib/python3.6/site-packages/mlbox/optimisation/optimiser.py:428: UserWarning: An error occurred while computing the cross validation mean score. Check the parameter values and your scoring function.\n",
      "  warnings.warn(\"An error occurred while computing the cross \"\n",
      "/home/leonardo/anaconda3/lib/python3.6/site-packages/mlbox/model/supervised/regression/regressor.py:98: UserWarning: Invalid parameter for regressor LightGBM. Parameter IGNORED. Check the list of available parameters with `regressor.get_params().keys()`\n",
      "  \". Parameter IGNORED. Check the list of \"\n"
     ]
    },
    {
     "name": "stdout",
     "output_type": "stream",
     "text": [
      "\n",
      "MEAN SCORE : r2 = -inf\n",
      "VARIANCE : nan (fold 1 = -inf, fold 2 = -inf, fold 3 = -inf, fold 4 = -inf, fold 5 = -inf)\n",
      "CPU time: 1.693164587020874 seconds\n",
      "\n",
      "\n",
      "##################################################### testing hyper-parameters... #####################################################\n",
      "\n",
      ">>> NA ENCODER :{'numerical_strategy': 0, 'categorical_strategy': 'None'}\n",
      "\n",
      ">>> CA ENCODER :{'strategy': 'entity_embedding'}\n",
      "\n",
      ">>> FEATURE SELECTOR :{'strategy': 'l1', 'threshold': 0.08843141480129753}\n",
      "\n",
      ">>> ESTIMATOR :{'strategy': 'XGBoost', 'colsample_bytree': 0.7004909514218729, 'learning_rate': 3.290379365148584, 'max_depth': 4, 'n_estimators': 500, 'reg_alpha': 54.78275761351296, 'reg_lambda': 2.2623310541835373, 'subsample': 0.7396067496996728, 'base_score': 0.5, 'colsample_bylevel': 1.0, 'gamma': 0, 'max_delta_step': 0, 'min_child_weight': 1, 'missing': None, 'nthread': -1, 'objective': 'reg:linear', 'scale_pos_weight': 1, 'seed': 0, 'silent': True}\n",
      "\n"
     ]
    },
    {
     "name": "stderr",
     "output_type": "stream",
     "text": [
      "/home/leonardo/anaconda3/lib/python3.6/site-packages/sklearn/linear_model/coordinate_descent.py:491: ConvergenceWarning: Objective did not converge. You might want to increase the number of iterations. Fitting data with very small alpha may cause precision problems.\n",
      "  ConvergenceWarning)\n",
      "/home/leonardo/anaconda3/lib/python3.6/site-packages/mlbox/optimisation/optimiser.py:428: UserWarning: An error occurred while computing the cross validation mean score. Check the parameter values and your scoring function.\n",
      "  warnings.warn(\"An error occurred while computing the cross \"\n",
      "/home/leonardo/anaconda3/lib/python3.6/site-packages/mlbox/model/supervised/regression/regressor.py:98: UserWarning: Invalid parameter for regressor LightGBM. Parameter IGNORED. Check the list of available parameters with `regressor.get_params().keys()`\n",
      "  \". Parameter IGNORED. Check the list of \"\n"
     ]
    },
    {
     "name": "stdout",
     "output_type": "stream",
     "text": [
      "\n",
      "MEAN SCORE : r2 = -inf\n",
      "VARIANCE : nan (fold 1 = -inf, fold 2 = -inf, fold 3 = -inf, fold 4 = -inf, fold 5 = -inf)\n",
      "CPU time: 0.9921913146972656 seconds\n",
      "\n",
      "\n",
      "##################################################### testing hyper-parameters... #####################################################\n",
      "\n",
      ">>> NA ENCODER :{'numerical_strategy': 'median', 'categorical_strategy': nan}\n",
      "\n",
      ">>> CA ENCODER :{'strategy': 'entity_embedding'}\n",
      "\n",
      ">>> FEATURE SELECTOR :{'strategy': 'variance', 'threshold': 0.05039701256344479}\n",
      "\n",
      ">>> ESTIMATOR :{'strategy': 'XGBoost', 'colsample_bytree': 0.7364017225594112, 'learning_rate': 7.104465829485476, 'max_depth': 3, 'n_estimators': 1250, 'reg_alpha': 85.32904292512106, 'reg_lambda': 2.679488463443408, 'subsample': 0.8396498577522002, 'base_score': 0.5, 'colsample_bylevel': 1.0, 'gamma': 0, 'max_delta_step': 0, 'min_child_weight': 1, 'missing': None, 'nthread': -1, 'objective': 'reg:linear', 'scale_pos_weight': 1, 'seed': 0, 'silent': True}\n",
      "\n"
     ]
    },
    {
     "name": "stderr",
     "output_type": "stream",
     "text": [
      "/home/leonardo/anaconda3/lib/python3.6/site-packages/mlbox/optimisation/optimiser.py:428: UserWarning: An error occurred while computing the cross validation mean score. Check the parameter values and your scoring function.\n",
      "  warnings.warn(\"An error occurred while computing the cross \"\n",
      "/home/leonardo/anaconda3/lib/python3.6/site-packages/mlbox/model/supervised/regression/regressor.py:98: UserWarning: Invalid parameter for regressor LightGBM. Parameter IGNORED. Check the list of available parameters with `regressor.get_params().keys()`\n",
      "  \". Parameter IGNORED. Check the list of \"\n"
     ]
    },
    {
     "name": "stdout",
     "output_type": "stream",
     "text": [
      "\n",
      "MEAN SCORE : r2 = -inf\n",
      "VARIANCE : nan (fold 1 = -inf, fold 2 = -inf, fold 3 = -inf, fold 4 = -inf, fold 5 = -inf)\n",
      "CPU time: 0.3656272888183594 seconds\n",
      "\n",
      "\n",
      "##################################################### testing hyper-parameters... #####################################################\n",
      "\n",
      ">>> NA ENCODER :{'numerical_strategy': 'median', 'categorical_strategy': 'None'}\n",
      "\n",
      ">>> CA ENCODER :{'strategy': 'entity_embedding'}\n",
      "\n",
      ">>> FEATURE SELECTOR :{'strategy': 'rf_feature_importance', 'threshold': 0.04486456007175428}\n",
      "\n",
      ">>> ESTIMATOR :{'strategy': 'XGBoost', 'colsample_bytree': 0.683052463340154, 'learning_rate': 0.1716253774254862, 'max_depth': 3, 'n_estimators': 500, 'reg_alpha': 69.63341432204994, 'reg_lambda': 9.67115157690295, 'subsample': 0.6435623334535762, 'base_score': 0.5, 'colsample_bylevel': 1.0, 'gamma': 0, 'max_delta_step': 0, 'min_child_weight': 1, 'missing': None, 'nthread': -1, 'objective': 'reg:linear', 'scale_pos_weight': 1, 'seed': 0, 'silent': True}\n",
      "\n",
      "\n",
      "MEAN SCORE : r2 = 0.8930862824270595\n",
      "VARIANCE : 0.02263149905770892 (fold 1 = 0.909574744507367, fold 2 = 0.8942191054082453, fold 3 = 0.8792606603145695, fold 4 = 0.8588664791461657, fold 5 = 0.9235104227589491)\n",
      "CPU time: 11.356032848358154 seconds\n",
      "\n",
      "\n",
      "##################################################### testing hyper-parameters... #####################################################\n",
      "\n",
      ">>> NA ENCODER :{'numerical_strategy': 'median', 'categorical_strategy': 'None'}\n",
      "\n",
      ">>> CA ENCODER :{'strategy': 'label_encoding'}\n",
      "\n",
      ">>> FEATURE SELECTOR :{'strategy': 'rf_feature_importance', 'threshold': 0.03326533000742628}\n",
      "\n",
      ">>> ESTIMATOR :{'strategy': 'XGBoost', 'colsample_bytree': 0.6829262620465796, 'learning_rate': 1.5955790957401874, 'max_depth': 3, 'n_estimators': 1500, 'reg_alpha': 76.40435512962884, 'reg_lambda': 9.691721290719915, 'subsample': 0.6051074729599955, 'base_score': 0.5, 'colsample_bylevel': 1.0, 'gamma': 0, 'max_delta_step': 0, 'min_child_weight': 1, 'missing': None, 'nthread': -1, 'objective': 'reg:linear', 'scale_pos_weight': 1, 'seed': 0, 'silent': True}\n",
      "\n"
     ]
    },
    {
     "name": "stderr",
     "output_type": "stream",
     "text": [
      "/home/leonardo/anaconda3/lib/python3.6/site-packages/mlbox/model/supervised/regression/regressor.py:98: UserWarning: Invalid parameter for regressor LightGBM. Parameter IGNORED. Check the list of available parameters with `regressor.get_params().keys()`\n",
      "  \". Parameter IGNORED. Check the list of \"\n"
     ]
    },
    {
     "name": "stdout",
     "output_type": "stream",
     "text": [
      "\n",
      "MEAN SCORE : r2 = -2.1447946732910412\n",
      "VARIANCE : 0.4962221713363517 (fold 1 = -1.8181593864366965, fold 2 = -2.336291631177877, fold 3 = -2.4618056234976162, fold 4 = -1.3571569368794312, fold 5 = -2.7505597884635846)\n",
      "CPU time: 22.23929786682129 seconds\n",
      "\n",
      "\n",
      "##################################################### testing hyper-parameters... #####################################################\n",
      "\n",
      ">>> NA ENCODER :{'numerical_strategy': 'most_frequent', 'categorical_strategy': 'None'}\n",
      "\n",
      ">>> CA ENCODER :{'strategy': 'entity_embedding'}\n",
      "\n",
      ">>> FEATURE SELECTOR :{'strategy': 'rf_feature_importance', 'threshold': 0.025802417356925678}\n",
      "\n",
      ">>> ESTIMATOR :{'strategy': 'XGBoost', 'colsample_bytree': 0.7215493575513673, 'learning_rate': 0.9243762891435375, 'max_depth': 5, 'n_estimators': 500, 'reg_alpha': 69.026480353783, 'reg_lambda': 7.452543781622368, 'subsample': 0.8809051121822445, 'base_score': 0.5, 'colsample_bylevel': 1.0, 'gamma': 0, 'max_delta_step': 0, 'min_child_weight': 1, 'missing': None, 'nthread': -1, 'objective': 'reg:linear', 'scale_pos_weight': 1, 'seed': 0, 'silent': True}\n",
      "\n"
     ]
    },
    {
     "name": "stderr",
     "output_type": "stream",
     "text": [
      "/home/leonardo/anaconda3/lib/python3.6/site-packages/mlbox/model/supervised/regression/regressor.py:98: UserWarning: Invalid parameter for regressor LightGBM. Parameter IGNORED. Check the list of available parameters with `regressor.get_params().keys()`\n",
      "  \". Parameter IGNORED. Check the list of \"\n"
     ]
    },
    {
     "name": "stdout",
     "output_type": "stream",
     "text": [
      "\n",
      "MEAN SCORE : r2 = 0.7870240820887985\n",
      "VARIANCE : 0.014081163763349332 (fold 1 = 0.7684535581507307, fold 2 = 0.7948049165368019, fold 3 = 0.7927556928260044, fold 4 = 0.7731161710389501, fold 5 = 0.8059900718915053)\n",
      "CPU time: 13.494211912155151 seconds\n",
      "\n",
      "\n",
      "##################################################### testing hyper-parameters... #####################################################\n",
      "\n",
      ">>> NA ENCODER :{'numerical_strategy': 'median', 'categorical_strategy': 'None'}\n",
      "\n",
      ">>> CA ENCODER :{'strategy': 'dummification'}\n",
      "\n",
      ">>> FEATURE SELECTOR :{'strategy': 'rf_feature_importance', 'threshold': 0.03957599681490621}\n",
      "\n",
      ">>> ESTIMATOR :{'strategy': 'XGBoost', 'colsample_bytree': 0.6733341039001767, 'learning_rate': 5.383990622104961, 'max_depth': 3, 'n_estimators': 300, 'reg_alpha': 73.41931071800454, 'reg_lambda': 5.722369947170644, 'subsample': 0.6431636966810645, 'base_score': 0.5, 'colsample_bylevel': 1.0, 'gamma': 0, 'max_delta_step': 0, 'min_child_weight': 1, 'missing': None, 'nthread': -1, 'objective': 'reg:linear', 'scale_pos_weight': 1, 'seed': 0, 'silent': True}\n",
      "\n"
     ]
    },
    {
     "name": "stderr",
     "output_type": "stream",
     "text": [
      "/home/leonardo/anaconda3/lib/python3.6/site-packages/mlbox/model/supervised/regression/regressor.py:98: UserWarning: Invalid parameter for regressor LightGBM. Parameter IGNORED. Check the list of available parameters with `regressor.get_params().keys()`\n",
      "  \". Parameter IGNORED. Check the list of \"\n",
      "/home/leonardo/anaconda3/lib/python3.6/site-packages/mlbox/optimisation/optimiser.py:428: UserWarning: An error occurred while computing the cross validation mean score. Check the parameter values and your scoring function.\n",
      "  warnings.warn(\"An error occurred while computing the cross \"\n",
      "/home/leonardo/anaconda3/lib/python3.6/site-packages/mlbox/model/supervised/regression/regressor.py:98: UserWarning: Invalid parameter for regressor LightGBM. Parameter IGNORED. Check the list of available parameters with `regressor.get_params().keys()`\n",
      "  \". Parameter IGNORED. Check the list of \"\n"
     ]
    },
    {
     "name": "stdout",
     "output_type": "stream",
     "text": [
      "\n",
      "MEAN SCORE : r2 = -inf\n",
      "VARIANCE : nan (fold 1 = -inf, fold 2 = -inf, fold 3 = -inf, fold 4 = -inf, fold 5 = -inf)\n",
      "CPU time: 3.5460660457611084 seconds\n",
      "\n",
      "\n",
      "##################################################### testing hyper-parameters... #####################################################\n",
      "\n",
      ">>> NA ENCODER :{'numerical_strategy': 'mean', 'categorical_strategy': nan}\n",
      "\n",
      ">>> CA ENCODER :{'strategy': 'entity_embedding'}\n",
      "\n",
      ">>> FEATURE SELECTOR :{'strategy': 'rf_feature_importance', 'threshold': 0.017576467737201437}\n",
      "\n",
      ">>> ESTIMATOR :{'strategy': 'XGBoost', 'colsample_bytree': 0.659368457652846, 'learning_rate': 4.76890858714207, 'max_depth': 2, 'n_estimators': 1000, 'reg_alpha': 91.85691602274022, 'reg_lambda': 6.142649436199303, 'subsample': 0.6312138921345904, 'base_score': 0.5, 'colsample_bylevel': 1.0, 'gamma': 0, 'max_delta_step': 0, 'min_child_weight': 1, 'missing': None, 'nthread': -1, 'objective': 'reg:linear', 'scale_pos_weight': 1, 'seed': 0, 'silent': True}\n",
      "\n"
     ]
    },
    {
     "name": "stderr",
     "output_type": "stream",
     "text": [
      "/home/leonardo/anaconda3/lib/python3.6/site-packages/mlbox/optimisation/optimiser.py:428: UserWarning: An error occurred while computing the cross validation mean score. Check the parameter values and your scoring function.\n",
      "  warnings.warn(\"An error occurred while computing the cross \"\n",
      "/home/leonardo/anaconda3/lib/python3.6/site-packages/mlbox/model/supervised/regression/regressor.py:98: UserWarning: Invalid parameter for regressor LightGBM. Parameter IGNORED. Check the list of available parameters with `regressor.get_params().keys()`\n",
      "  \". Parameter IGNORED. Check the list of \"\n"
     ]
    },
    {
     "name": "stdout",
     "output_type": "stream",
     "text": [
      "\n",
      "MEAN SCORE : r2 = -inf\n",
      "VARIANCE : nan (fold 1 = -inf, fold 2 = -inf, fold 3 = -inf, fold 4 = -inf, fold 5 = -inf)\n",
      "CPU time: 0.5099523067474365 seconds\n",
      "\n",
      "\n",
      "##################################################### testing hyper-parameters... #####################################################\n",
      "\n",
      ">>> NA ENCODER :{'numerical_strategy': 'median', 'categorical_strategy': 'None'}\n",
      "\n",
      ">>> CA ENCODER :{'strategy': 'entity_embedding'}\n",
      "\n",
      ">>> FEATURE SELECTOR :{'strategy': 'rf_feature_importance', 'threshold': 0.04333941104305615}\n",
      "\n",
      ">>> ESTIMATOR :{'strategy': 'XGBoost', 'colsample_bytree': 0.754950887736264, 'learning_rate': 1.2827352747566168, 'max_depth': 3, 'n_estimators': 500, 'reg_alpha': 67.09698624010342, 'reg_lambda': 1.6453602224915418, 'subsample': 0.8979868237677724, 'base_score': 0.5, 'colsample_bylevel': 1.0, 'gamma': 0, 'max_delta_step': 0, 'min_child_weight': 1, 'missing': None, 'nthread': -1, 'objective': 'reg:linear', 'scale_pos_weight': 1, 'seed': 0, 'silent': True}\n",
      "\n",
      "\n",
      "MEAN SCORE : r2 = 0.6937666475840173\n",
      "VARIANCE : 0.018879226607425862 (fold 1 = 0.693216574790183, fold 2 = 0.6845389658960082, fold 3 = 0.6759211991944707, fold 4 = 0.6852545777222081, fold 5 = 0.729901920317216)\n",
      "CPU time: 12.675015926361084 seconds\n",
      "\n",
      "\n",
      "##################################################### testing hyper-parameters... #####################################################\n",
      "\n",
      ">>> NA ENCODER :{'numerical_strategy': 0, 'categorical_strategy': 'None'}\n",
      "\n",
      ">>> CA ENCODER :{'strategy': 'entity_embedding'}\n",
      "\n",
      ">>> FEATURE SELECTOR :{'strategy': 'rf_feature_importance', 'threshold': 0.04502029632968571}\n",
      "\n",
      ">>> ESTIMATOR :{'strategy': 'XGBoost', 'colsample_bytree': 0.7170068568275169, 'learning_rate': 2.015440634903536, 'max_depth': 4, 'n_estimators': 1250, 'reg_alpha': 24.866931693653726, 'reg_lambda': 6.823066735686885, 'subsample': 0.6192674963460226, 'base_score': 0.5, 'colsample_bylevel': 1.0, 'gamma': 0, 'max_delta_step': 0, 'min_child_weight': 1, 'missing': None, 'nthread': -1, 'objective': 'reg:linear', 'scale_pos_weight': 1, 'seed': 0, 'silent': True}\n",
      "\n"
     ]
    },
    {
     "name": "stderr",
     "output_type": "stream",
     "text": [
      "/home/leonardo/anaconda3/lib/python3.6/site-packages/mlbox/model/supervised/regression/regressor.py:98: UserWarning: Invalid parameter for regressor LightGBM. Parameter IGNORED. Check the list of available parameters with `regressor.get_params().keys()`\n",
      "  \". Parameter IGNORED. Check the list of \"\n"
     ]
    },
    {
     "name": "stdout",
     "output_type": "stream",
     "text": [
      "\n",
      "MEAN SCORE : r2 = -1.070172731645481e+25\n",
      "VARIANCE : 1.7464440800891844e+25 (fold 1 = -4.534858056153137e+25, fold 2 = -6.171207378971592e+23, fold 3 = -6.912189342762607e+23, fold 4 = -5.238837437044109e+23, fold 5 = -6.327832604864853e+24)\n",
      "CPU time: 20.571425676345825 seconds\n",
      "\n",
      "\n",
      "##################################################### testing hyper-parameters... #####################################################\n",
      "\n",
      ">>> NA ENCODER :{'numerical_strategy': 'median', 'categorical_strategy': 'None'}\n",
      "\n",
      ">>> CA ENCODER :{'strategy': 'label_encoding'}\n",
      "\n",
      ">>> FEATURE SELECTOR :{'strategy': 'rf_feature_importance', 'threshold': 0.03715678422817066}\n",
      "\n",
      ">>> ESTIMATOR :{'strategy': 'XGBoost', 'colsample_bytree': 0.693159017160172, 'learning_rate': 0.31568542828336366, 'max_depth': 3, 'n_estimators': 500, 'reg_alpha': 56.909676859060745, 'reg_lambda': 4.696233592180006, 'subsample': 0.8458566647231974, 'base_score': 0.5, 'colsample_bylevel': 1.0, 'gamma': 0, 'max_delta_step': 0, 'min_child_weight': 1, 'missing': None, 'nthread': -1, 'objective': 'reg:linear', 'scale_pos_weight': 1, 'seed': 0, 'silent': True}\n",
      "\n"
     ]
    },
    {
     "name": "stderr",
     "output_type": "stream",
     "text": [
      "/home/leonardo/anaconda3/lib/python3.6/site-packages/mlbox/model/supervised/regression/regressor.py:98: UserWarning: Invalid parameter for regressor LightGBM. Parameter IGNORED. Check the list of available parameters with `regressor.get_params().keys()`\n",
      "  \". Parameter IGNORED. Check the list of \"\n"
     ]
    },
    {
     "name": "stdout",
     "output_type": "stream",
     "text": [
      "\n",
      "MEAN SCORE : r2 = 0.881378141374824\n",
      "VARIANCE : 0.02919982040245731 (fold 1 = 0.8899022609542513, fold 2 = 0.8838974019273605, fold 3 = 0.8828706379390507, fold 4 = 0.8298148466362686, fold 5 = 0.9204055594171888)\n",
      "CPU time: 8.167901515960693 seconds\n",
      "\n",
      "\n",
      "##################################################### testing hyper-parameters... #####################################################\n",
      "\n",
      ">>> NA ENCODER :{'numerical_strategy': 'most_frequent', 'categorical_strategy': 'None'}\n",
      "\n",
      ">>> CA ENCODER :{'strategy': 'dummification'}\n",
      "\n",
      ">>> FEATURE SELECTOR :{'strategy': 'rf_feature_importance', 'threshold': 0.02896100153034311}\n",
      "\n",
      ">>> ESTIMATOR :{'strategy': 'XGBoost', 'colsample_bytree': 0.6003217565260772, 'learning_rate': 3.650834521315849, 'max_depth': 3, 'n_estimators': 300, 'reg_alpha': 83.56105580015951, 'reg_lambda': 8.183085800996906, 'subsample': 0.7062246895739394, 'base_score': 0.5, 'colsample_bylevel': 1.0, 'gamma': 0, 'max_delta_step': 0, 'min_child_weight': 1, 'missing': None, 'nthread': -1, 'objective': 'reg:linear', 'scale_pos_weight': 1, 'seed': 0, 'silent': True}\n",
      "\n"
     ]
    },
    {
     "name": "stderr",
     "output_type": "stream",
     "text": [
      "/home/leonardo/anaconda3/lib/python3.6/site-packages/mlbox/model/supervised/regression/regressor.py:98: UserWarning: Invalid parameter for regressor LightGBM. Parameter IGNORED. Check the list of available parameters with `regressor.get_params().keys()`\n",
      "  \". Parameter IGNORED. Check the list of \"\n",
      "/home/leonardo/anaconda3/lib/python3.6/site-packages/mlbox/optimisation/optimiser.py:428: UserWarning: An error occurred while computing the cross validation mean score. Check the parameter values and your scoring function.\n",
      "  warnings.warn(\"An error occurred while computing the cross \"\n",
      "/home/leonardo/anaconda3/lib/python3.6/site-packages/mlbox/model/supervised/regression/regressor.py:98: UserWarning: Invalid parameter for regressor LightGBM. Parameter IGNORED. Check the list of available parameters with `regressor.get_params().keys()`\n",
      "  \". Parameter IGNORED. Check the list of \"\n"
     ]
    },
    {
     "name": "stdout",
     "output_type": "stream",
     "text": [
      "\n",
      "MEAN SCORE : r2 = -inf\n",
      "VARIANCE : nan (fold 1 = -inf, fold 2 = -inf, fold 3 = -inf, fold 4 = -inf, fold 5 = -inf)\n",
      "CPU time: 2.3239493370056152 seconds\n",
      "\n",
      "\n",
      "##################################################### testing hyper-parameters... #####################################################\n",
      "\n",
      ">>> NA ENCODER :{'numerical_strategy': 'median', 'categorical_strategy': nan}\n",
      "\n",
      ">>> CA ENCODER :{'strategy': 'entity_embedding'}\n",
      "\n",
      ">>> FEATURE SELECTOR :{'strategy': 'rf_feature_importance', 'threshold': 0.03492654385447894}\n",
      "\n",
      ">>> ESTIMATOR :{'strategy': 'XGBoost', 'colsample_bytree': 0.6064703229374395, 'learning_rate': 2.9205892877307136, 'max_depth': 5, 'n_estimators': 500, 'reg_alpha': 5.782702738964701, 'reg_lambda': 9.230500828402993, 'subsample': 0.7673039702739933, 'base_score': 0.5, 'colsample_bylevel': 1.0, 'gamma': 0, 'max_delta_step': 0, 'min_child_weight': 1, 'missing': None, 'nthread': -1, 'objective': 'reg:linear', 'scale_pos_weight': 1, 'seed': 0, 'silent': True}\n",
      "\n"
     ]
    },
    {
     "name": "stderr",
     "output_type": "stream",
     "text": [
      "/home/leonardo/anaconda3/lib/python3.6/site-packages/mlbox/optimisation/optimiser.py:428: UserWarning: An error occurred while computing the cross validation mean score. Check the parameter values and your scoring function.\n",
      "  warnings.warn(\"An error occurred while computing the cross \"\n",
      "/home/leonardo/anaconda3/lib/python3.6/site-packages/mlbox/model/supervised/regression/regressor.py:98: UserWarning: Invalid parameter for regressor LightGBM. Parameter IGNORED. Check the list of available parameters with `regressor.get_params().keys()`\n",
      "  \". Parameter IGNORED. Check the list of \"\n"
     ]
    },
    {
     "name": "stdout",
     "output_type": "stream",
     "text": [
      "\n",
      "MEAN SCORE : r2 = -inf\n",
      "VARIANCE : nan (fold 1 = -inf, fold 2 = -inf, fold 3 = -inf, fold 4 = -inf, fold 5 = -inf)\n",
      "CPU time: 0.41607117652893066 seconds\n",
      "\n",
      "\n",
      "##################################################### testing hyper-parameters... #####################################################\n",
      "\n",
      ">>> NA ENCODER :{'numerical_strategy': 'mean', 'categorical_strategy': 'None'}\n",
      "\n",
      ">>> CA ENCODER :{'strategy': 'entity_embedding'}\n",
      "\n",
      ">>> FEATURE SELECTOR :{'strategy': 'rf_feature_importance', 'threshold': 0.054148075103537294}\n",
      "\n",
      ">>> ESTIMATOR :{'strategy': 'XGBoost', 'colsample_bytree': 0.6815086617102656, 'learning_rate': 0.12694593452074318, 'max_depth': 3, 'n_estimators': 1500, 'reg_alpha': 31.74297003022547, 'reg_lambda': 8.761945796278685, 'subsample': 0.6849509371696003, 'base_score': 0.5, 'colsample_bylevel': 1.0, 'gamma': 0, 'max_delta_step': 0, 'min_child_weight': 1, 'missing': None, 'nthread': -1, 'objective': 'reg:linear', 'scale_pos_weight': 1, 'seed': 0, 'silent': True}\n",
      "\n",
      "\n",
      "MEAN SCORE : r2 = 0.885847427277071\n",
      "VARIANCE : 0.028916882685325003 (fold 1 = 0.8957348459027995, fold 2 = 0.8939848990890701, fold 3 = 0.8903487003741356, fold 4 = 0.8313236500383795, fold 5 = 0.9178450409809701)\n",
      "CPU time: 18.4802348613739 seconds\n",
      "\n",
      "\n",
      "##################################################### testing hyper-parameters... #####################################################\n",
      "\n",
      ">>> NA ENCODER :{'numerical_strategy': 'median', 'categorical_strategy': 'None'}\n",
      "\n",
      ">>> CA ENCODER :{'strategy': 'entity_embedding'}\n",
      "\n",
      ">>> FEATURE SELECTOR :{'strategy': 'variance', 'threshold': 0.05871864242338212}\n",
      "\n",
      ">>> ESTIMATOR :{'strategy': 'XGBoost', 'colsample_bytree': 0.616822993968792, 'learning_rate': 4.179974289758372, 'max_depth': 2, 'n_estimators': 1000, 'reg_alpha': 98.59199135401703, 'reg_lambda': 6.57272543586534, 'subsample': 0.6986372454923283, 'base_score': 0.5, 'colsample_bylevel': 1.0, 'gamma': 0, 'max_delta_step': 0, 'min_child_weight': 1, 'missing': None, 'nthread': -1, 'objective': 'reg:linear', 'scale_pos_weight': 1, 'seed': 0, 'silent': True}\n",
      "\n"
     ]
    },
    {
     "name": "stderr",
     "output_type": "stream",
     "text": [
      "/home/leonardo/anaconda3/lib/python3.6/site-packages/mlbox/model/supervised/regression/regressor.py:98: UserWarning: Invalid parameter for regressor LightGBM. Parameter IGNORED. Check the list of available parameters with `regressor.get_params().keys()`\n",
      "  \". Parameter IGNORED. Check the list of \"\n",
      "/home/leonardo/anaconda3/lib/python3.6/site-packages/mlbox/optimisation/optimiser.py:428: UserWarning: An error occurred while computing the cross validation mean score. Check the parameter values and your scoring function.\n",
      "  warnings.warn(\"An error occurred while computing the cross \"\n",
      "/home/leonardo/anaconda3/lib/python3.6/site-packages/mlbox/model/supervised/regression/regressor.py:98: UserWarning: Invalid parameter for regressor LightGBM. Parameter IGNORED. Check the list of available parameters with `regressor.get_params().keys()`\n",
      "  \". Parameter IGNORED. Check the list of \"\n"
     ]
    },
    {
     "name": "stdout",
     "output_type": "stream",
     "text": [
      "\n",
      "MEAN SCORE : r2 = -inf\n",
      "VARIANCE : nan (fold 1 = -inf, fold 2 = -inf, fold 3 = -inf, fold 4 = -inf, fold 5 = -inf)\n",
      "CPU time: 1.3457810878753662 seconds\n",
      "\n",
      "\n",
      "##################################################### testing hyper-parameters... #####################################################\n",
      "\n",
      ">>> NA ENCODER :{'numerical_strategy': 0, 'categorical_strategy': 'None'}\n",
      "\n",
      ">>> CA ENCODER :{'strategy': 'label_encoding'}\n",
      "\n",
      ">>> FEATURE SELECTOR :{'strategy': 'rf_feature_importance', 'threshold': 0.04117805779603481}\n",
      "\n",
      ">>> ESTIMATOR :{'strategy': 'XGBoost', 'colsample_bytree': 0.6481234004571537, 'learning_rate': 0.8763383730143502, 'max_depth': 3, 'n_estimators': 300, 'reg_alpha': 51.510877948889686, 'reg_lambda': 9.527658052503746, 'subsample': 0.7997443915332504, 'base_score': 0.5, 'colsample_bylevel': 1.0, 'gamma': 0, 'max_delta_step': 0, 'min_child_weight': 1, 'missing': None, 'nthread': -1, 'objective': 'reg:linear', 'scale_pos_weight': 1, 'seed': 0, 'silent': True}\n",
      "\n",
      "\n",
      "MEAN SCORE : r2 = 0.816319194121591\n",
      "VARIANCE : 0.04380955655521133 (fold 1 = 0.8642113550020172, fold 2 = 0.7514463397094018, fold 3 = 0.8002841845985769, fold 4 = 0.7989736849595609, fold 5 = 0.8666804063383988)\n",
      "CPU time: 11.196882724761963 seconds\n",
      "\n",
      "\n",
      "##################################################### testing hyper-parameters... #####################################################\n",
      "\n",
      ">>> NA ENCODER :{'numerical_strategy': 'median', 'categorical_strategy': nan}\n",
      "\n",
      ">>> CA ENCODER :{'strategy': 'entity_embedding'}\n",
      "\n",
      ">>> FEATURE SELECTOR :{'strategy': 'variance', 'threshold': 0.02064256678542759}\n",
      "\n",
      ">>> ESTIMATOR :{'strategy': 'XGBoost', 'colsample_bytree': 0.7299012777759427, 'learning_rate': 7.347126438904171, 'max_depth': 4, 'n_estimators': 500, 'reg_alpha': 79.12328064117827, 'reg_lambda': 8.591860347675006, 'subsample': 0.8879164892267277, 'base_score': 0.5, 'colsample_bylevel': 1.0, 'gamma': 0, 'max_delta_step': 0, 'min_child_weight': 1, 'missing': None, 'nthread': -1, 'objective': 'reg:linear', 'scale_pos_weight': 1, 'seed': 0, 'silent': True}\n",
      "\n"
     ]
    },
    {
     "name": "stderr",
     "output_type": "stream",
     "text": [
      "/home/leonardo/anaconda3/lib/python3.6/site-packages/mlbox/model/supervised/regression/regressor.py:98: UserWarning: Invalid parameter for regressor LightGBM. Parameter IGNORED. Check the list of available parameters with `regressor.get_params().keys()`\n",
      "  \". Parameter IGNORED. Check the list of \"\n",
      "/home/leonardo/anaconda3/lib/python3.6/site-packages/mlbox/optimisation/optimiser.py:428: UserWarning: An error occurred while computing the cross validation mean score. Check the parameter values and your scoring function.\n",
      "  warnings.warn(\"An error occurred while computing the cross \"\n",
      "/home/leonardo/anaconda3/lib/python3.6/site-packages/mlbox/model/supervised/regression/regressor.py:98: UserWarning: Invalid parameter for regressor LightGBM. Parameter IGNORED. Check the list of available parameters with `regressor.get_params().keys()`\n",
      "  \". Parameter IGNORED. Check the list of \"\n"
     ]
    },
    {
     "name": "stdout",
     "output_type": "stream",
     "text": [
      "\n",
      "MEAN SCORE : r2 = -inf\n",
      "VARIANCE : nan (fold 1 = -inf, fold 2 = -inf, fold 3 = -inf, fold 4 = -inf, fold 5 = -inf)\n",
      "CPU time: 0.45581960678100586 seconds\n",
      "\n",
      "\n",
      "##################################################### testing hyper-parameters... #####################################################\n",
      "\n",
      ">>> NA ENCODER :{'numerical_strategy': 'median', 'categorical_strategy': 'None'}\n",
      "\n",
      ">>> CA ENCODER :{'strategy': 'dummification'}\n",
      "\n",
      ">>> FEATURE SELECTOR :{'strategy': 'variance', 'threshold': 0.04532507816394181}\n",
      "\n",
      ">>> ESTIMATOR :{'strategy': 'XGBoost', 'colsample_bytree': 0.6360593694255431, 'learning_rate': 8.327954379571302, 'max_depth': 3, 'n_estimators': 500, 'reg_alpha': 19.258872132468596, 'reg_lambda': 0.5578842543158449, 'subsample': 0.8115980074869802, 'base_score': 0.5, 'colsample_bylevel': 1.0, 'gamma': 0, 'max_delta_step': 0, 'min_child_weight': 1, 'missing': None, 'nthread': -1, 'objective': 'reg:linear', 'scale_pos_weight': 1, 'seed': 0, 'silent': True}\n",
      "\n"
     ]
    },
    {
     "name": "stderr",
     "output_type": "stream",
     "text": [
      "/home/leonardo/anaconda3/lib/python3.6/site-packages/mlbox/optimisation/optimiser.py:428: UserWarning: An error occurred while computing the cross validation mean score. Check the parameter values and your scoring function.\n",
      "  warnings.warn(\"An error occurred while computing the cross \"\n",
      "/home/leonardo/anaconda3/lib/python3.6/site-packages/mlbox/model/supervised/regression/regressor.py:98: UserWarning: Invalid parameter for regressor LightGBM. Parameter IGNORED. Check the list of available parameters with `regressor.get_params().keys()`\n",
      "  \". Parameter IGNORED. Check the list of \"\n"
     ]
    },
    {
     "name": "stdout",
     "output_type": "stream",
     "text": [
      "\n",
      "MEAN SCORE : r2 = -inf\n",
      "VARIANCE : nan (fold 1 = -inf, fold 2 = -inf, fold 3 = -inf, fold 4 = -inf, fold 5 = -inf)\n",
      "CPU time: 2.8826780319213867 seconds\n",
      "\n",
      "\n",
      "##################################################### testing hyper-parameters... #####################################################\n",
      "\n",
      ">>> NA ENCODER :{'numerical_strategy': 'most_frequent', 'categorical_strategy': 'None'}\n",
      "\n",
      ">>> CA ENCODER :{'strategy': 'entity_embedding'}\n",
      "\n",
      ">>> FEATURE SELECTOR :{'strategy': 'rf_feature_importance', 'threshold': 0.06218660705191581}\n",
      "\n",
      ">>> ESTIMATOR :{'strategy': 'XGBoost', 'colsample_bytree': 0.707086487455218, 'learning_rate': 5.966473831348462, 'max_depth': 3, 'n_estimators': 1250, 'reg_alpha': 95.52962246738623, 'reg_lambda': 4.008256097316969, 'subsample': 0.6479082340800878, 'base_score': 0.5, 'colsample_bylevel': 1.0, 'gamma': 0, 'max_delta_step': 0, 'min_child_weight': 1, 'missing': None, 'nthread': -1, 'objective': 'reg:linear', 'scale_pos_weight': 1, 'seed': 0, 'silent': True}\n",
      "\n"
     ]
    },
    {
     "name": "stderr",
     "output_type": "stream",
     "text": [
      "/home/leonardo/anaconda3/lib/python3.6/site-packages/mlbox/optimisation/optimiser.py:428: UserWarning: An error occurred while computing the cross validation mean score. Check the parameter values and your scoring function.\n",
      "  warnings.warn(\"An error occurred while computing the cross \"\n",
      "/home/leonardo/anaconda3/lib/python3.6/site-packages/mlbox/model/supervised/regression/regressor.py:98: UserWarning: Invalid parameter for regressor LightGBM. Parameter IGNORED. Check the list of available parameters with `regressor.get_params().keys()`\n",
      "  \". Parameter IGNORED. Check the list of \"\n"
     ]
    },
    {
     "name": "stdout",
     "output_type": "stream",
     "text": [
      "\n",
      "MEAN SCORE : r2 = -inf\n",
      "VARIANCE : nan (fold 1 = -inf, fold 2 = -inf, fold 3 = -inf, fold 4 = -inf, fold 5 = -inf)\n",
      "CPU time: 3.178279161453247 seconds\n",
      "\n",
      "\n",
      "##################################################### testing hyper-parameters... #####################################################\n",
      "\n",
      ">>> NA ENCODER :{'numerical_strategy': 'median', 'categorical_strategy': 'None'}\n",
      "\n",
      ">>> CA ENCODER :{'strategy': 'entity_embedding'}\n",
      "\n",
      ">>> FEATURE SELECTOR :{'strategy': 'variance', 'threshold': 0.049414495754557634}\n",
      "\n",
      ">>> ESTIMATOR :{'strategy': 'XGBoost', 'colsample_bytree': 0.6272302565652621, 'learning_rate': 2.192121616373947, 'max_depth': 5, 'n_estimators': 300, 'reg_alpha': 89.00692355022528, 'reg_lambda': 3.2661275442631093, 'subsample': 0.6610256881826476, 'base_score': 0.5, 'colsample_bylevel': 1.0, 'gamma': 0, 'max_delta_step': 0, 'min_child_weight': 1, 'missing': None, 'nthread': -1, 'objective': 'reg:linear', 'scale_pos_weight': 1, 'seed': 0, 'silent': True}\n",
      "\n",
      "\n",
      "MEAN SCORE : r2 = -8.457038152673275e+43\n",
      "VARIANCE : 5.638773864976102e+43 (fold 1 = -1.3232680590627636e+44, fold 2 = -8.696579291914276e+41, fold 3 = -3.2395804182281463e+43, fold 4 = -1.3046604222252101e+44, fold 5 = -1.2679359739339352e+44)\n",
      "CPU time: 7.777506113052368 seconds\n",
      "\n",
      "\n",
      "##################################################### testing hyper-parameters... #####################################################\n",
      "\n",
      ">>> NA ENCODER :{'numerical_strategy': 'median', 'categorical_strategy': 'None'}\n",
      "\n",
      ">>> CA ENCODER :{'strategy': 'entity_embedding'}\n",
      "\n",
      ">>> FEATURE SELECTOR :{'strategy': 'rf_feature_importance', 'threshold': 0.07200416800806649}\n",
      "\n",
      ">>> ESTIMATOR :{'strategy': 'XGBoost', 'colsample_bytree': 0.6689181609578865, 'learning_rate': 2.504301230625735, 'max_depth': 3, 'n_estimators': 500, 'reg_alpha': 73.32407037492236, 'reg_lambda': 7.317112955187969, 'subsample': 0.7168743955674531, 'base_score': 0.5, 'colsample_bylevel': 1.0, 'gamma': 0, 'max_delta_step': 0, 'min_child_weight': 1, 'missing': None, 'nthread': -1, 'objective': 'reg:linear', 'scale_pos_weight': 1, 'seed': 0, 'silent': True}\n",
      "\n"
     ]
    },
    {
     "name": "stderr",
     "output_type": "stream",
     "text": [
      "/home/leonardo/anaconda3/lib/python3.6/site-packages/mlbox/model/supervised/regression/regressor.py:98: UserWarning: Invalid parameter for regressor LightGBM. Parameter IGNORED. Check the list of available parameters with `regressor.get_params().keys()`\n",
      "  \". Parameter IGNORED. Check the list of \"\n",
      "/home/leonardo/anaconda3/lib/python3.6/site-packages/mlbox/optimisation/optimiser.py:428: UserWarning: An error occurred while computing the cross validation mean score. Check the parameter values and your scoring function.\n",
      "  warnings.warn(\"An error occurred while computing the cross \"\n",
      "/home/leonardo/anaconda3/lib/python3.6/site-packages/mlbox/model/supervised/regression/regressor.py:98: UserWarning: Invalid parameter for regressor LightGBM. Parameter IGNORED. Check the list of available parameters with `regressor.get_params().keys()`\n",
      "  \". Parameter IGNORED. Check the list of \"\n",
      "/home/leonardo/anaconda3/lib/python3.6/site-packages/mlbox/optimisation/optimiser.py:428: UserWarning: An error occurred while computing the cross validation mean score. Check the parameter values and your scoring function.\n",
      "  warnings.warn(\"An error occurred while computing the cross \"\n",
      "/home/leonardo/anaconda3/lib/python3.6/site-packages/mlbox/model/supervised/regression/regressor.py:98: UserWarning: Invalid parameter for regressor LightGBM. Parameter IGNORED. Check the list of available parameters with `regressor.get_params().keys()`\n",
      "  \". Parameter IGNORED. Check the list of \"\n"
     ]
    },
    {
     "name": "stdout",
     "output_type": "stream",
     "text": [
      "\n",
      "MEAN SCORE : r2 = -inf\n",
      "VARIANCE : nan (fold 1 = -inf, fold 2 = -inf, fold 3 = -inf, fold 4 = -inf, fold 5 = -inf)\n",
      "CPU time: 2.1167194843292236 seconds\n",
      "\n",
      "\n",
      "##################################################### testing hyper-parameters... #####################################################\n",
      "\n",
      ">>> NA ENCODER :{'numerical_strategy': 'mean', 'categorical_strategy': nan}\n",
      "\n",
      ">>> CA ENCODER :{'strategy': 'label_encoding'}\n",
      "\n",
      ">>> FEATURE SELECTOR :{'strategy': 'variance', 'threshold': 0.06863128413580545}\n",
      "\n",
      ">>> ESTIMATOR :{'strategy': 'XGBoost', 'colsample_bytree': 0.6210229889841765, 'learning_rate': 9.23220958043563, 'max_depth': 2, 'n_estimators': 1000, 'reg_alpha': 66.11910070363992, 'reg_lambda': 1.203438672464967, 'subsample': 0.6363098554105973, 'base_score': 0.5, 'colsample_bylevel': 1.0, 'gamma': 0, 'max_delta_step': 0, 'min_child_weight': 1, 'missing': None, 'nthread': -1, 'objective': 'reg:linear', 'scale_pos_weight': 1, 'seed': 0, 'silent': True}\n",
      "\n",
      "\n",
      "MEAN SCORE : r2 = -inf\n",
      "VARIANCE : nan (fold 1 = -inf, fold 2 = -inf, fold 3 = -inf, fold 4 = -inf, fold 5 = -inf)\n",
      "CPU time: 0.02150273323059082 seconds\n",
      "\n",
      "\n",
      "##################################################### testing hyper-parameters... #####################################################\n",
      "\n",
      ">>> NA ENCODER :{'numerical_strategy': 'median', 'categorical_strategy': 'None'}\n",
      "\n",
      ">>> CA ENCODER :{'strategy': 'entity_embedding'}\n",
      "\n",
      ">>> FEATURE SELECTOR :{'strategy': 'rf_feature_importance', 'threshold': 0.027666580922776733}\n",
      "\n",
      ">>> ESTIMATOR :{'strategy': 'XGBoost', 'colsample_bytree': 0.7006998703507532, 'learning_rate': 0.5215105565548046, 'max_depth': 3, 'n_estimators': 1500, 'reg_alpha': 40.17973064978477, 'reg_lambda': 5.146845557038618, 'subsample': 0.6701706805604176, 'base_score': 0.5, 'colsample_bylevel': 1.0, 'gamma': 0, 'max_delta_step': 0, 'min_child_weight': 1, 'missing': None, 'nthread': -1, 'objective': 'reg:linear', 'scale_pos_weight': 1, 'seed': 0, 'silent': True}\n",
      "\n",
      "\n",
      "MEAN SCORE : r2 = 0.8597142597499625\n",
      "VARIANCE : 0.03477474327851047 (fold 1 = 0.9198934105476751, fold 2 = 0.836879768525727, fold 3 = 0.8375731216597843, fold 4 = 0.8266402970858927, fold 5 = 0.8775847009307334)\n",
      "CPU time: 23.831448078155518 seconds\n",
      "\n",
      "\n",
      "##################################################### testing hyper-parameters... #####################################################\n",
      "\n",
      ">>> NA ENCODER :{'numerical_strategy': 0, 'categorical_strategy': 'None'}\n",
      "\n",
      ">>> CA ENCODER :{'strategy': 'dummification'}\n",
      "\n",
      ">>> FEATURE SELECTOR :{'strategy': 'variance', 'threshold': 0.04758088934549224}\n",
      "\n",
      ">>> ESTIMATOR :{'strategy': 'XGBoost', 'colsample_bytree': 0.6881120361322648, 'learning_rate': 1.0720658286798412, 'max_depth': 4, 'n_estimators': 300, 'reg_alpha': 62.22506627793756, 'reg_lambda': 7.823760966532406, 'subsample': 0.8332917211278478, 'base_score': 0.5, 'colsample_bylevel': 1.0, 'gamma': 0, 'max_delta_step': 0, 'min_child_weight': 1, 'missing': None, 'nthread': -1, 'objective': 'reg:linear', 'scale_pos_weight': 1, 'seed': 0, 'silent': True}\n",
      "\n"
     ]
    },
    {
     "name": "stderr",
     "output_type": "stream",
     "text": [
      "/home/leonardo/anaconda3/lib/python3.6/site-packages/mlbox/model/supervised/regression/regressor.py:98: UserWarning: Invalid parameter for regressor LightGBM. Parameter IGNORED. Check the list of available parameters with `regressor.get_params().keys()`\n",
      "  \". Parameter IGNORED. Check the list of \"\n"
     ]
    },
    {
     "name": "stdout",
     "output_type": "stream",
     "text": [
      "\n",
      "MEAN SCORE : r2 = 0.750357884135419\n",
      "VARIANCE : 0.042564676842711285 (fold 1 = 0.8025868091468947, fold 2 = 0.7466279427826998, fold 3 = 0.7299647000373128, fold 4 = 0.6838352999595205, fold 5 = 0.7887746687506674)\n",
      "CPU time: 17.562392234802246 seconds\n",
      "\n",
      "\n",
      "##################################################### testing hyper-parameters... #####################################################\n",
      "\n",
      ">>> NA ENCODER :{'numerical_strategy': 'median', 'categorical_strategy': 'None'}\n",
      "\n",
      ">>> CA ENCODER :{'strategy': 'entity_embedding'}\n",
      "\n",
      ">>> FEATURE SELECTOR :{'strategy': 'rf_feature_importance', 'threshold': 0.0637853958455462}\n",
      "\n",
      ">>> ESTIMATOR :{'strategy': 'XGBoost', 'colsample_bytree': 0.7446098918025312, 'learning_rate': 1.640652093106023, 'max_depth': 3, 'n_estimators': 500, 'reg_alpha': 46.69782838725984, 'reg_lambda': 3.6045040867768425, 'subsample': 0.8604352442828314, 'base_score': 0.5, 'colsample_bylevel': 1.0, 'gamma': 0, 'max_delta_step': 0, 'min_child_weight': 1, 'missing': None, 'nthread': -1, 'objective': 'reg:linear', 'scale_pos_weight': 1, 'seed': 0, 'silent': True}\n",
      "\n"
     ]
    },
    {
     "name": "stderr",
     "output_type": "stream",
     "text": [
      "/home/leonardo/anaconda3/lib/python3.6/site-packages/mlbox/model/supervised/regression/regressor.py:98: UserWarning: Invalid parameter for regressor LightGBM. Parameter IGNORED. Check the list of available parameters with `regressor.get_params().keys()`\n",
      "  \". Parameter IGNORED. Check the list of \"\n"
     ]
    },
    {
     "name": "stdout",
     "output_type": "stream",
     "text": [
      "\n",
      "MEAN SCORE : r2 = 0.3247888070552749\n",
      "VARIANCE : 0.12491892241846704 (fold 1 = 0.14299214123508353, fold 2 = 0.31343046873728264, fold 3 = 0.4234268733675498, fold 4 = 0.49583833470118566, fold 5 = 0.2482562172352728)\n",
      "CPU time: 11.45302677154541 seconds\n",
      "\n",
      "\n",
      "##################################################### testing hyper-parameters... #####################################################\n",
      "\n",
      ">>> NA ENCODER :{'numerical_strategy': 'most_frequent', 'categorical_strategy': 'None'}\n",
      "\n",
      ">>> CA ENCODER :{'strategy': 'entity_embedding'}\n",
      "\n",
      ">>> FEATURE SELECTOR :{'strategy': 'variance', 'threshold': 0.057591326743959136}\n",
      "\n",
      ">>> ESTIMATOR :{'strategy': 'XGBoost', 'colsample_bytree': 0.663094311780198, 'learning_rate': 1.8478774640478657, 'max_depth': 3, 'n_estimators': 500, 'reg_alpha': 70.14902079646143, 'reg_lambda': 9.857630069344205, 'subsample': 0.6087097250838849, 'base_score': 0.5, 'colsample_bylevel': 1.0, 'gamma': 0, 'max_delta_step': 0, 'min_child_weight': 1, 'missing': None, 'nthread': -1, 'objective': 'reg:linear', 'scale_pos_weight': 1, 'seed': 0, 'silent': True}\n",
      "\n"
     ]
    },
    {
     "name": "stderr",
     "output_type": "stream",
     "text": [
      "/home/leonardo/anaconda3/lib/python3.6/site-packages/mlbox/model/supervised/regression/regressor.py:98: UserWarning: Invalid parameter for regressor LightGBM. Parameter IGNORED. Check the list of available parameters with `regressor.get_params().keys()`\n",
      "  \". Parameter IGNORED. Check the list of \"\n"
     ]
    },
    {
     "name": "stdout",
     "output_type": "stream",
     "text": [
      "\n",
      "MEAN SCORE : r2 = -417.62715174124594\n",
      "VARIANCE : 205.385665603618 (fold 1 = -601.1921673778244, fold 2 = -715.1933636682888, fold 3 = -288.1125712734925, fold 4 = -170.81378288056433, fold 5 = -312.8238735060598)\n",
      "CPU time: 7.471105575561523 seconds\n",
      "\n",
      "\n",
      "##################################################### testing hyper-parameters... #####################################################\n",
      "\n",
      ">>> NA ENCODER :{'numerical_strategy': 'median', 'categorical_strategy': 'None'}\n",
      "\n",
      ">>> CA ENCODER :{'strategy': 'entity_embedding'}\n",
      "\n",
      ">>> FEATURE SELECTOR :{'strategy': 'rf_feature_importance', 'threshold': 0.052558257926698396}\n",
      "\n",
      ">>> ESTIMATOR :{'strategy': 'XGBoost', 'colsample_bytree': 0.7619808455549096, 'learning_rate': 0.005283146397314975, 'max_depth': 5, 'n_estimators': 1250, 'reg_alpha': 59.014724773104305, 'reg_lambda': 2.0002059318052625, 'subsample': 0.7797062220114718, 'base_score': 0.5, 'colsample_bylevel': 1.0, 'gamma': 0, 'max_delta_step': 0, 'min_child_weight': 1, 'missing': None, 'nthread': -1, 'objective': 'reg:linear', 'scale_pos_weight': 1, 'seed': 0, 'silent': True}\n",
      "\n"
     ]
    },
    {
     "name": "stderr",
     "output_type": "stream",
     "text": [
      "/home/leonardo/anaconda3/lib/python3.6/site-packages/mlbox/model/supervised/regression/regressor.py:98: UserWarning: Invalid parameter for regressor LightGBM. Parameter IGNORED. Check the list of available parameters with `regressor.get_params().keys()`\n",
      "  \". Parameter IGNORED. Check the list of \"\n"
     ]
    },
    {
     "name": "stdout",
     "output_type": "stream",
     "text": [
      "\n",
      "MEAN SCORE : r2 = 0.8985508020406799\n",
      "VARIANCE : 0.03132124735412742 (fold 1 = 0.9199618144959046, fold 2 = 0.9089099972109769, fold 3 = 0.8826050319752659, fold 4 = 0.8461420423549997, fold 5 = 0.9351351241662522)\n",
      "CPU time: 26.41271185874939 seconds\n",
      "\n",
      "\n",
      "##################################################### testing hyper-parameters... #####################################################\n",
      "\n",
      ">>> NA ENCODER :{'numerical_strategy': 'median', 'categorical_strategy': nan}\n",
      "\n",
      ">>> CA ENCODER :{'strategy': 'label_encoding'}\n",
      "\n",
      ">>> FEATURE SELECTOR :{'strategy': 'variance', 'threshold': 0.06072686372390537}\n",
      "\n",
      ">>> ESTIMATOR :{'strategy': 'XGBoost', 'colsample_bytree': 0.8297972033250911, 'learning_rate': 1.3282670475768157, 'max_depth': 5, 'n_estimators': 1250, 'reg_alpha': 37.91164421640486, 'reg_lambda': 2.1491907186868584, 'subsample': 0.7790699812739093, 'base_score': 0.5, 'colsample_bylevel': 1.0, 'gamma': 0, 'max_delta_step': 0, 'min_child_weight': 1, 'missing': None, 'nthread': -1, 'objective': 'reg:linear', 'scale_pos_weight': 1, 'seed': 0, 'silent': True}\n",
      "\n",
      "\n",
      "MEAN SCORE : r2 = -inf\n",
      "VARIANCE : nan (fold 1 = -inf, fold 2 = -inf, fold 3 = -inf, fold 4 = -inf, fold 5 = -inf)\n",
      "CPU time: 0.01572132110595703 seconds\n",
      "\n",
      "\n",
      "##################################################### testing hyper-parameters... #####################################################\n",
      "\n",
      ">>> NA ENCODER :{'numerical_strategy': 'mean', 'categorical_strategy': 'None'}\n",
      "\n",
      ">>> CA ENCODER :{'strategy': 'entity_embedding'}\n",
      "\n",
      ">>> FEATURE SELECTOR :{'strategy': 'l1', 'threshold': 0.05175189711623268}\n",
      "\n",
      ">>> ESTIMATOR :{'strategy': 'XGBoost', 'colsample_bytree': 0.7639792041524706, 'learning_rate': 6.753931703482712, 'max_depth': 5, 'n_estimators': 1250, 'reg_alpha': 62.925655574878505, 'reg_lambda': 1.7755650252253692, 'subsample': 0.7725149831853712, 'base_score': 0.5, 'colsample_bylevel': 1.0, 'gamma': 0, 'max_delta_step': 0, 'min_child_weight': 1, 'missing': None, 'nthread': -1, 'objective': 'reg:linear', 'scale_pos_weight': 1, 'seed': 0, 'silent': True}\n",
      "\n"
     ]
    },
    {
     "name": "stderr",
     "output_type": "stream",
     "text": [
      "/home/leonardo/anaconda3/lib/python3.6/site-packages/mlbox/model/supervised/regression/regressor.py:98: UserWarning: Invalid parameter for regressor LightGBM. Parameter IGNORED. Check the list of available parameters with `regressor.get_params().keys()`\n",
      "  \". Parameter IGNORED. Check the list of \"\n",
      "/home/leonardo/anaconda3/lib/python3.6/site-packages/mlbox/optimisation/optimiser.py:428: UserWarning: An error occurred while computing the cross validation mean score. Check the parameter values and your scoring function.\n",
      "  warnings.warn(\"An error occurred while computing the cross \"\n",
      "/home/leonardo/anaconda3/lib/python3.6/site-packages/mlbox/model/supervised/regression/regressor.py:98: UserWarning: Invalid parameter for regressor LightGBM. Parameter IGNORED. Check the list of available parameters with `regressor.get_params().keys()`\n",
      "  \". Parameter IGNORED. Check the list of \"\n",
      "/home/leonardo/anaconda3/lib/python3.6/site-packages/sklearn/linear_model/coordinate_descent.py:491: ConvergenceWarning: Objective did not converge. You might want to increase the number of iterations. Fitting data with very small alpha may cause precision problems.\n",
      "  ConvergenceWarning)\n",
      "/home/leonardo/anaconda3/lib/python3.6/site-packages/mlbox/optimisation/optimiser.py:428: UserWarning: An error occurred while computing the cross validation mean score. Check the parameter values and your scoring function.\n",
      "  warnings.warn(\"An error occurred while computing the cross \"\n",
      "/home/leonardo/anaconda3/lib/python3.6/site-packages/mlbox/model/supervised/regression/regressor.py:98: UserWarning: Invalid parameter for regressor LightGBM. Parameter IGNORED. Check the list of available parameters with `regressor.get_params().keys()`\n",
      "  \". Parameter IGNORED. Check the list of \"\n"
     ]
    },
    {
     "name": "stdout",
     "output_type": "stream",
     "text": [
      "\n",
      "MEAN SCORE : r2 = -inf\n",
      "VARIANCE : nan (fold 1 = -inf, fold 2 = -inf, fold 3 = -inf, fold 4 = -inf, fold 5 = -inf)\n",
      "CPU time: 2.2081339359283447 seconds\n",
      "\n",
      "\n",
      "##################################################### testing hyper-parameters... #####################################################\n",
      "\n",
      ">>> NA ENCODER :{'numerical_strategy': 'median', 'categorical_strategy': 'None'}\n",
      "\n",
      ">>> CA ENCODER :{'strategy': 'entity_embedding'}\n",
      "\n",
      ">>> FEATURE SELECTOR :{'strategy': 'variance', 'threshold': 0.075995625827281}\n",
      "\n",
      ">>> ESTIMATOR :{'strategy': 'XGBoost', 'colsample_bytree': 0.8101143377853796, 'learning_rate': 5.21332562273517, 'max_depth': 5, 'n_estimators': 1250, 'reg_alpha': 59.147107557874286, 'reg_lambda': 2.692650511176167, 'subsample': 0.7884981243037392, 'base_score': 0.5, 'colsample_bylevel': 1.0, 'gamma': 0, 'max_delta_step': 0, 'min_child_weight': 1, 'missing': None, 'nthread': -1, 'objective': 'reg:linear', 'scale_pos_weight': 1, 'seed': 0, 'silent': True}\n",
      "\n"
     ]
    },
    {
     "name": "stderr",
     "output_type": "stream",
     "text": [
      "/home/leonardo/anaconda3/lib/python3.6/site-packages/mlbox/optimisation/optimiser.py:428: UserWarning: An error occurred while computing the cross validation mean score. Check the parameter values and your scoring function.\n",
      "  warnings.warn(\"An error occurred while computing the cross \"\n",
      "/home/leonardo/anaconda3/lib/python3.6/site-packages/mlbox/model/supervised/regression/regressor.py:98: UserWarning: Invalid parameter for regressor LightGBM. Parameter IGNORED. Check the list of available parameters with `regressor.get_params().keys()`\n",
      "  \". Parameter IGNORED. Check the list of \"\n"
     ]
    },
    {
     "name": "stdout",
     "output_type": "stream",
     "text": [
      "\n",
      "MEAN SCORE : r2 = -inf\n",
      "VARIANCE : nan (fold 1 = -inf, fold 2 = -inf, fold 3 = -inf, fold 4 = -inf, fold 5 = -inf)\n",
      "CPU time: 1.4456264972686768 seconds\n",
      "\n",
      "\n",
      "##################################################### testing hyper-parameters... #####################################################\n",
      "\n",
      ">>> NA ENCODER :{'numerical_strategy': 0, 'categorical_strategy': 'None'}\n",
      "\n",
      ">>> CA ENCODER :{'strategy': 'dummification'}\n",
      "\n",
      ">>> FEATURE SELECTOR :{'strategy': 'rf_feature_importance', 'threshold': 0.05422470813462334}\n",
      "\n",
      ">>> ESTIMATOR :{'strategy': 'XGBoost', 'colsample_bytree': 0.778359512633904, 'learning_rate': 3.422074669151232, 'max_depth': 5, 'n_estimators': 1250, 'reg_alpha': 44.25956425754488, 'reg_lambda': 0.0005965376716989823, 'subsample': 0.8264347008027677, 'base_score': 0.5, 'colsample_bylevel': 1.0, 'gamma': 0, 'max_delta_step': 0, 'min_child_weight': 1, 'missing': None, 'nthread': -1, 'objective': 'reg:linear', 'scale_pos_weight': 1, 'seed': 0, 'silent': True}\n",
      "\n"
     ]
    },
    {
     "name": "stderr",
     "output_type": "stream",
     "text": [
      "/home/leonardo/anaconda3/lib/python3.6/site-packages/mlbox/optimisation/optimiser.py:428: UserWarning: An error occurred while computing the cross validation mean score. Check the parameter values and your scoring function.\n",
      "  warnings.warn(\"An error occurred while computing the cross \"\n",
      "/home/leonardo/anaconda3/lib/python3.6/site-packages/mlbox/model/supervised/regression/regressor.py:98: UserWarning: Invalid parameter for regressor LightGBM. Parameter IGNORED. Check the list of available parameters with `regressor.get_params().keys()`\n",
      "  \". Parameter IGNORED. Check the list of \"\n"
     ]
    },
    {
     "name": "stdout",
     "output_type": "stream",
     "text": [
      "\n",
      "MEAN SCORE : r2 = -inf\n",
      "VARIANCE : nan (fold 1 = -inf, fold 2 = -inf, fold 3 = -inf, fold 4 = -inf, fold 5 = -inf)\n",
      "CPU time: 3.8723950386047363 seconds\n",
      "\n",
      "\n",
      "##################################################### testing hyper-parameters... #####################################################\n",
      "\n",
      ">>> NA ENCODER :{'numerical_strategy': 'median', 'categorical_strategy': 'None'}\n",
      "\n",
      ">>> CA ENCODER :{'strategy': 'entity_embedding'}\n",
      "\n",
      ">>> FEATURE SELECTOR :{'strategy': 'l1', 'threshold': 0.09995068544326367}\n",
      "\n",
      ">>> ESTIMATOR :{'strategy': 'XGBoost', 'colsample_bytree': 0.773997025472519, 'learning_rate': 0.7503261789656694, 'max_depth': 5, 'n_estimators': 1250, 'reg_alpha': 8.344216061732894, 'reg_lambda': 0.8866779153459348, 'subsample': 0.8020906643826651, 'base_score': 0.5, 'colsample_bylevel': 1.0, 'gamma': 0, 'max_delta_step': 0, 'min_child_weight': 1, 'missing': None, 'nthread': -1, 'objective': 'reg:linear', 'scale_pos_weight': 1, 'seed': 0, 'silent': True}\n",
      "\n"
     ]
    },
    {
     "name": "stderr",
     "output_type": "stream",
     "text": [
      "/home/leonardo/anaconda3/lib/python3.6/site-packages/sklearn/linear_model/coordinate_descent.py:491: ConvergenceWarning: Objective did not converge. You might want to increase the number of iterations. Fitting data with very small alpha may cause precision problems.\n",
      "  ConvergenceWarning)\n",
      "/home/leonardo/anaconda3/lib/python3.6/site-packages/sklearn/linear_model/coordinate_descent.py:491: ConvergenceWarning: Objective did not converge. You might want to increase the number of iterations. Fitting data with very small alpha may cause precision problems.\n",
      "  ConvergenceWarning)\n",
      "/home/leonardo/anaconda3/lib/python3.6/site-packages/sklearn/linear_model/coordinate_descent.py:491: ConvergenceWarning: Objective did not converge. You might want to increase the number of iterations. Fitting data with very small alpha may cause precision problems.\n",
      "  ConvergenceWarning)\n",
      "/home/leonardo/anaconda3/lib/python3.6/site-packages/sklearn/linear_model/coordinate_descent.py:491: ConvergenceWarning: Objective did not converge. You might want to increase the number of iterations. Fitting data with very small alpha may cause precision problems.\n",
      "  ConvergenceWarning)\n",
      "/home/leonardo/anaconda3/lib/python3.6/site-packages/sklearn/linear_model/coordinate_descent.py:491: ConvergenceWarning: Objective did not converge. You might want to increase the number of iterations. Fitting data with very small alpha may cause precision problems.\n",
      "  ConvergenceWarning)\n"
     ]
    },
    {
     "name": "stdout",
     "output_type": "stream",
     "text": [
      "\n",
      "MEAN SCORE : r2 = 0.785191599204804\n",
      "VARIANCE : 0.0382440052978977 (fold 1 = 0.7805484126385267, fold 2 = 0.8040489011198242, fold 3 = 0.7838757501380781, fold 4 = 0.7202149144585162, fold 5 = 0.8372700176690755)\n",
      "CPU time: 18.6309916973114 seconds\n",
      "\n",
      "\n",
      "##################################################### testing hyper-parameters... #####################################################\n",
      "\n",
      ">>> NA ENCODER :{'numerical_strategy': 'most_frequent', 'categorical_strategy': nan}\n",
      "\n",
      ">>> CA ENCODER :{'strategy': 'entity_embedding'}\n",
      "\n",
      ">>> FEATURE SELECTOR :{'strategy': 'variance', 'threshold': 0.09634309191063786}\n",
      "\n",
      ">>> ESTIMATOR :{'strategy': 'XGBoost', 'colsample_bytree': 0.785005566798538, 'learning_rate': 0.43037972336136116, 'max_depth': 5, 'n_estimators': 1250, 'reg_alpha': 54.185215856077505, 'reg_lambda': 1.2393780399303345, 'subsample': 0.7284461215145372, 'base_score': 0.5, 'colsample_bylevel': 1.0, 'gamma': 0, 'max_delta_step': 0, 'min_child_weight': 1, 'missing': None, 'nthread': -1, 'objective': 'reg:linear', 'scale_pos_weight': 1, 'seed': 0, 'silent': True}\n",
      "\n"
     ]
    },
    {
     "name": "stderr",
     "output_type": "stream",
     "text": [
      "/home/leonardo/anaconda3/lib/python3.6/site-packages/mlbox/model/supervised/regression/regressor.py:98: UserWarning: Invalid parameter for regressor LightGBM. Parameter IGNORED. Check the list of available parameters with `regressor.get_params().keys()`\n",
      "  \". Parameter IGNORED. Check the list of \"\n",
      "/home/leonardo/anaconda3/lib/python3.6/site-packages/mlbox/optimisation/optimiser.py:428: UserWarning: An error occurred while computing the cross validation mean score. Check the parameter values and your scoring function.\n",
      "  warnings.warn(\"An error occurred while computing the cross \"\n",
      "/home/leonardo/anaconda3/lib/python3.6/site-packages/mlbox/model/supervised/regression/regressor.py:98: UserWarning: Invalid parameter for regressor LightGBM. Parameter IGNORED. Check the list of available parameters with `regressor.get_params().keys()`\n",
      "  \". Parameter IGNORED. Check the list of \"\n"
     ]
    },
    {
     "name": "stdout",
     "output_type": "stream",
     "text": [
      "\n",
      "MEAN SCORE : r2 = -inf\n",
      "VARIANCE : nan (fold 1 = -inf, fold 2 = -inf, fold 3 = -inf, fold 4 = -inf, fold 5 = -inf)\n",
      "CPU time: 0.4577944278717041 seconds\n",
      "\n",
      "\n",
      "##################################################### testing hyper-parameters... #####################################################\n",
      "\n",
      ">>> NA ENCODER :{'numerical_strategy': 'median', 'categorical_strategy': 'None'}\n",
      "\n",
      ">>> CA ENCODER :{'strategy': 'entity_embedding'}\n",
      "\n",
      ">>> FEATURE SELECTOR :{'strategy': 'l1', 'threshold': 0.06520576666488172}\n",
      "\n",
      ">>> ESTIMATOR :{'strategy': 'XGBoost', 'colsample_bytree': 0.7613161044388862, 'learning_rate': 4.3814651571154615, 'max_depth': 5, 'n_estimators': 1250, 'reg_alpha': 56.172111131185154, 'reg_lambda': 0.3179771111757881, 'subsample': 0.7508827335072108, 'base_score': 0.5, 'colsample_bylevel': 1.0, 'gamma': 0, 'max_delta_step': 0, 'min_child_weight': 1, 'missing': None, 'nthread': -1, 'objective': 'reg:linear', 'scale_pos_weight': 1, 'seed': 0, 'silent': True}\n",
      "\n"
     ]
    },
    {
     "name": "stderr",
     "output_type": "stream",
     "text": [
      "/home/leonardo/anaconda3/lib/python3.6/site-packages/sklearn/linear_model/coordinate_descent.py:491: ConvergenceWarning: Objective did not converge. You might want to increase the number of iterations. Fitting data with very small alpha may cause precision problems.\n",
      "  ConvergenceWarning)\n",
      "/home/leonardo/anaconda3/lib/python3.6/site-packages/mlbox/optimisation/optimiser.py:428: UserWarning: An error occurred while computing the cross validation mean score. Check the parameter values and your scoring function.\n",
      "  warnings.warn(\"An error occurred while computing the cross \"\n",
      "/home/leonardo/anaconda3/lib/python3.6/site-packages/mlbox/model/supervised/regression/regressor.py:98: UserWarning: Invalid parameter for regressor LightGBM. Parameter IGNORED. Check the list of available parameters with `regressor.get_params().keys()`\n",
      "  \". Parameter IGNORED. Check the list of \"\n"
     ]
    },
    {
     "name": "stdout",
     "output_type": "stream",
     "text": [
      "\n",
      "MEAN SCORE : r2 = -inf\n",
      "VARIANCE : nan (fold 1 = -inf, fold 2 = -inf, fold 3 = -inf, fold 4 = -inf, fold 5 = -inf)\n",
      "CPU time: 1.469806432723999 seconds\n",
      "\n",
      "\n",
      "##################################################### testing hyper-parameters... #####################################################\n",
      "\n",
      ">>> NA ENCODER :{'numerical_strategy': 'median', 'categorical_strategy': 'None'}\n",
      "\n",
      ">>> CA ENCODER :{'strategy': 'label_encoding'}\n",
      "\n",
      ">>> FEATURE SELECTOR :{'strategy': 'rf_feature_importance', 'threshold': 0.09335882563054006}\n",
      "\n",
      ">>> ESTIMATOR :{'strategy': 'XGBoost', 'colsample_bytree': 0.7497429162363018, 'learning_rate': 2.287924813841969, 'max_depth': 5, 'n_estimators': 1250, 'reg_alpha': 29.116136947541012, 'reg_lambda': 4.120822576691229, 'subsample': 0.7406406766594765, 'base_score': 0.5, 'colsample_bylevel': 1.0, 'gamma': 0, 'max_delta_step': 0, 'min_child_weight': 1, 'missing': None, 'nthread': -1, 'objective': 'reg:linear', 'scale_pos_weight': 1, 'seed': 0, 'silent': True}\n",
      "\n"
     ]
    },
    {
     "name": "stderr",
     "output_type": "stream",
     "text": [
      "/home/leonardo/anaconda3/lib/python3.6/site-packages/mlbox/optimisation/optimiser.py:428: UserWarning: An error occurred while computing the cross validation mean score. Check the parameter values and your scoring function.\n",
      "  warnings.warn(\"An error occurred while computing the cross \"\n",
      "/home/leonardo/anaconda3/lib/python3.6/site-packages/mlbox/model/supervised/regression/regressor.py:98: UserWarning: Invalid parameter for regressor LightGBM. Parameter IGNORED. Check the list of available parameters with `regressor.get_params().keys()`\n",
      "  \". Parameter IGNORED. Check the list of \"\n"
     ]
    },
    {
     "name": "stdout",
     "output_type": "stream",
     "text": [
      "\n",
      "MEAN SCORE : r2 = -inf\n",
      "VARIANCE : nan (fold 1 = -inf, fold 2 = -inf, fold 3 = -inf, fold 4 = -inf, fold 5 = -inf)\n",
      "CPU time: 2.033068895339966 seconds\n",
      "\n",
      "\n",
      "##################################################### testing hyper-parameters... #####################################################\n",
      "\n",
      ">>> NA ENCODER :{'numerical_strategy': 'median', 'categorical_strategy': 'None'}\n",
      "\n",
      ">>> CA ENCODER :{'strategy': 'entity_embedding'}\n",
      "\n",
      ">>> FEATURE SELECTOR :{'strategy': 'variance', 'threshold': 0.07411131741501906}\n",
      "\n",
      ">>> ESTIMATOR :{'strategy': 'XGBoost', 'colsample_bytree': 0.8639824181939184, 'learning_rate': 5.663800459887364, 'max_depth': 5, 'n_estimators': 300, 'reg_alpha': 35.04100254828847, 'reg_lambda': 2.5001635991374043, 'subsample': 0.7553346211519351, 'base_score': 0.5, 'colsample_bylevel': 1.0, 'gamma': 0, 'max_delta_step': 0, 'min_child_weight': 1, 'missing': None, 'nthread': -1, 'objective': 'reg:linear', 'scale_pos_weight': 1, 'seed': 0, 'silent': True}\n",
      "\n"
     ]
    },
    {
     "name": "stderr",
     "output_type": "stream",
     "text": [
      "/home/leonardo/anaconda3/lib/python3.6/site-packages/mlbox/optimisation/optimiser.py:428: UserWarning: An error occurred while computing the cross validation mean score. Check the parameter values and your scoring function.\n",
      "  warnings.warn(\"An error occurred while computing the cross \"\n",
      "/home/leonardo/anaconda3/lib/python3.6/site-packages/mlbox/model/supervised/regression/regressor.py:98: UserWarning: Invalid parameter for regressor LightGBM. Parameter IGNORED. Check the list of available parameters with `regressor.get_params().keys()`\n",
      "  \". Parameter IGNORED. Check the list of \"\n"
     ]
    },
    {
     "name": "stdout",
     "output_type": "stream",
     "text": [
      "\n",
      "MEAN SCORE : r2 = -inf\n",
      "VARIANCE : nan (fold 1 = -inf, fold 2 = -inf, fold 3 = -inf, fold 4 = -inf, fold 5 = -inf)\n",
      "CPU time: 1.314028263092041 seconds\n",
      "\n",
      "\n",
      "##################################################### testing hyper-parameters... #####################################################\n",
      "\n",
      ">>> NA ENCODER :{'numerical_strategy': 'mean', 'categorical_strategy': 'None'}\n",
      "\n",
      ">>> CA ENCODER :{'strategy': 'dummification'}\n",
      "\n",
      ">>> FEATURE SELECTOR :{'strategy': 'l1', 'threshold': 0.07022859878231996}\n",
      "\n",
      ">>> ESTIMATOR :{'strategy': 'XGBoost', 'colsample_bytree': 0.7409429687346747, 'learning_rate': 0.028049588649240842, 'max_depth': 5, 'n_estimators': 1250, 'reg_alpha': 41.44466755694445, 'reg_lambda': 1.8679075916870995, 'subsample': 0.8198051474906307, 'base_score': 0.5, 'colsample_bylevel': 1.0, 'gamma': 0, 'max_delta_step': 0, 'min_child_weight': 1, 'missing': None, 'nthread': -1, 'objective': 'reg:linear', 'scale_pos_weight': 1, 'seed': 0, 'silent': True}\n",
      "\n"
     ]
    },
    {
     "name": "stderr",
     "output_type": "stream",
     "text": [
      "/home/leonardo/anaconda3/lib/python3.6/site-packages/sklearn/linear_model/coordinate_descent.py:491: ConvergenceWarning: Objective did not converge. You might want to increase the number of iterations. Fitting data with very small alpha may cause precision problems.\n",
      "  ConvergenceWarning)\n",
      "/home/leonardo/anaconda3/lib/python3.6/site-packages/sklearn/linear_model/coordinate_descent.py:491: ConvergenceWarning: Objective did not converge. You might want to increase the number of iterations. Fitting data with very small alpha may cause precision problems.\n",
      "  ConvergenceWarning)\n",
      "/home/leonardo/anaconda3/lib/python3.6/site-packages/sklearn/linear_model/coordinate_descent.py:491: ConvergenceWarning: Objective did not converge. You might want to increase the number of iterations. Fitting data with very small alpha may cause precision problems.\n",
      "  ConvergenceWarning)\n",
      "/home/leonardo/anaconda3/lib/python3.6/site-packages/sklearn/linear_model/coordinate_descent.py:491: ConvergenceWarning: Objective did not converge. You might want to increase the number of iterations. Fitting data with very small alpha may cause precision problems.\n",
      "  ConvergenceWarning)\n",
      "/home/leonardo/anaconda3/lib/python3.6/site-packages/sklearn/linear_model/coordinate_descent.py:491: ConvergenceWarning: Objective did not converge. You might want to increase the number of iterations. Fitting data with very small alpha may cause precision problems.\n",
      "  ConvergenceWarning)\n"
     ]
    },
    {
     "name": "stdout",
     "output_type": "stream",
     "text": [
      "\n",
      "MEAN SCORE : r2 = 0.9010286301437265\n",
      "VARIANCE : 0.03811554741970726 (fold 1 = 0.9307961290917246, fold 2 = 0.9117256486052092, fold 3 = 0.8906607354056835, fold 4 = 0.8325806559414556, fold 5 = 0.9393799816745593)\n",
      "CPU time: 44.28027820587158 seconds\n",
      "\n",
      "\n",
      "##################################################### testing hyper-parameters... #####################################################\n",
      "\n",
      ">>> NA ENCODER :{'numerical_strategy': 'mean', 'categorical_strategy': 'None'}\n",
      "\n",
      ">>> CA ENCODER :{'strategy': 'dummification'}\n",
      "\n",
      ">>> FEATURE SELECTOR :{'strategy': 'l1', 'threshold': 0.08581687364474215}\n",
      "\n",
      ">>> ESTIMATOR :{'strategy': 'XGBoost', 'colsample_bytree': 0.789715914220416, 'learning_rate': 2.8182297204789237, 'max_depth': 5, 'n_estimators': 1250, 'reg_alpha': 20.506382194522686, 'reg_lambda': 2.878557254830746, 'subsample': 0.8545512907027247, 'base_score': 0.5, 'colsample_bylevel': 1.0, 'gamma': 0, 'max_delta_step': 0, 'min_child_weight': 1, 'missing': None, 'nthread': -1, 'objective': 'reg:linear', 'scale_pos_weight': 1, 'seed': 0, 'silent': True}\n",
      "\n"
     ]
    },
    {
     "name": "stderr",
     "output_type": "stream",
     "text": [
      "/home/leonardo/anaconda3/lib/python3.6/site-packages/mlbox/model/supervised/regression/regressor.py:98: UserWarning: Invalid parameter for regressor LightGBM. Parameter IGNORED. Check the list of available parameters with `regressor.get_params().keys()`\n",
      "  \". Parameter IGNORED. Check the list of \"\n",
      "/home/leonardo/anaconda3/lib/python3.6/site-packages/sklearn/linear_model/coordinate_descent.py:491: ConvergenceWarning: Objective did not converge. You might want to increase the number of iterations. Fitting data with very small alpha may cause precision problems.\n",
      "  ConvergenceWarning)\n",
      "/home/leonardo/anaconda3/lib/python3.6/site-packages/mlbox/optimisation/optimiser.py:428: UserWarning: An error occurred while computing the cross validation mean score. Check the parameter values and your scoring function.\n",
      "  warnings.warn(\"An error occurred while computing the cross \"\n",
      "/home/leonardo/anaconda3/lib/python3.6/site-packages/mlbox/model/supervised/regression/regressor.py:98: UserWarning: Invalid parameter for regressor LightGBM. Parameter IGNORED. Check the list of available parameters with `regressor.get_params().keys()`\n",
      "  \". Parameter IGNORED. Check the list of \"\n"
     ]
    },
    {
     "name": "stdout",
     "output_type": "stream",
     "text": [
      "\n",
      "MEAN SCORE : r2 = -inf\n",
      "VARIANCE : nan (fold 1 = -inf, fold 2 = -inf, fold 3 = -inf, fold 4 = -inf, fold 5 = -inf)\n",
      "CPU time: 3.465012788772583 seconds\n",
      "\n",
      "\n",
      "##################################################### testing hyper-parameters... #####################################################\n",
      "\n",
      ">>> NA ENCODER :{'numerical_strategy': 'mean', 'categorical_strategy': nan}\n",
      "\n",
      ">>> CA ENCODER :{'strategy': 'dummification'}\n",
      "\n",
      ">>> FEATURE SELECTOR :{'strategy': 'l1', 'threshold': 0.07092838025323596}\n",
      "\n",
      ">>> ESTIMATOR :{'strategy': 'XGBoost', 'colsample_bytree': 0.8506749580404083, 'learning_rate': 4.780791057915323, 'max_depth': 5, 'n_estimators': 1250, 'reg_alpha': 41.09917271262567, 'reg_lambda': 2.016277751405274, 'subsample': 0.8222197395802532, 'base_score': 0.5, 'colsample_bylevel': 1.0, 'gamma': 0, 'max_delta_step': 0, 'min_child_weight': 1, 'missing': None, 'nthread': -1, 'objective': 'reg:linear', 'scale_pos_weight': 1, 'seed': 0, 'silent': True}\n",
      "\n",
      "\n",
      "MEAN SCORE : r2 = -inf\n",
      "VARIANCE : nan (fold 1 = -inf, fold 2 = -inf, fold 3 = -inf, fold 4 = -inf, fold 5 = -inf)\n",
      "CPU time: 0.38257741928100586 seconds\n",
      "\n",
      "\n",
      "\n",
      "~~~~~~~~~~~~~~~~~~~~~~~~~~~~~~~~~~~~~~~~~~~~~~~~~~~~~~~~~~~~~~~~~~~~~~~~~~~~~~~~~~~~~~~~~~~~~~~~~~~~~~~~~~~~~~~~~~~~~~~~~~~~~~~~~~~~~~~~~\n",
      "~~~~~~~~~~~~~~~~~~~~~~~~~~~~~~~~~~~~~~~~~~~~~~~~~~~~~~~~~ BEST HYPER-PARAMETERS ~~~~~~~~~~~~~~~~~~~~~~~~~~~~~~~~~~~~~~~~~~~~~~~~~~~~~~~~~\n",
      "~~~~~~~~~~~~~~~~~~~~~~~~~~~~~~~~~~~~~~~~~~~~~~~~~~~~~~~~~~~~~~~~~~~~~~~~~~~~~~~~~~~~~~~~~~~~~~~~~~~~~~~~~~~~~~~~~~~~~~~~~~~~~~~~~~~~~~~~~\n",
      "\n",
      "{'ce__strategy': 'dummification', 'est__colsample_bytree': 0.7409429687346747, 'est__gamma': 0.1265049323608497, 'est__learning_rate': 0.028049588649240842, 'est__max_depth': 5, 'est__n_estimators': 1250, 'est__reg_alpha': 41.44466755694445, 'est__reg_lambda': 1.8679075916870995, 'est__strategy': 'XGBoost', 'est__subsample': 0.8198051474906307, 'fs__strategy': 'l1', 'fs__threshold': 0.07022859878231996, 'ne__categorical_strategy': 'None', 'ne__numerical_strategy': 'mean'}\n"
     ]
    },
    {
     "name": "stderr",
     "output_type": "stream",
     "text": [
      "/home/leonardo/anaconda3/lib/python3.6/site-packages/mlbox/optimisation/optimiser.py:428: UserWarning: An error occurred while computing the cross validation mean score. Check the parameter values and your scoring function.\n",
      "  warnings.warn(\"An error occurred while computing the cross \"\n"
     ]
    }
   ],
   "source": [
    "best = opt.optimise(space, data, 120)"
   ]
  },
  {
   "cell_type": "code",
   "execution_count": 10,
   "metadata": {},
   "outputs": [
    {
     "name": "stderr",
     "output_type": "stream",
     "text": [
      "/home/leonardo/anaconda3/lib/python3.6/site-packages/mlbox/model/supervised/regression/regressor.py:98: UserWarning: Invalid parameter for regressor LightGBM. Parameter IGNORED. Check the list of available parameters with `regressor.get_params().keys()`\n",
      "  \". Parameter IGNORED. Check the list of \"\n"
     ]
    },
    {
     "name": "stdout",
     "output_type": "stream",
     "text": [
      "\n",
      "fitting the pipeline ...\n"
     ]
    },
    {
     "name": "stderr",
     "output_type": "stream",
     "text": [
      "/home/leonardo/anaconda3/lib/python3.6/site-packages/sklearn/linear_model/coordinate_descent.py:491: ConvergenceWarning: Objective did not converge. You might want to increase the number of iterations. Fitting data with very small alpha may cause precision problems.\n",
      "  ConvergenceWarning)\n"
     ]
    },
    {
     "name": "stdout",
     "output_type": "stream",
     "text": [
      "CPU time: 10.653747797012329 seconds\n",
      "\n",
      "predicting...\n"
     ]
    },
    {
     "name": "stderr",
     "output_type": "stream",
     "text": [
      "/home/leonardo/anaconda3/lib/python3.6/site-packages/mlbox/prediction/predictor.py:386: UserWarning: Unable to get feature importances !\n",
      "  warnings.warn(\"Unable to get feature importances !\")\n"
     ]
    },
    {
     "name": "stdout",
     "output_type": "stream",
     "text": [
      "CPU time: 0.8523459434509277 seconds\n",
      "\n",
      "> Overview on predictions : \n",
      "\n",
      "   SalePrice_predicted\n",
      "0        124595.546875\n",
      "1        157030.859375\n",
      "2        186048.703125\n",
      "3        197343.640625\n",
      "4        183292.500000\n",
      "5        173502.437500\n",
      "6        172602.703125\n",
      "7        167457.359375\n",
      "8        181305.906250\n",
      "9        125234.679688\n",
      "\n",
      "dumping predictions into directory : save ...\n"
     ]
    },
    {
     "data": {
      "text/plain": [
       "<mlbox.prediction.predictor.Predictor at 0x7f609e7f6d68>"
      ]
     },
     "execution_count": 10,
     "metadata": {},
     "output_type": "execute_result"
    }
   ],
   "source": [
    "prd = Predictor()\n",
    "prd.fit_predict(best, data)"
   ]
  },
  {
   "cell_type": "code",
   "execution_count": 13,
   "metadata": {},
   "outputs": [],
   "source": [
    "df_test = pd.read_csv(\"test.csv\" )\n",
    "submission = pd.read_csv(\"SalePrice_predictions.csv\")"
   ]
  },
  {
   "cell_type": "code",
   "execution_count": 14,
   "metadata": {},
   "outputs": [],
   "source": [
    "my_submission = pd.DataFrame({'Id': df_test.Id, 'SalePrice': submission['SalePrice_predicted']})\n",
    "# you could use any filename. We choose submission here\n",
    "my_submission.to_csv('submission.csv', index=False)"
   ]
  },
  {
   "cell_type": "code",
   "execution_count": null,
   "metadata": {},
   "outputs": [],
   "source": []
  },
  {
   "cell_type": "code",
   "execution_count": null,
   "metadata": {},
   "outputs": [],
   "source": []
  }
 ],
 "metadata": {
  "kernelspec": {
   "display_name": "Python 3",
   "language": "python",
   "name": "python3"
  },
  "language_info": {
   "codemirror_mode": {
    "name": "ipython",
    "version": 3
   },
   "file_extension": ".py",
   "mimetype": "text/x-python",
   "name": "python",
   "nbconvert_exporter": "python",
   "pygments_lexer": "ipython3",
   "version": "3.6.4"
  }
 },
 "nbformat": 4,
 "nbformat_minor": 2
}
